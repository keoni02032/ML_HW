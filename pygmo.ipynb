{
  "nbformat": 4,
  "nbformat_minor": 0,
  "metadata": {
    "colab": {
      "provenance": [],
      "collapsed_sections": []
    },
    "kernelspec": {
      "name": "python3",
      "display_name": "Python 3"
    },
    "language_info": {
      "name": "python"
    }
  },
  "cells": [
    {
      "cell_type": "code",
      "source": [
        "# !pip install pygmo"
      ],
      "metadata": {
        "id": "7VC0XG7SK1mG"
      },
      "execution_count": null,
      "outputs": []
    },
    {
      "cell_type": "code",
      "source": [
        "import pygmo as pg"
      ],
      "metadata": {
        "id": "3bLWBsiMZT_P"
      },
      "execution_count": null,
      "outputs": []
    },
    {
      "cell_type": "code",
      "source": [
        "class func_but:\n",
        "    def fun(self, start):\n",
        "        return (start[0] + 2 * start[1] - 7) * (start[0] + 2 * start[1] - 7) + (2 * start[0] + start[1] - 5) * (2 * start[0] + start[1] - 5)\n",
        "\n",
        "    def create_net(self):\n",
        "        return ([-10, -10], [10, 10])\n",
        "\n",
        "\n",
        "class func_korm:\n",
        "    def fun(self, start):\n",
        "        return math.sin(start[0] + start[1]) + (start[0] - start[1]) * (start[0] - start[1]) - 1.5 * start[0] + 2.5 * start[1] + 1\n",
        "\n",
        "    def create_net(self):\n",
        "        return ([-1.5, -3], [4, 4])\n",
        "\n",
        "\n",
        "class func_him:\n",
        "    def fun(self, start):\n",
        "        return (start[0] * start[0]  + start[1] - 11) * (start[0] * start[0]  + start[1] - 11) + (start[0] + start[1] * start[1] - 7) * (start[0] + start[1] * start[1] - 7)\n",
        "\n",
        "    def create_net(self):\n",
        "        return ([-10, -10], [10, 10])\n",
        "\n",
        "class but_func:\n",
        "    def __init__(self, func):\n",
        "        self.func = func\n",
        "\n",
        "    def fitness(self, x):\n",
        "        return [self.func.fun(x)]\n",
        "\n",
        "    def get_bounds(self):\n",
        "        return self.func.create_net()"
      ],
      "metadata": {
        "id": "gSVa38Mocggb"
      },
      "execution_count": null,
      "outputs": []
    },
    {
      "cell_type": "markdown",
      "source": [
        "### Тестирование bee_colony"
      ],
      "metadata": {
        "id": "9jFRHC90dqLr"
      }
    },
    {
      "cell_type": "code",
      "source": [
        "problem = pg.problem(but_func(func_but()))\n",
        "algorithm = pg.algorithm(pg.bee_colony(gen=40, limit=50))\n",
        "population = pg.population(problem, 100)\n",
        "population = algorithm.evolve(population)\n",
        "print(population.champion_f)\n",
        "print(population.champion_x)"
      ],
      "metadata": {
        "colab": {
          "base_uri": "https://localhost:8080/"
        },
        "id": "f1pRCE9E7bj3",
        "outputId": "92d84755-9ce8-4e46-a1e3-ed8e6245d5d8"
      },
      "execution_count": null,
      "outputs": [
        {
          "output_type": "stream",
          "name": "stdout",
          "text": [
            "[0.00013165]\n",
            "[1.00812532 2.99510078]\n"
          ]
        }
      ]
    },
    {
      "cell_type": "code",
      "source": [
        "problem = pg.problem(but_func(func_korm()))\n",
        "algorithm = pg.algorithm(pg.bee_colony(gen=40, limit=50))\n",
        "population = pg.population(problem, 100)\n",
        "population = algorithm.evolve(population)\n",
        "print(population.champion_f)\n",
        "print(population.champion_x)"
      ],
      "metadata": {
        "id": "p4tj2SRQ7bmB",
        "colab": {
          "base_uri": "https://localhost:8080/"
        },
        "outputId": "19bad98b-4a8c-4d05-f2ed-bec85227d878"
      },
      "execution_count": null,
      "outputs": [
        {
          "output_type": "stream",
          "name": "stdout",
          "text": [
            "[-1.91322285]\n",
            "[-0.54742315 -1.54746025]\n"
          ]
        }
      ]
    },
    {
      "cell_type": "code",
      "source": [
        "problem = pg.problem(but_func(func_him()))\n",
        "algorithm = pg.algorithm(pg.bee_colony(gen=40, limit=50))\n",
        "population = pg.population(problem, 100)\n",
        "population = algorithm.evolve(population)\n",
        "print(population.champion_f)\n",
        "print(population.champion_x)"
      ],
      "metadata": {
        "id": "bABWYglzTuEw",
        "colab": {
          "base_uri": "https://localhost:8080/"
        },
        "outputId": "47c6a471-5aee-4adf-828f-cfea104e0e4d"
      },
      "execution_count": null,
      "outputs": [
        {
          "output_type": "stream",
          "name": "stdout",
          "text": [
            "[1.05958305e-06]\n",
            "[-3.77923445 -3.28329223]\n"
          ]
        }
      ]
    },
    {
      "cell_type": "markdown",
      "source": [
        "### Тестирование gwo"
      ],
      "metadata": {
        "id": "QR7Gp9RMdzLL"
      }
    },
    {
      "cell_type": "code",
      "source": [
        "problem = pg.problem(but_func(func_but()))\n",
        "algorithm = pg.algorithm(pg.gwo(gen=40))\n",
        "population = pg.population(problem, 100)\n",
        "population = algorithm.evolve(population)\n",
        "print(population.champion_f)\n",
        "print(population.champion_x)"
      ],
      "metadata": {
        "colab": {
          "base_uri": "https://localhost:8080/"
        },
        "id": "wCODIxtpdyYL",
        "outputId": "e1fbc089-3adc-47a1-df60-b5e2aacc3946"
      },
      "execution_count": null,
      "outputs": [
        {
          "output_type": "stream",
          "name": "stdout",
          "text": [
            "[2.64349186e-06]\n",
            "[1.0011043  2.99881708]\n"
          ]
        }
      ]
    },
    {
      "cell_type": "code",
      "source": [
        "problem = pg.problem(but_func(func_korm()))\n",
        "algorithm = pg.algorithm(pg.gwo(gen=40))\n",
        "population = pg.population(problem, 100)\n",
        "population = algorithm.evolve(population)\n",
        "print(population.champion_f)\n",
        "print(population.champion_x)"
      ],
      "metadata": {
        "colab": {
          "base_uri": "https://localhost:8080/"
        },
        "id": "XaStu8Qidf_r",
        "outputId": "d9a2259a-dcc0-4c9a-8ef6-52a10307a1a8"
      },
      "execution_count": null,
      "outputs": [
        {
          "output_type": "stream",
          "name": "stdout",
          "text": [
            "[-1.91322287]\n",
            "[-0.54713372 -1.54694156]\n"
          ]
        }
      ]
    },
    {
      "cell_type": "code",
      "source": [
        "problem = pg.problem(but_func(func_him()))\n",
        "algorithm = pg.algorithm(pg.gwo(gen=40))\n",
        "population = pg.population(problem, 100)\n",
        "population = algorithm.evolve(population)\n",
        "print(population.champion_f)\n",
        "print(population.champion_x)"
      ],
      "metadata": {
        "colab": {
          "base_uri": "https://localhost:8080/"
        },
        "id": "FKYSvmLfd0nU",
        "outputId": "2393f840-4809-40aa-801e-6226d70130d0"
      },
      "execution_count": null,
      "outputs": [
        {
          "output_type": "stream",
          "name": "stdout",
          "text": [
            "[0.00032615]\n",
            "[2.99844461 2.00475058]\n"
          ]
        }
      ]
    },
    {
      "cell_type": "markdown",
      "source": [
        "### Тестирование sea"
      ],
      "metadata": {
        "id": "rQzB-dWQd0w0"
      }
    },
    {
      "cell_type": "code",
      "source": [
        "problem = pg.problem(but_func(func_but()))\n",
        "algorithm = pg.algorithm(pg.sea(gen=80))\n",
        "population = pg.population(problem, 1000)\n",
        "population = algorithm.evolve(population)\n",
        "print(population.champion_f)\n",
        "print(population.champion_x)"
      ],
      "metadata": {
        "colab": {
          "base_uri": "https://localhost:8080/"
        },
        "id": "1MZVHu0dd1WF",
        "outputId": "760bdc92-05a8-4023-fd05-ce36fb4dec31"
      },
      "execution_count": null,
      "outputs": [
        {
          "output_type": "stream",
          "name": "stdout",
          "text": [
            "[0.19906397]\n",
            "[1.29847262 2.67323402]\n"
          ]
        }
      ]
    },
    {
      "cell_type": "code",
      "source": [
        "problem = pg.problem(but_func(func_korm()))\n",
        "algorithm = pg.algorithm(pg.sea(gen=80))\n",
        "population = pg.population(problem, 1000)\n",
        "population = algorithm.evolve(population)\n",
        "print(population.champion_f)\n",
        "print(population.champion_x)"
      ],
      "metadata": {
        "colab": {
          "base_uri": "https://localhost:8080/"
        },
        "id": "8o0oeaqNd2GL",
        "outputId": "0d96c23f-8559-448e-86f4-1972d864153e"
      },
      "execution_count": null,
      "outputs": [
        {
          "output_type": "stream",
          "name": "stdout",
          "text": [
            "[-1.91304113]\n",
            "[-0.54079854 -1.55427549]\n"
          ]
        }
      ]
    },
    {
      "cell_type": "code",
      "source": [
        "problem = pg.problem(but_func(func_him()))\n",
        "algorithm = pg.algorithm(pg.sea(gen=40))\n",
        "population = pg.population(problem, 1000)\n",
        "population = algorithm.evolve(population)\n",
        "print(population.champion_f)\n",
        "print(population.champion_x)"
      ],
      "metadata": {
        "colab": {
          "base_uri": "https://localhost:8080/"
        },
        "id": "OmcH1_eEd2PD",
        "outputId": "e5624421-de3d-4fc0-cb84-4d3ce2e9ce9e"
      },
      "execution_count": null,
      "outputs": [
        {
          "output_type": "stream",
          "name": "stdout",
          "text": [
            "[0.01071212]\n",
            "[2.99626967 1.97749002]\n"
          ]
        }
      ]
    },
    {
      "cell_type": "code",
      "source": [],
      "metadata": {
        "id": "LQwsuFOJfqgk"
      },
      "execution_count": null,
      "outputs": []
    }
  ]
}