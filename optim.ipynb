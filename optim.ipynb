{
 "cells": [
  {
   "cell_type": "code",
   "execution_count": 1,
   "id": "9a95f9f9",
   "metadata": {
    "execution": {
     "iopub.execute_input": "2022-10-29T08:16:02.360043Z",
     "iopub.status.busy": "2022-10-29T08:16:02.359255Z",
     "iopub.status.idle": "2022-10-29T08:16:02.370117Z",
     "shell.execute_reply": "2022-10-29T08:16:02.369120Z"
    },
    "papermill": {
     "duration": 0.022697,
     "end_time": "2022-10-29T08:16:02.372657",
     "exception": false,
     "start_time": "2022-10-29T08:16:02.349960",
     "status": "completed"
    },
    "tags": []
   },
   "outputs": [],
   "source": [
    "import numpy as np\n",
    "from matplotlib import pyplot as plt\n",
    "from typing import Tuple, Mapping"
   ]
  },
  {
   "cell_type": "code",
   "execution_count": 2,
   "id": "caf71a0e",
   "metadata": {
    "execution": {
     "iopub.execute_input": "2022-10-29T08:16:02.387844Z",
     "iopub.status.busy": "2022-10-29T08:16:02.387099Z",
     "iopub.status.idle": "2022-10-29T08:16:35.655286Z",
     "shell.execute_reply": "2022-10-29T08:16:35.653898Z"
    },
    "papermill": {
     "duration": 33.278722,
     "end_time": "2022-10-29T08:16:35.657941",
     "exception": false,
     "start_time": "2022-10-29T08:16:02.379219",
     "status": "completed"
    },
    "tags": []
   },
   "outputs": [
    {
     "name": "stdout",
     "output_type": "stream",
     "text": [
      "Requirement already satisfied: ipympl in /opt/conda/lib/python3.7/site-packages (0.7.0)\r\n",
      "Requirement already satisfied: ipykernel>=4.7 in /opt/conda/lib/python3.7/site-packages (from ipympl) (6.15.0)\r\n",
      "Requirement already satisfied: matplotlib>=2.0.0 in /opt/conda/lib/python3.7/site-packages (from ipympl) (3.5.3)\r\n",
      "Requirement already satisfied: ipywidgets>=7.6.0 in /opt/conda/lib/python3.7/site-packages (from ipympl) (7.7.1)\r\n",
      "Requirement already satisfied: pyzmq>=17 in /opt/conda/lib/python3.7/site-packages (from ipykernel>=4.7->ipympl) (23.2.0)\r\n",
      "Requirement already satisfied: psutil in /opt/conda/lib/python3.7/site-packages (from ipykernel>=4.7->ipympl) (5.9.1)\r\n",
      "Requirement already satisfied: ipython>=7.23.1 in /opt/conda/lib/python3.7/site-packages (from ipykernel>=4.7->ipympl) (7.33.0)\r\n",
      "Requirement already satisfied: nest-asyncio in /opt/conda/lib/python3.7/site-packages (from ipykernel>=4.7->ipympl) (1.5.5)\r\n",
      "Requirement already satisfied: matplotlib-inline>=0.1 in /opt/conda/lib/python3.7/site-packages (from ipykernel>=4.7->ipympl) (0.1.3)\r\n",
      "Requirement already satisfied: traitlets>=5.1.0 in /opt/conda/lib/python3.7/site-packages (from ipykernel>=4.7->ipympl) (5.3.0)\r\n",
      "Requirement already satisfied: jupyter-client>=6.1.12 in /opt/conda/lib/python3.7/site-packages (from ipykernel>=4.7->ipympl) (7.3.4)\r\n",
      "Requirement already satisfied: packaging in /opt/conda/lib/python3.7/site-packages (from ipykernel>=4.7->ipympl) (21.3)\r\n",
      "Requirement already satisfied: debugpy>=1.0 in /opt/conda/lib/python3.7/site-packages (from ipykernel>=4.7->ipympl) (1.6.0)\r\n",
      "Requirement already satisfied: tornado>=6.1 in /opt/conda/lib/python3.7/site-packages (from ipykernel>=4.7->ipympl) (6.1)\r\n",
      "Requirement already satisfied: widgetsnbextension~=3.6.0 in /opt/conda/lib/python3.7/site-packages (from ipywidgets>=7.6.0->ipympl) (3.6.1)\r\n",
      "Requirement already satisfied: ipython-genutils~=0.2.0 in /opt/conda/lib/python3.7/site-packages (from ipywidgets>=7.6.0->ipympl) (0.2.0)\r\n",
      "Requirement already satisfied: jupyterlab-widgets>=1.0.0 in /opt/conda/lib/python3.7/site-packages (from ipywidgets>=7.6.0->ipympl) (1.1.1)\r\n",
      "Requirement already satisfied: kiwisolver>=1.0.1 in /opt/conda/lib/python3.7/site-packages (from matplotlib>=2.0.0->ipympl) (1.4.3)\r\n",
      "Requirement already satisfied: python-dateutil>=2.7 in /opt/conda/lib/python3.7/site-packages (from matplotlib>=2.0.0->ipympl) (2.8.2)\r\n",
      "Requirement already satisfied: fonttools>=4.22.0 in /opt/conda/lib/python3.7/site-packages (from matplotlib>=2.0.0->ipympl) (4.33.3)\r\n",
      "Requirement already satisfied: pyparsing>=2.2.1 in /opt/conda/lib/python3.7/site-packages (from matplotlib>=2.0.0->ipympl) (3.0.9)\r\n",
      "Requirement already satisfied: numpy>=1.17 in /opt/conda/lib/python3.7/site-packages (from matplotlib>=2.0.0->ipympl) (1.21.6)\r\n",
      "Requirement already satisfied: cycler>=0.10 in /opt/conda/lib/python3.7/site-packages (from matplotlib>=2.0.0->ipympl) (0.11.0)\r\n",
      "Requirement already satisfied: pillow>=6.2.0 in /opt/conda/lib/python3.7/site-packages (from matplotlib>=2.0.0->ipympl) (9.1.1)\r\n",
      "Requirement already satisfied: pygments in /opt/conda/lib/python3.7/site-packages (from ipython>=7.23.1->ipykernel>=4.7->ipympl) (2.12.0)\r\n",
      "Requirement already satisfied: backcall in /opt/conda/lib/python3.7/site-packages (from ipython>=7.23.1->ipykernel>=4.7->ipympl) (0.2.0)\r\n",
      "Requirement already satisfied: pexpect>4.3 in /opt/conda/lib/python3.7/site-packages (from ipython>=7.23.1->ipykernel>=4.7->ipympl) (4.8.0)\r\n",
      "Requirement already satisfied: decorator in /opt/conda/lib/python3.7/site-packages (from ipython>=7.23.1->ipykernel>=4.7->ipympl) (5.1.1)\r\n",
      "Requirement already satisfied: setuptools>=18.5 in /opt/conda/lib/python3.7/site-packages (from ipython>=7.23.1->ipykernel>=4.7->ipympl) (59.8.0)\r\n",
      "Requirement already satisfied: jedi>=0.16 in /opt/conda/lib/python3.7/site-packages (from ipython>=7.23.1->ipykernel>=4.7->ipympl) (0.18.1)\r\n",
      "Requirement already satisfied: pickleshare in /opt/conda/lib/python3.7/site-packages (from ipython>=7.23.1->ipykernel>=4.7->ipympl) (0.7.5)\r\n",
      "Requirement already satisfied: prompt-toolkit!=3.0.0,!=3.0.1,<3.1.0,>=2.0.0 in /opt/conda/lib/python3.7/site-packages (from ipython>=7.23.1->ipykernel>=4.7->ipympl) (3.0.30)\r\n",
      "Requirement already satisfied: jupyter-core>=4.9.2 in /opt/conda/lib/python3.7/site-packages (from jupyter-client>=6.1.12->ipykernel>=4.7->ipympl) (4.10.0)\r\n",
      "Requirement already satisfied: entrypoints in /opt/conda/lib/python3.7/site-packages (from jupyter-client>=6.1.12->ipykernel>=4.7->ipympl) (0.4)\r\n",
      "Requirement already satisfied: typing-extensions in /opt/conda/lib/python3.7/site-packages (from kiwisolver>=1.0.1->matplotlib>=2.0.0->ipympl) (4.3.0)\r\n",
      "Requirement already satisfied: six>=1.5 in /opt/conda/lib/python3.7/site-packages (from python-dateutil>=2.7->matplotlib>=2.0.0->ipympl) (1.15.0)\r\n",
      "Requirement already satisfied: notebook>=4.4.1 in /opt/conda/lib/python3.7/site-packages (from widgetsnbextension~=3.6.0->ipywidgets>=7.6.0->ipympl) (6.4.12)\r\n",
      "Requirement already satisfied: parso<0.9.0,>=0.8.0 in /opt/conda/lib/python3.7/site-packages (from jedi>=0.16->ipython>=7.23.1->ipykernel>=4.7->ipympl) (0.8.3)\r\n",
      "Requirement already satisfied: Send2Trash>=1.8.0 in /opt/conda/lib/python3.7/site-packages (from notebook>=4.4.1->widgetsnbextension~=3.6.0->ipywidgets>=7.6.0->ipympl) (1.8.0)\r\n",
      "Requirement already satisfied: jinja2 in /opt/conda/lib/python3.7/site-packages (from notebook>=4.4.1->widgetsnbextension~=3.6.0->ipywidgets>=7.6.0->ipympl) (3.1.2)\r\n",
      "Requirement already satisfied: argon2-cffi in /opt/conda/lib/python3.7/site-packages (from notebook>=4.4.1->widgetsnbextension~=3.6.0->ipywidgets>=7.6.0->ipympl) (21.3.0)\r\n",
      "Requirement already satisfied: terminado>=0.8.3 in /opt/conda/lib/python3.7/site-packages (from notebook>=4.4.1->widgetsnbextension~=3.6.0->ipywidgets>=7.6.0->ipympl) (0.15.0)\r\n",
      "Requirement already satisfied: prometheus-client in /opt/conda/lib/python3.7/site-packages (from notebook>=4.4.1->widgetsnbextension~=3.6.0->ipywidgets>=7.6.0->ipympl) (0.14.1)\r\n",
      "Requirement already satisfied: nbconvert>=5 in /opt/conda/lib/python3.7/site-packages (from notebook>=4.4.1->widgetsnbextension~=3.6.0->ipywidgets>=7.6.0->ipympl) (6.4.5)\r\n",
      "Requirement already satisfied: nbformat in /opt/conda/lib/python3.7/site-packages (from notebook>=4.4.1->widgetsnbextension~=3.6.0->ipywidgets>=7.6.0->ipympl) (5.4.0)\r\n",
      "Requirement already satisfied: ptyprocess>=0.5 in /opt/conda/lib/python3.7/site-packages (from pexpect>4.3->ipython>=7.23.1->ipykernel>=4.7->ipympl) (0.7.0)\r\n",
      "Requirement already satisfied: wcwidth in /opt/conda/lib/python3.7/site-packages (from prompt-toolkit!=3.0.0,!=3.0.1,<3.1.0,>=2.0.0->ipython>=7.23.1->ipykernel>=4.7->ipympl) (0.2.5)\r\n",
      "Requirement already satisfied: jupyterlab-pygments in /opt/conda/lib/python3.7/site-packages (from nbconvert>=5->notebook>=4.4.1->widgetsnbextension~=3.6.0->ipywidgets>=7.6.0->ipympl) (0.2.2)\r\n",
      "Requirement already satisfied: defusedxml in /opt/conda/lib/python3.7/site-packages (from nbconvert>=5->notebook>=4.4.1->widgetsnbextension~=3.6.0->ipywidgets>=7.6.0->ipympl) (0.7.1)\r\n",
      "Requirement already satisfied: MarkupSafe>=2.0 in /opt/conda/lib/python3.7/site-packages (from nbconvert>=5->notebook>=4.4.1->widgetsnbextension~=3.6.0->ipywidgets>=7.6.0->ipympl) (2.1.1)\r\n",
      "Requirement already satisfied: beautifulsoup4 in /opt/conda/lib/python3.7/site-packages (from nbconvert>=5->notebook>=4.4.1->widgetsnbextension~=3.6.0->ipywidgets>=7.6.0->ipympl) (4.11.1)\r\n",
      "Requirement already satisfied: pandocfilters>=1.4.1 in /opt/conda/lib/python3.7/site-packages (from nbconvert>=5->notebook>=4.4.1->widgetsnbextension~=3.6.0->ipywidgets>=7.6.0->ipympl) (1.5.0)\r\n",
      "Requirement already satisfied: mistune<2,>=0.8.1 in /opt/conda/lib/python3.7/site-packages (from nbconvert>=5->notebook>=4.4.1->widgetsnbextension~=3.6.0->ipywidgets>=7.6.0->ipympl) (0.8.4)\r\n",
      "Requirement already satisfied: bleach in /opt/conda/lib/python3.7/site-packages (from nbconvert>=5->notebook>=4.4.1->widgetsnbextension~=3.6.0->ipywidgets>=7.6.0->ipympl) (5.0.1)\r\n",
      "Requirement already satisfied: nbclient<0.6.0,>=0.5.0 in /opt/conda/lib/python3.7/site-packages (from nbconvert>=5->notebook>=4.4.1->widgetsnbextension~=3.6.0->ipywidgets>=7.6.0->ipympl) (0.5.13)\r\n",
      "Requirement already satisfied: testpath in /opt/conda/lib/python3.7/site-packages (from nbconvert>=5->notebook>=4.4.1->widgetsnbextension~=3.6.0->ipywidgets>=7.6.0->ipympl) (0.6.0)\r\n",
      "Requirement already satisfied: fastjsonschema in /opt/conda/lib/python3.7/site-packages (from nbformat->notebook>=4.4.1->widgetsnbextension~=3.6.0->ipywidgets>=7.6.0->ipympl) (2.15.3)\r\n",
      "Requirement already satisfied: jsonschema>=2.6 in /opt/conda/lib/python3.7/site-packages (from nbformat->notebook>=4.4.1->widgetsnbextension~=3.6.0->ipywidgets>=7.6.0->ipympl) (4.6.1)\r\n",
      "Requirement already satisfied: argon2-cffi-bindings in /opt/conda/lib/python3.7/site-packages (from argon2-cffi->notebook>=4.4.1->widgetsnbextension~=3.6.0->ipywidgets>=7.6.0->ipympl) (21.2.0)\r\n",
      "Requirement already satisfied: importlib-resources>=1.4.0 in /opt/conda/lib/python3.7/site-packages (from jsonschema>=2.6->nbformat->notebook>=4.4.1->widgetsnbextension~=3.6.0->ipywidgets>=7.6.0->ipympl) (5.8.0)\r\n",
      "Requirement already satisfied: importlib-metadata in /opt/conda/lib/python3.7/site-packages (from jsonschema>=2.6->nbformat->notebook>=4.4.1->widgetsnbextension~=3.6.0->ipywidgets>=7.6.0->ipympl) (4.12.0)\r\n",
      "Requirement already satisfied: pyrsistent!=0.17.0,!=0.17.1,!=0.17.2,>=0.14.0 in /opt/conda/lib/python3.7/site-packages (from jsonschema>=2.6->nbformat->notebook>=4.4.1->widgetsnbextension~=3.6.0->ipywidgets>=7.6.0->ipympl) (0.18.1)\r\n",
      "Requirement already satisfied: attrs>=17.4.0 in /opt/conda/lib/python3.7/site-packages (from jsonschema>=2.6->nbformat->notebook>=4.4.1->widgetsnbextension~=3.6.0->ipywidgets>=7.6.0->ipympl) (21.4.0)\r\n",
      "Requirement already satisfied: cffi>=1.0.1 in /opt/conda/lib/python3.7/site-packages (from argon2-cffi-bindings->argon2-cffi->notebook>=4.4.1->widgetsnbextension~=3.6.0->ipywidgets>=7.6.0->ipympl) (1.15.0)\r\n",
      "Requirement already satisfied: soupsieve>1.2 in /opt/conda/lib/python3.7/site-packages (from beautifulsoup4->nbconvert>=5->notebook>=4.4.1->widgetsnbextension~=3.6.0->ipywidgets>=7.6.0->ipympl) (2.3.1)\r\n",
      "Requirement already satisfied: webencodings in /opt/conda/lib/python3.7/site-packages (from bleach->nbconvert>=5->notebook>=4.4.1->widgetsnbextension~=3.6.0->ipywidgets>=7.6.0->ipympl) (0.5.1)\r\n",
      "Requirement already satisfied: pycparser in /opt/conda/lib/python3.7/site-packages (from cffi>=1.0.1->argon2-cffi-bindings->argon2-cffi->notebook>=4.4.1->widgetsnbextension~=3.6.0->ipywidgets>=7.6.0->ipympl) (2.21)\r\n",
      "Requirement already satisfied: zipp>=3.1.0 in /opt/conda/lib/python3.7/site-packages (from importlib-resources>=1.4.0->jsonschema>=2.6->nbformat->notebook>=4.4.1->widgetsnbextension~=3.6.0->ipywidgets>=7.6.0->ipympl) (3.8.0)\r\n",
      "\u001b[33mWARNING: Running pip as the 'root' user can result in broken permissions and conflicting behaviour with the system package manager. It is recommended to use a virtual environment instead: https://pip.pypa.io/warnings/venv\u001b[0m\u001b[33m\r\n",
      "\u001b[0m\u001b[33mWARNING: There was an error checking the latest version of pip.\u001b[0m\u001b[33m\r\n",
      "\u001b[0m"
     ]
    }
   ],
   "source": [
    "!pip install ipympl "
   ]
  },
  {
   "cell_type": "code",
   "execution_count": 3,
   "id": "47b1e44a",
   "metadata": {
    "execution": {
     "iopub.execute_input": "2022-10-29T08:16:35.674809Z",
     "iopub.status.busy": "2022-10-29T08:16:35.674360Z",
     "iopub.status.idle": "2022-10-29T08:16:35.825023Z",
     "shell.execute_reply": "2022-10-29T08:16:35.823860Z"
    },
    "papermill": {
     "duration": 0.162573,
     "end_time": "2022-10-29T08:16:35.827848",
     "exception": false,
     "start_time": "2022-10-29T08:16:35.665275",
     "status": "completed"
    },
    "tags": []
   },
   "outputs": [],
   "source": [
    "%matplotlib ipympl\n",
    "import numpy as np\n",
    "from matplotlib import pyplot as plt\n",
    "from mpl_toolkits.mplot3d import Axes3D\n",
    "plt.ioff()\n",
    "a = np.arange(-10,10,0.1)\n",
    "b = np.arange(-10,10,0.1)\n",
    "xgrid, ygrid = np.meshgrid(a, b)\n",
    "\n",
    "'''\n",
    "Функция Бута\n",
    "'''\n",
    "\n",
    "def func_but(x, y):\n",
    "    return (x + 2 * y - 7) * (x + 2 * y - 7) + (2 * x + y - 5) * (2 * x + y - 5) # исходная функция \n",
    "\n",
    "def dx_but(x, y):\n",
    "    return 10 * x + 8 * y - 34 # производная по х\n",
    "\n",
    "def dy_but(x, y):\n",
    "    return 10 * y + 8 * x - 38 # производня по у\n",
    "\n",
    "'''\n",
    "Функция МакКормика\n",
    "'''\n",
    "\n",
    "def func_korm(x, y):\n",
    "    return np.sin(x + y) + (x - y) * (x - y) - 1.5 * x + 2.5 * y + 1 # исходная функция \n",
    "\n",
    "def dx_korm(x, y):\n",
    "    return np.cos(x + y) + 2 * x - 2 * y - 1.5 # производная по х\n",
    "\n",
    "def dy_korm(x, y):\n",
    "    return np.cos(y + x) + 2 * y - 2 * x + 2.5 # производня по у\n",
    "\n",
    "\n",
    "'''\n",
    "Функция Химмельблау\n",
    "'''\n",
    "\n",
    "def func_him(x, y):\n",
    "    return (x * x  + y - 11) * (x * x  + y - 11) + (x + y * y - 7) * (x + y * y - 7) # исходная функция \n",
    "\n",
    "def dx_him(x, y):\n",
    "    return 4 * x * x * x + x * (4 * y - 42) + 2 * y * y - 14 # производная по х\n",
    "\n",
    "def dy_him(x, y):\n",
    "    return 4 * y * y * y + y * (4 * x - 26) + 2 * x * x - 22 # производня по у"
   ]
  },
  {
   "cell_type": "code",
   "execution_count": 4,
   "id": "958a693c",
   "metadata": {
    "execution": {
     "iopub.execute_input": "2022-10-29T08:16:35.843941Z",
     "iopub.status.busy": "2022-10-29T08:16:35.843549Z",
     "iopub.status.idle": "2022-10-29T08:16:35.851961Z",
     "shell.execute_reply": "2022-10-29T08:16:35.850568Z"
    },
    "papermill": {
     "duration": 0.019542,
     "end_time": "2022-10-29T08:16:35.854575",
     "exception": false,
     "start_time": "2022-10-29T08:16:35.835033",
     "status": "completed"
    },
    "tags": []
   },
   "outputs": [],
   "source": [
    "'''\n",
    "Реализация шедулера\n",
    "'''\n",
    "\n",
    "class lr_scheduler():\n",
    "    def __init__(self, step_size:int=5000, gamma:float=0.1, lr:float=0.1):\n",
    "        '''\n",
    "        step_size -- количество итераций необходимое для уменьшения скорости обучения\n",
    "        gamma -- коэффициент на который домнажается скорость обучеия каждые step_size шагов\n",
    "        lr -- скорость обучения\n",
    "        '''\n",
    "        self.iter  = 0 # переменная для подсчета шагов\n",
    "        self.step_size = step_size\n",
    "        self.gamma = gamma\n",
    "        self.lr = lr\n",
    "\n",
    "    def step(self):\n",
    "        self.iter += 1\n",
    "        if self.iter == self.step_size: # когда число итераций становится равно заданному порогу -> уменьшаем скорость обучения\n",
    "            self.lr = self.lr * self.gamma\n",
    "            self.iter = 0\n",
    "        return self.lr"
   ]
  },
  {
   "cell_type": "code",
   "execution_count": 5,
   "id": "cee1bc5e",
   "metadata": {
    "execution": {
     "iopub.execute_input": "2022-10-29T08:16:35.872769Z",
     "iopub.status.busy": "2022-10-29T08:16:35.870404Z",
     "iopub.status.idle": "2022-10-29T08:16:35.884773Z",
     "shell.execute_reply": "2022-10-29T08:16:35.883316Z"
    },
    "papermill": {
     "duration": 0.025575,
     "end_time": "2022-10-29T08:16:35.887354",
     "exception": false,
     "start_time": "2022-10-29T08:16:35.861779",
     "status": "completed"
    },
    "tags": []
   },
   "outputs": [],
   "source": [
    "def GD(f:Mapping, dx:Mapping, dy:Mapping, x0:np.ndarray, y0:np.ndarray, lr_start:float=0.001, iter=100, thr:float=None):\n",
    "    '''\n",
    "        f -- исходная функция\n",
    "        dx -- производня по х от исходной функции\n",
    "        dy -- производня по у от исходной функции\n",
    "        x0 -- стартовая точка по координате х\n",
    "        y0 -- стартовая точка по координате у\n",
    "        lr_start -- изначальное значение скорости обучения\n",
    "        iter -- число итераций выполнения алгоритма\n",
    "        thr -- точность вычислений \n",
    "    '''\n",
    "    \n",
    "    zgrid = f(xgrid,ygrid)\n",
    "\n",
    "    fig = plt.figure(figsize=(7, 4))\n",
    "\n",
    "    ax_3d = Axes3D(fig, auto_add_to_figure=True)\n",
    "\n",
    "    ax_3d.plot_surface(xgrid, ygrid, zgrid, cmap='plasma', alpha=0.5)\n",
    "\n",
    "    ax_3d.set_xlabel('x')\n",
    "    ax_3d.set_ylabel('y')\n",
    "    ax_3d.set_zlabel('f')\n",
    "    \n",
    "    x_old = x0.copy()\n",
    "    y_old = y0.copy()\n",
    "    \n",
    "    \n",
    "    scheduler = lr_scheduler(lr=lr_start)\n",
    "    for i in range(iter):\n",
    "        if np.linalg.norm(dx(x_old, y_old)) > thr and np.linalg.norm(dy(x_old, y_old)) > thr:\n",
    "            gradX = dx(x_old, y_old)\n",
    "            gradY = dy(x_old, y_old)\n",
    "            x_old = x_old - scheduler.lr * gradX\n",
    "            y_old = y_old - scheduler.lr * gradY\n",
    "            scheduler.step()\n",
    "            ax_3d.scatter(x_old, y_old, f(x_old, y_old), c='red')\n",
    "    plt.show()\n",
    "    return x_old, y_old"
   ]
  },
  {
   "cell_type": "code",
   "execution_count": 6,
   "id": "4a571e29",
   "metadata": {
    "execution": {
     "iopub.execute_input": "2022-10-29T08:16:35.903476Z",
     "iopub.status.busy": "2022-10-29T08:16:35.903024Z",
     "iopub.status.idle": "2022-10-29T08:16:35.916231Z",
     "shell.execute_reply": "2022-10-29T08:16:35.915063Z"
    },
    "papermill": {
     "duration": 0.024529,
     "end_time": "2022-10-29T08:16:35.919128",
     "exception": false,
     "start_time": "2022-10-29T08:16:35.894599",
     "status": "completed"
    },
    "tags": []
   },
   "outputs": [],
   "source": [
    "def SGD(f:Mapping, dx:Mapping, dy:Mapping, x0:np.ndarray, y0:np.ndarray, lr_start:float=0.1, iter=100, thr:float=None, momentum:float=0.9):\n",
    "    '''\n",
    "        f -- исходная функция\n",
    "        dx -- производня по х от исходной функции\n",
    "        dy -- производня по у от исходной функции\n",
    "        x0 -- стартовая точка по координате х\n",
    "        y0 -- стартовая точка по координате у\n",
    "        lr_start -- изначальное значение скорости обучения\n",
    "        iter -- число итераций выполнения алгоритма\n",
    "        thr -- точность вычислений \n",
    "    '''\n",
    "    \n",
    "    zgrid = f(xgrid,ygrid)\n",
    "\n",
    "    fig = plt.figure(figsize=(7, 4))\n",
    "\n",
    "    ax_3d = Axes3D(fig, auto_add_to_figure=True)\n",
    "\n",
    "    ax_3d.plot_surface(xgrid, ygrid, zgrid, cmap='plasma', alpha=0.5)\n",
    "\n",
    "    ax_3d.set_xlabel('x')\n",
    "    ax_3d.set_ylabel('y')\n",
    "    ax_3d.set_zlabel('f')\n",
    "    \n",
    "    x_old = x0.copy()\n",
    "    y_old = y0.copy()\n",
    "    scheduler = lr_scheduler(lr=lr_start)\n",
    "    gx = 0\n",
    "    gy = 0\n",
    "    for i in range(iter):\n",
    "        if np.linalg.norm(dx(x_old, y_old)) > thr and np.linalg.norm(dy(x_old, y_old)) > thr:\n",
    "            gradX = dx(x_old, y_old)\n",
    "            gradY = dy(x_old, y_old)\n",
    "            if i == 1:\n",
    "                gx = gradX\n",
    "                gy = gradY\n",
    "            else:\n",
    "                gx = gradX + momentum * gx\n",
    "                gy = gradY + momentum * gy\n",
    "            x_old = x_old - scheduler.lr * gx\n",
    "            y_old = y_old - scheduler.lr * gy\n",
    "            scheduler.step()\n",
    "            ax_3d.scatter(x_old, y_old, f(x_old, y_old), c='red')\n",
    "    plt.show()\n",
    "    return x_old, y_old"
   ]
  },
  {
   "cell_type": "code",
   "execution_count": 7,
   "id": "819ebc3e",
   "metadata": {
    "execution": {
     "iopub.execute_input": "2022-10-29T08:16:35.936498Z",
     "iopub.status.busy": "2022-10-29T08:16:35.936018Z",
     "iopub.status.idle": "2022-10-29T08:16:35.949182Z",
     "shell.execute_reply": "2022-10-29T08:16:35.947897Z"
    },
    "papermill": {
     "duration": 0.025245,
     "end_time": "2022-10-29T08:16:35.951827",
     "exception": false,
     "start_time": "2022-10-29T08:16:35.926582",
     "status": "completed"
    },
    "tags": []
   },
   "outputs": [],
   "source": [
    "def ADAGRAD(f:Mapping, dx:Mapping, dy:Mapping, x0:np.ndarray, y0:np.ndarray, lr_start:float=0.1, iter=100, thr:float=None, momentum:float=0.9):\n",
    "    '''\n",
    "        f -- исходная функция\n",
    "        dx -- производня по х от исходной функции\n",
    "        dy -- производня по у от исходной функции\n",
    "        x0 -- стартовая точка по координате х\n",
    "        y0 -- стартовая точка по координате у\n",
    "        lr_start -- изначальное значение скорости обучения\n",
    "        iter -- число итераций выполнения алгоритма\n",
    "        thr -- точность вычислений \n",
    "    '''\n",
    "    \n",
    "    zgrid = f(xgrid,ygrid)\n",
    "\n",
    "    fig = plt.figure(figsize=(7, 4))\n",
    "\n",
    "    ax_3d = Axes3D(fig, auto_add_to_figure=True)\n",
    "\n",
    "    ax_3d.plot_surface(xgrid, ygrid, zgrid, cmap='plasma', alpha=0.5)\n",
    "\n",
    "    ax_3d.set_xlabel('x')\n",
    "    ax_3d.set_ylabel('y')\n",
    "    ax_3d.set_zlabel('f')\n",
    "    x_old = x0.copy()\n",
    "    y_old = y0.copy()\n",
    "    scheduler = lr_scheduler(step_size=10000 ,lr=lr_start)\n",
    "    s_sum_x = 0\n",
    "    s_sum_y = 0\n",
    "    for i in range(iter):\n",
    "        if np.linalg.norm(dx(x_old, y_old)) > thr and np.linalg.norm(dy(x_old, y_old)) > thr:\n",
    "            gradX = dx(x_old, y_old)\n",
    "            gradY = dy(x_old, y_old)\n",
    "            s_sum_x = s_sum_x + gradX ** 2\n",
    "            s_sum_y = s_sum_y + gradY ** 2\n",
    "            x_old = x_old - scheduler.lr * gradX / (s_sum_x ** 0.5)\n",
    "            y_old = y_old - scheduler.lr * gradY / (s_sum_y ** 0.5)\n",
    "            scheduler.step()\n",
    "            ax_3d.scatter(x_old, y_old, f(x_old, y_old), c='red')\n",
    "    plt.show()\n",
    "    return x_old, y_old"
   ]
  },
  {
   "cell_type": "markdown",
   "id": "546d2c85",
   "metadata": {
    "papermill": {
     "duration": 0.006893,
     "end_time": "2022-10-29T08:16:35.966035",
     "exception": false,
     "start_time": "2022-10-29T08:16:35.959142",
     "status": "completed"
    },
    "tags": []
   },
   "source": [
    "### Тестирование функции Бута"
   ]
  },
  {
   "cell_type": "code",
   "execution_count": 8,
   "id": "3871f081",
   "metadata": {
    "execution": {
     "iopub.execute_input": "2022-10-29T08:16:35.982642Z",
     "iopub.status.busy": "2022-10-29T08:16:35.981822Z",
     "iopub.status.idle": "2022-10-29T08:16:35.988202Z",
     "shell.execute_reply": "2022-10-29T08:16:35.987263Z"
    },
    "papermill": {
     "duration": 0.017403,
     "end_time": "2022-10-29T08:16:35.990660",
     "exception": false,
     "start_time": "2022-10-29T08:16:35.973257",
     "status": "completed"
    },
    "tags": []
   },
   "outputs": [],
   "source": [
    "a = np.arange(-10,10,0.1)\n",
    "b = np.arange(-10,10,0.1)\n",
    "xgrid, ygrid = np.meshgrid(a, b)"
   ]
  },
  {
   "cell_type": "code",
   "execution_count": 9,
   "id": "b34c32e5",
   "metadata": {
    "execution": {
     "iopub.execute_input": "2022-10-29T08:16:36.008189Z",
     "iopub.status.busy": "2022-10-29T08:16:36.007527Z",
     "iopub.status.idle": "2022-10-29T08:16:36.399315Z",
     "shell.execute_reply": "2022-10-29T08:16:36.397858Z"
    },
    "papermill": {
     "duration": 0.403161,
     "end_time": "2022-10-29T08:16:36.402086",
     "exception": false,
     "start_time": "2022-10-29T08:16:35.998925",
     "status": "completed"
    },
    "tags": []
   },
   "outputs": [
    {
     "name": "stderr",
     "output_type": "stream",
     "text": [
      "/opt/conda/lib/python3.7/site-packages/ipykernel_launcher.py:17: MatplotlibDeprecationWarning: Axes3D(fig) adding itself to the figure is deprecated since 3.4. Pass the keyword argument auto_add_to_figure=False and use fig.add_axes(ax) to suppress this warning. The default value of auto_add_to_figure will change to False in mpl3.5 and True values will no longer work in 3.6.  This is consistent with other Axes classes.\n",
      "  app.launch_new_instance()\n"
     ]
    },
    {
     "data": {
      "application/vnd.jupyter.widget-view+json": {
       "model_id": "1809073f672e401194840110d759ca38",
       "version_major": 2,
       "version_minor": 0
      },
      "text/plain": [
       "Canvas(toolbar=Toolbar(toolitems=[('Home', 'Reset original view', 'home', 'home'), ('Back', 'Back to previous …"
      ]
     },
     "metadata": {},
     "output_type": "display_data"
    },
    {
     "name": "stdout",
     "output_type": "stream",
     "text": [
      "[1.20290531] [1.51586288]\n"
     ]
    },
    {
     "data": {
      "text/plain": [
       "array([8.81005334])"
      ]
     },
     "execution_count": 9,
     "metadata": {},
     "output_type": "execute_result"
    }
   ],
   "source": [
    "x, y = GD(f=func_but, dx=dx_but, dy=dy_but, x0=np.array([-1]), y0=np.array([-1]), iter=100, thr=10)\n",
    "print(x, y)\n",
    "func_but(x, y)"
   ]
  },
  {
   "cell_type": "code",
   "execution_count": 10,
   "id": "22b129e7",
   "metadata": {
    "execution": {
     "iopub.execute_input": "2022-10-29T08:16:36.418902Z",
     "iopub.status.busy": "2022-10-29T08:16:36.418502Z",
     "iopub.status.idle": "2022-10-29T08:16:36.765191Z",
     "shell.execute_reply": "2022-10-29T08:16:36.763873Z"
    },
    "papermill": {
     "duration": 0.357868,
     "end_time": "2022-10-29T08:16:36.767589",
     "exception": false,
     "start_time": "2022-10-29T08:16:36.409721",
     "status": "completed"
    },
    "tags": []
   },
   "outputs": [
    {
     "name": "stderr",
     "output_type": "stream",
     "text": [
      "/opt/conda/lib/python3.7/site-packages/ipykernel_launcher.py:17: MatplotlibDeprecationWarning: Axes3D(fig) adding itself to the figure is deprecated since 3.4. Pass the keyword argument auto_add_to_figure=False and use fig.add_axes(ax) to suppress this warning. The default value of auto_add_to_figure will change to False in mpl3.5 and True values will no longer work in 3.6.  This is consistent with other Axes classes.\n",
      "  app.launch_new_instance()\n"
     ]
    },
    {
     "data": {
      "application/vnd.jupyter.widget-view+json": {
       "model_id": "3d664c1bdee6477d94881d9bd8cee981",
       "version_major": 2,
       "version_minor": 0
      },
      "text/plain": [
       "Canvas(toolbar=Toolbar(toolitems=[('Home', 'Reset original view', 'home', 'home'), ('Back', 'Back to previous …"
      ]
     },
     "metadata": {},
     "output_type": "display_data"
    },
    {
     "name": "stdout",
     "output_type": "stream",
     "text": [
      "[0.27105442] [2.70976898]\n"
     ]
    },
    {
     "data": {
      "text/plain": [
       "array([4.77047946])"
      ]
     },
     "execution_count": 10,
     "metadata": {},
     "output_type": "execute_result"
    }
   ],
   "source": [
    "x, y = SGD(f=func_but, dx=dx_but, dy=dy_but, x0=np.array([-1]), y0=np.array([-1]), iter=100, thr=10)\n",
    "print(x, y)\n",
    "func_but(x, y)"
   ]
  },
  {
   "cell_type": "code",
   "execution_count": 11,
   "id": "08229b68",
   "metadata": {
    "execution": {
     "iopub.execute_input": "2022-10-29T08:16:36.785521Z",
     "iopub.status.busy": "2022-10-29T08:16:36.785127Z",
     "iopub.status.idle": "2022-10-29T08:16:37.180679Z",
     "shell.execute_reply": "2022-10-29T08:16:37.179394Z"
    },
    "papermill": {
     "duration": 0.40784,
     "end_time": "2022-10-29T08:16:37.183482",
     "exception": false,
     "start_time": "2022-10-29T08:16:36.775642",
     "status": "completed"
    },
    "tags": []
   },
   "outputs": [
    {
     "name": "stderr",
     "output_type": "stream",
     "text": [
      "/opt/conda/lib/python3.7/site-packages/ipykernel_launcher.py:17: MatplotlibDeprecationWarning: Axes3D(fig) adding itself to the figure is deprecated since 3.4. Pass the keyword argument auto_add_to_figure=False and use fig.add_axes(ax) to suppress this warning. The default value of auto_add_to_figure will change to False in mpl3.5 and True values will no longer work in 3.6.  This is consistent with other Axes classes.\n",
      "  app.launch_new_instance()\n"
     ]
    },
    {
     "data": {
      "application/vnd.jupyter.widget-view+json": {
       "model_id": "843663eac5ab4f96aaee99fa8e6ec758",
       "version_major": 2,
       "version_minor": 0
      },
      "text/plain": [
       "Canvas(toolbar=Toolbar(toolitems=[('Home', 'Reset original view', 'home', 'home'), ('Back', 'Back to previous …"
      ]
     },
     "metadata": {},
     "output_type": "display_data"
    },
    {
     "name": "stdout",
     "output_type": "stream",
     "text": [
      "[0.59177501] [0.61719018]\n"
     ]
    },
    {
     "data": {
      "text/plain": [
       "array([37.00393155])"
      ]
     },
     "execution_count": 11,
     "metadata": {},
     "output_type": "execute_result"
    }
   ],
   "source": [
    "x, y = ADAGRAD(f=func_but, dx=dx_but, dy=dy_but, x0=np.array([-1]), y0=np.array([-1]), iter=100, thr=10)\n",
    "print(x, y)\n",
    "func_but(x, y)"
   ]
  },
  {
   "cell_type": "markdown",
   "id": "1dc55767",
   "metadata": {
    "papermill": {
     "duration": 0.007936,
     "end_time": "2022-10-29T08:16:37.199808",
     "exception": false,
     "start_time": "2022-10-29T08:16:37.191872",
     "status": "completed"
    },
    "tags": []
   },
   "source": [
    "### Тестирование функции МакКормика"
   ]
  },
  {
   "cell_type": "code",
   "execution_count": 12,
   "id": "f0e1e1b7",
   "metadata": {
    "execution": {
     "iopub.execute_input": "2022-10-29T08:16:37.218457Z",
     "iopub.status.busy": "2022-10-29T08:16:37.218018Z",
     "iopub.status.idle": "2022-10-29T08:16:37.223795Z",
     "shell.execute_reply": "2022-10-29T08:16:37.222496Z"
    },
    "papermill": {
     "duration": 0.017993,
     "end_time": "2022-10-29T08:16:37.226204",
     "exception": false,
     "start_time": "2022-10-29T08:16:37.208211",
     "status": "completed"
    },
    "tags": []
   },
   "outputs": [],
   "source": [
    "a = np.arange(-3/2,4,0.1)\n",
    "b = np.arange(-3,4,0.1)\n",
    "xgrid, ygrid = np.meshgrid(a, b)"
   ]
  },
  {
   "cell_type": "code",
   "execution_count": 13,
   "id": "4ff54c07",
   "metadata": {
    "execution": {
     "iopub.execute_input": "2022-10-29T08:16:37.244866Z",
     "iopub.status.busy": "2022-10-29T08:16:37.244446Z",
     "iopub.status.idle": "2022-10-29T08:16:39.865462Z",
     "shell.execute_reply": "2022-10-29T08:16:39.864324Z"
    },
    "papermill": {
     "duration": 2.633327,
     "end_time": "2022-10-29T08:16:39.867867",
     "exception": false,
     "start_time": "2022-10-29T08:16:37.234540",
     "status": "completed"
    },
    "tags": []
   },
   "outputs": [
    {
     "name": "stderr",
     "output_type": "stream",
     "text": [
      "/opt/conda/lib/python3.7/site-packages/ipykernel_launcher.py:17: MatplotlibDeprecationWarning: Axes3D(fig) adding itself to the figure is deprecated since 3.4. Pass the keyword argument auto_add_to_figure=False and use fig.add_axes(ax) to suppress this warning. The default value of auto_add_to_figure will change to False in mpl3.5 and True values will no longer work in 3.6.  This is consistent with other Axes classes.\n",
      "  app.launch_new_instance()\n"
     ]
    },
    {
     "data": {
      "application/vnd.jupyter.widget-view+json": {
       "model_id": "cd17c308fe504cbeac3fe7209564f7c7",
       "version_major": 2,
       "version_minor": 0
      },
      "text/plain": [
       "Canvas(toolbar=Toolbar(toolitems=[('Home', 'Reset original view', 'home', 'home'), ('Back', 'Back to previous …"
      ]
     },
     "metadata": {},
     "output_type": "display_data"
    },
    {
     "name": "stdout",
     "output_type": "stream",
     "text": [
      "[2.13072954] [1.24883005]\n"
     ]
    },
    {
     "data": {
      "text/plain": [
       "array([1.46800018])"
      ]
     },
     "execution_count": 13,
     "metadata": {},
     "output_type": "execute_result"
    }
   ],
   "source": [
    "x, y = GD(f=func_korm, dx=dx_korm, dy=dy_korm, x0=np.array([-1.5]), y0=np.array([4]), iter=1000, thr=1e-10)\n",
    "print(x, y)\n",
    "func_korm(x, y)"
   ]
  },
  {
   "cell_type": "code",
   "execution_count": 14,
   "id": "b12fff7e",
   "metadata": {
    "execution": {
     "iopub.execute_input": "2022-10-29T08:16:39.887135Z",
     "iopub.status.busy": "2022-10-29T08:16:39.886666Z",
     "iopub.status.idle": "2022-10-29T08:16:40.968303Z",
     "shell.execute_reply": "2022-10-29T08:16:40.966932Z"
    },
    "papermill": {
     "duration": 1.094542,
     "end_time": "2022-10-29T08:16:40.971197",
     "exception": false,
     "start_time": "2022-10-29T08:16:39.876655",
     "status": "completed"
    },
    "tags": []
   },
   "outputs": [
    {
     "name": "stderr",
     "output_type": "stream",
     "text": [
      "/opt/conda/lib/python3.7/site-packages/ipykernel_launcher.py:17: MatplotlibDeprecationWarning: Axes3D(fig) adding itself to the figure is deprecated since 3.4. Pass the keyword argument auto_add_to_figure=False and use fig.add_axes(ax) to suppress this warning. The default value of auto_add_to_figure will change to False in mpl3.5 and True values will no longer work in 3.6.  This is consistent with other Axes classes.\n",
      "  app.launch_new_instance()\n"
     ]
    },
    {
     "data": {
      "application/vnd.jupyter.widget-view+json": {
       "model_id": "d69573a4120949febc00a0aceec6e396",
       "version_major": 2,
       "version_minor": 0
      },
      "text/plain": [
       "Canvas(toolbar=Toolbar(toolitems=[('Home', 'Reset original view', 'home', 'home'), ('Back', 'Back to previous …"
      ]
     },
     "metadata": {},
     "output_type": "display_data"
    },
    {
     "name": "stdout",
     "output_type": "stream",
     "text": [
      "[2.5943951] [1.5943951]\n"
     ]
    },
    {
     "data": {
      "text/plain": [
       "array([1.2283697])"
      ]
     },
     "execution_count": 14,
     "metadata": {},
     "output_type": "execute_result"
    }
   ],
   "source": [
    "x, y = SGD(f=func_korm, dx=dx_korm, dy=dy_korm, x0=np.array([-1.5]), y0=np.array([4]), lr_start=0.1, iter=10000, thr=1e-10)\n",
    "print(x, y)\n",
    "func_korm(x, y)"
   ]
  },
  {
   "cell_type": "code",
   "execution_count": 15,
   "id": "40eebf49",
   "metadata": {
    "execution": {
     "iopub.execute_input": "2022-10-29T08:16:40.991916Z",
     "iopub.status.busy": "2022-10-29T08:16:40.990990Z",
     "iopub.status.idle": "2022-10-29T08:16:43.553139Z",
     "shell.execute_reply": "2022-10-29T08:16:43.552032Z"
    },
    "papermill": {
     "duration": 2.579448,
     "end_time": "2022-10-29T08:16:43.559887",
     "exception": false,
     "start_time": "2022-10-29T08:16:40.980439",
     "status": "completed"
    },
    "tags": []
   },
   "outputs": [
    {
     "name": "stderr",
     "output_type": "stream",
     "text": [
      "/opt/conda/lib/python3.7/site-packages/ipykernel_launcher.py:17: MatplotlibDeprecationWarning: Axes3D(fig) adding itself to the figure is deprecated since 3.4. Pass the keyword argument auto_add_to_figure=False and use fig.add_axes(ax) to suppress this warning. The default value of auto_add_to_figure will change to False in mpl3.5 and True values will no longer work in 3.6.  This is consistent with other Axes classes.\n",
      "  app.launch_new_instance()\n"
     ]
    },
    {
     "data": {
      "application/vnd.jupyter.widget-view+json": {
       "model_id": "f6cc4c652864492595e986fec1f5f785",
       "version_major": 2,
       "version_minor": 0
      },
      "text/plain": [
       "Canvas(toolbar=Toolbar(toolitems=[('Home', 'Reset original view', 'home', 'home'), ('Back', 'Back to previous …"
      ]
     },
     "metadata": {},
     "output_type": "display_data"
    },
    {
     "name": "stdout",
     "output_type": "stream",
     "text": [
      "[1.94204673] [1.07915417]\n"
     ]
    },
    {
     "data": {
      "text/plain": [
       "array([1.64950004])"
      ]
     },
     "execution_count": 15,
     "metadata": {},
     "output_type": "execute_result"
    }
   ],
   "source": [
    "x, y = ADAGRAD(f=func_korm, dx=dx_korm, dy=dy_korm, x0=np.array([-1.5]), y0=np.array([4]), iter=1000, thr=1e-10)\n",
    "print(x, y)\n",
    "func_korm(x, y)"
   ]
  },
  {
   "cell_type": "markdown",
   "id": "1ba37b4a",
   "metadata": {
    "papermill": {
     "duration": 0.009696,
     "end_time": "2022-10-29T08:16:43.579793",
     "exception": false,
     "start_time": "2022-10-29T08:16:43.570097",
     "status": "completed"
    },
    "tags": []
   },
   "source": [
    "### Тестирование функции Химмельблау"
   ]
  },
  {
   "cell_type": "code",
   "execution_count": 16,
   "id": "33094ccf",
   "metadata": {
    "execution": {
     "iopub.execute_input": "2022-10-29T08:16:43.600475Z",
     "iopub.status.busy": "2022-10-29T08:16:43.600045Z",
     "iopub.status.idle": "2022-10-29T08:16:43.605861Z",
     "shell.execute_reply": "2022-10-29T08:16:43.604724Z"
    },
    "papermill": {
     "duration": 0.018745,
     "end_time": "2022-10-29T08:16:43.608231",
     "exception": false,
     "start_time": "2022-10-29T08:16:43.589486",
     "status": "completed"
    },
    "tags": []
   },
   "outputs": [],
   "source": [
    "a = np.arange(-5,5,0.1)\n",
    "b = np.arange(-5,5,0.1)\n",
    "xgrid, ygrid = np.meshgrid(a, b)"
   ]
  },
  {
   "cell_type": "code",
   "execution_count": 17,
   "id": "a6dde38d",
   "metadata": {
    "execution": {
     "iopub.execute_input": "2022-10-29T08:16:43.628842Z",
     "iopub.status.busy": "2022-10-29T08:16:43.628446Z",
     "iopub.status.idle": "2022-10-29T08:16:44.537526Z",
     "shell.execute_reply": "2022-10-29T08:16:44.536474Z"
    },
    "papermill": {
     "duration": 0.923795,
     "end_time": "2022-10-29T08:16:44.541353",
     "exception": false,
     "start_time": "2022-10-29T08:16:43.617558",
     "status": "completed"
    },
    "tags": []
   },
   "outputs": [
    {
     "name": "stderr",
     "output_type": "stream",
     "text": [
      "/opt/conda/lib/python3.7/site-packages/ipykernel_launcher.py:17: MatplotlibDeprecationWarning: Axes3D(fig) adding itself to the figure is deprecated since 3.4. Pass the keyword argument auto_add_to_figure=False and use fig.add_axes(ax) to suppress this warning. The default value of auto_add_to_figure will change to False in mpl3.5 and True values will no longer work in 3.6.  This is consistent with other Axes classes.\n",
      "  app.launch_new_instance()\n"
     ]
    },
    {
     "data": {
      "application/vnd.jupyter.widget-view+json": {
       "model_id": "46b6b4349a50409992a4246acef04884",
       "version_major": 2,
       "version_minor": 0
      },
      "text/plain": [
       "Canvas(toolbar=Toolbar(toolitems=[('Home', 'Reset original view', 'home', 'home'), ('Back', 'Back to previous …"
      ]
     },
     "metadata": {},
     "output_type": "display_data"
    },
    {
     "name": "stdout",
     "output_type": "stream",
     "text": [
      "[-2.98078782] [3.24652946]\n"
     ]
    },
    {
     "data": {
      "text/plain": [
       "array([1.59324253])"
      ]
     },
     "execution_count": 17,
     "metadata": {},
     "output_type": "execute_result"
    }
   ],
   "source": [
    "x, y = GD(f=func_him, dx=dx_him, dy=dy_him, x0=np.array([-5]), y0=np.array([5]), iter=20000, thr=10)\n",
    "print(x, y)\n",
    "func_him(x, y)"
   ]
  },
  {
   "cell_type": "code",
   "execution_count": 18,
   "id": "725a8ee1",
   "metadata": {
    "execution": {
     "iopub.execute_input": "2022-10-29T08:16:44.563752Z",
     "iopub.status.busy": "2022-10-29T08:16:44.562700Z",
     "iopub.status.idle": "2022-10-29T08:16:46.085918Z",
     "shell.execute_reply": "2022-10-29T08:16:46.084950Z"
    },
    "papermill": {
     "duration": 1.537023,
     "end_time": "2022-10-29T08:16:46.088576",
     "exception": false,
     "start_time": "2022-10-29T08:16:44.551553",
     "status": "completed"
    },
    "tags": []
   },
   "outputs": [
    {
     "name": "stderr",
     "output_type": "stream",
     "text": [
      "/opt/conda/lib/python3.7/site-packages/ipykernel_launcher.py:17: MatplotlibDeprecationWarning: Axes3D(fig) adding itself to the figure is deprecated since 3.4. Pass the keyword argument auto_add_to_figure=False and use fig.add_axes(ax) to suppress this warning. The default value of auto_add_to_figure will change to False in mpl3.5 and True values will no longer work in 3.6.  This is consistent with other Axes classes.\n",
      "  app.launch_new_instance()\n"
     ]
    },
    {
     "data": {
      "application/vnd.jupyter.widget-view+json": {
       "model_id": "4133c50446474e05b2c77edc72d761e5",
       "version_major": 2,
       "version_minor": 0
      },
      "text/plain": [
       "Canvas(toolbar=Toolbar(toolitems=[('Home', 'Reset original view', 'home', 'home'), ('Back', 'Back to previous …"
      ]
     },
     "metadata": {},
     "output_type": "display_data"
    },
    {
     "name": "stdout",
     "output_type": "stream",
     "text": [
      "[2.95204906] [2.63829355]\n"
     ]
    },
    {
     "data": {
      "text/plain": [
       "array([8.60801241])"
      ]
     },
     "execution_count": 18,
     "metadata": {},
     "output_type": "execute_result"
    }
   ],
   "source": [
    "x, y = ADAGRAD(f=func_him, dx=dx_him, dy=dy_him, x0=np.array([5]), y0=np.array([5]), iter=2000, thr=10)\n",
    "print(x, y)\n",
    "func_him(x, y)"
   ]
  },
  {
   "cell_type": "code",
   "execution_count": null,
   "id": "31cf1204",
   "metadata": {
    "papermill": {
     "duration": 0.010463,
     "end_time": "2022-10-29T08:16:46.109625",
     "exception": false,
     "start_time": "2022-10-29T08:16:46.099162",
     "status": "completed"
    },
    "tags": []
   },
   "outputs": [],
   "source": []
  },
  {
   "cell_type": "code",
   "execution_count": null,
   "id": "d2278bd4",
   "metadata": {
    "papermill": {
     "duration": 0.00992,
     "end_time": "2022-10-29T08:16:46.129678",
     "exception": false,
     "start_time": "2022-10-29T08:16:46.119758",
     "status": "completed"
    },
    "tags": []
   },
   "outputs": [],
   "source": []
  }
 ],
 "metadata": {
  "kernelspec": {
   "display_name": "Python 3",
   "language": "python",
   "name": "python3"
  },
  "language_info": {
   "codemirror_mode": {
    "name": "ipython",
    "version": 3
   },
   "file_extension": ".py",
   "mimetype": "text/x-python",
   "name": "python",
   "nbconvert_exporter": "python",
   "pygments_lexer": "ipython3",
   "version": "3.7.12"
  },
  "papermill": {
   "default_parameters": {},
   "duration": 56.962939,
   "end_time": "2022-10-29T08:16:48.582208",
   "environment_variables": {},
   "exception": null,
   "input_path": "__notebook__.ipynb",
   "output_path": "__notebook__.ipynb",
   "parameters": {},
   "start_time": "2022-10-29T08:15:51.619269",
   "version": "2.3.4"
  },
  "widgets": {
   "application/vnd.jupyter.widget-state+json": {
    "state": {
     "0f12168a9ff744aa989af5c6978a095c": {
      "model_module": "@jupyter-widgets/base",
      "model_module_version": "1.2.0",
      "model_name": "LayoutModel",
      "state": {
       "_model_module": "@jupyter-widgets/base",
       "_model_module_version": "1.2.0",
       "_model_name": "LayoutModel",
       "_view_count": null,
       "_view_module": "@jupyter-widgets/base",
       "_view_module_version": "1.2.0",
       "_view_name": "LayoutView",
       "align_content": null,
       "align_items": null,
       "align_self": null,
       "border": null,
       "bottom": null,
       "display": null,
       "flex": null,
       "flex_flow": null,
       "grid_area": null,
       "grid_auto_columns": null,
       "grid_auto_flow": null,
       "grid_auto_rows": null,
       "grid_column": null,
       "grid_gap": null,
       "grid_row": null,
       "grid_template_areas": null,
       "grid_template_columns": null,
       "grid_template_rows": null,
       "height": null,
       "justify_content": null,
       "justify_items": null,
       "left": null,
       "margin": null,
       "max_height": null,
       "max_width": null,
       "min_height": null,
       "min_width": null,
       "object_fit": null,
       "object_position": null,
       "order": null,
       "overflow": null,
       "overflow_x": null,
       "overflow_y": null,
       "padding": null,
       "right": null,
       "top": null,
       "visibility": null,
       "width": null
      }
     },
     "1809073f672e401194840110d759ca38": {
      "model_module": "jupyter-matplotlib",
      "model_module_version": "^0.9.0",
      "model_name": "MPLCanvasModel",
      "state": {
       "_cursor": "pointer",
       "_dom_classes": [],
       "_figure_label": "Figure",
       "_height": 0,
       "_image_mode": "full",
       "_message": "",
       "_model_module": "jupyter-matplotlib",
       "_model_module_version": "^0.9.0",
       "_model_name": "MPLCanvasModel",
       "_rubberband_height": 0,
       "_rubberband_width": 0,
       "_rubberband_x": 0,
       "_rubberband_y": 0,
       "_view_count": null,
       "_view_module": "jupyter-matplotlib",
       "_view_module_version": "^0.9.0",
       "_view_name": "MPLCanvasView",
       "_width": 0,
       "capture_scroll": false,
       "footer_visible": true,
       "header_visible": true,
       "layout": "IPY_MODEL_b5783e1c574c43e5a5df1f2fbc36b6d2",
       "resizable": true,
       "toolbar": "IPY_MODEL_59768e17811a408299c9b82ab610f88e",
       "toolbar_position": "left",
       "toolbar_visible": true
      }
     },
     "2d69923ffa144934a5b2477b600f7af0": {
      "model_module": "@jupyter-widgets/base",
      "model_module_version": "1.2.0",
      "model_name": "LayoutModel",
      "state": {
       "_model_module": "@jupyter-widgets/base",
       "_model_module_version": "1.2.0",
       "_model_name": "LayoutModel",
       "_view_count": null,
       "_view_module": "@jupyter-widgets/base",
       "_view_module_version": "1.2.0",
       "_view_name": "LayoutView",
       "align_content": null,
       "align_items": null,
       "align_self": null,
       "border": null,
       "bottom": null,
       "display": null,
       "flex": null,
       "flex_flow": null,
       "grid_area": null,
       "grid_auto_columns": null,
       "grid_auto_flow": null,
       "grid_auto_rows": null,
       "grid_column": null,
       "grid_gap": null,
       "grid_row": null,
       "grid_template_areas": null,
       "grid_template_columns": null,
       "grid_template_rows": null,
       "height": null,
       "justify_content": null,
       "justify_items": null,
       "left": null,
       "margin": null,
       "max_height": null,
       "max_width": null,
       "min_height": null,
       "min_width": null,
       "object_fit": null,
       "object_position": null,
       "order": null,
       "overflow": null,
       "overflow_x": null,
       "overflow_y": null,
       "padding": null,
       "right": null,
       "top": null,
       "visibility": null,
       "width": null
      }
     },
     "3d664c1bdee6477d94881d9bd8cee981": {
      "model_module": "jupyter-matplotlib",
      "model_module_version": "^0.9.0",
      "model_name": "MPLCanvasModel",
      "state": {
       "_cursor": "pointer",
       "_dom_classes": [],
       "_figure_label": "Figure",
       "_height": 0,
       "_image_mode": "full",
       "_message": "",
       "_model_module": "jupyter-matplotlib",
       "_model_module_version": "^0.9.0",
       "_model_name": "MPLCanvasModel",
       "_rubberband_height": 0,
       "_rubberband_width": 0,
       "_rubberband_x": 0,
       "_rubberband_y": 0,
       "_view_count": null,
       "_view_module": "jupyter-matplotlib",
       "_view_module_version": "^0.9.0",
       "_view_name": "MPLCanvasView",
       "_width": 0,
       "capture_scroll": false,
       "footer_visible": true,
       "header_visible": true,
       "layout": "IPY_MODEL_ce1057006b864fc79eb7791f7cbe7996",
       "resizable": true,
       "toolbar": "IPY_MODEL_c5d836712be14f028f85de30b8a15780",
       "toolbar_position": "left",
       "toolbar_visible": true
      }
     },
     "4133c50446474e05b2c77edc72d761e5": {
      "model_module": "jupyter-matplotlib",
      "model_module_version": "^0.9.0",
      "model_name": "MPLCanvasModel",
      "state": {
       "_cursor": "pointer",
       "_dom_classes": [],
       "_figure_label": "Figure",
       "_height": 0,
       "_image_mode": "full",
       "_message": "",
       "_model_module": "jupyter-matplotlib",
       "_model_module_version": "^0.9.0",
       "_model_name": "MPLCanvasModel",
       "_rubberband_height": 0,
       "_rubberband_width": 0,
       "_rubberband_x": 0,
       "_rubberband_y": 0,
       "_view_count": null,
       "_view_module": "jupyter-matplotlib",
       "_view_module_version": "^0.9.0",
       "_view_name": "MPLCanvasView",
       "_width": 0,
       "capture_scroll": false,
       "footer_visible": true,
       "header_visible": true,
       "layout": "IPY_MODEL_9221c1f5a6e14c9ca28a4224d4d28013",
       "resizable": true,
       "toolbar": "IPY_MODEL_5bf971585ab54e7387bd6304fc558cce",
       "toolbar_position": "left",
       "toolbar_visible": true
      }
     },
     "46b6b4349a50409992a4246acef04884": {
      "model_module": "jupyter-matplotlib",
      "model_module_version": "^0.9.0",
      "model_name": "MPLCanvasModel",
      "state": {
       "_cursor": "pointer",
       "_dom_classes": [],
       "_figure_label": "Figure",
       "_height": 0,
       "_image_mode": "full",
       "_message": "",
       "_model_module": "jupyter-matplotlib",
       "_model_module_version": "^0.9.0",
       "_model_name": "MPLCanvasModel",
       "_rubberband_height": 0,
       "_rubberband_width": 0,
       "_rubberband_x": 0,
       "_rubberband_y": 0,
       "_view_count": null,
       "_view_module": "jupyter-matplotlib",
       "_view_module_version": "^0.9.0",
       "_view_name": "MPLCanvasView",
       "_width": 0,
       "capture_scroll": false,
       "footer_visible": true,
       "header_visible": true,
       "layout": "IPY_MODEL_756bfdeda8db466f87d11ffb4da0b1cf",
       "resizable": true,
       "toolbar": "IPY_MODEL_8f66c767f22f4b3bafa479ee0f068b30",
       "toolbar_position": "left",
       "toolbar_visible": true
      }
     },
     "59768e17811a408299c9b82ab610f88e": {
      "model_module": "jupyter-matplotlib",
      "model_module_version": "^0.9.0",
      "model_name": "ToolbarModel",
      "state": {
       "_current_action": "",
       "_dom_classes": [],
       "_model_module": "jupyter-matplotlib",
       "_model_module_version": "^0.9.0",
       "_model_name": "ToolbarModel",
       "_view_count": null,
       "_view_module": "jupyter-matplotlib",
       "_view_module_version": "^0.9.0",
       "_view_name": "ToolbarView",
       "button_style": "",
       "collapsed": true,
       "layout": "IPY_MODEL_f95acb147f5c434f826183f9db28730b",
       "orientation": "vertical",
       "toolitems": [
        [
         "Home",
         "Reset original view",
         "home",
         "home"
        ],
        [
         "Back",
         "Back to previous view",
         "arrow-left",
         "back"
        ],
        [
         "Forward",
         "Forward to next view",
         "arrow-right",
         "forward"
        ],
        [
         "Pan",
         "Left button pans, Right button zooms\nx/y fixes axis, CTRL fixes aspect",
         "arrows",
         "pan"
        ],
        [
         "Zoom",
         "Zoom to rectangle\nx/y fixes axis",
         "square-o",
         "zoom"
        ],
        [
         "Download",
         "Download plot",
         "floppy-o",
         "save_figure"
        ]
       ]
      }
     },
     "5bf971585ab54e7387bd6304fc558cce": {
      "model_module": "jupyter-matplotlib",
      "model_module_version": "^0.9.0",
      "model_name": "ToolbarModel",
      "state": {
       "_current_action": "",
       "_dom_classes": [],
       "_model_module": "jupyter-matplotlib",
       "_model_module_version": "^0.9.0",
       "_model_name": "ToolbarModel",
       "_view_count": null,
       "_view_module": "jupyter-matplotlib",
       "_view_module_version": "^0.9.0",
       "_view_name": "ToolbarView",
       "button_style": "",
       "collapsed": true,
       "layout": "IPY_MODEL_63c37cc304ec4cbaa8450c1cdfb6ff6a",
       "orientation": "vertical",
       "toolitems": [
        [
         "Home",
         "Reset original view",
         "home",
         "home"
        ],
        [
         "Back",
         "Back to previous view",
         "arrow-left",
         "back"
        ],
        [
         "Forward",
         "Forward to next view",
         "arrow-right",
         "forward"
        ],
        [
         "Pan",
         "Left button pans, Right button zooms\nx/y fixes axis, CTRL fixes aspect",
         "arrows",
         "pan"
        ],
        [
         "Zoom",
         "Zoom to rectangle\nx/y fixes axis",
         "square-o",
         "zoom"
        ],
        [
         "Download",
         "Download plot",
         "floppy-o",
         "save_figure"
        ]
       ]
      }
     },
     "5c0d9d0ae1634356a29ab2468cc99556": {
      "model_module": "@jupyter-widgets/base",
      "model_module_version": "1.2.0",
      "model_name": "LayoutModel",
      "state": {
       "_model_module": "@jupyter-widgets/base",
       "_model_module_version": "1.2.0",
       "_model_name": "LayoutModel",
       "_view_count": null,
       "_view_module": "@jupyter-widgets/base",
       "_view_module_version": "1.2.0",
       "_view_name": "LayoutView",
       "align_content": null,
       "align_items": null,
       "align_self": null,
       "border": null,
       "bottom": null,
       "display": null,
       "flex": null,
       "flex_flow": null,
       "grid_area": null,
       "grid_auto_columns": null,
       "grid_auto_flow": null,
       "grid_auto_rows": null,
       "grid_column": null,
       "grid_gap": null,
       "grid_row": null,
       "grid_template_areas": null,
       "grid_template_columns": null,
       "grid_template_rows": null,
       "height": null,
       "justify_content": null,
       "justify_items": null,
       "left": null,
       "margin": null,
       "max_height": null,
       "max_width": null,
       "min_height": null,
       "min_width": null,
       "object_fit": null,
       "object_position": null,
       "order": null,
       "overflow": null,
       "overflow_x": null,
       "overflow_y": null,
       "padding": null,
       "right": null,
       "top": null,
       "visibility": null,
       "width": null
      }
     },
     "63c37cc304ec4cbaa8450c1cdfb6ff6a": {
      "model_module": "@jupyter-widgets/base",
      "model_module_version": "1.2.0",
      "model_name": "LayoutModel",
      "state": {
       "_model_module": "@jupyter-widgets/base",
       "_model_module_version": "1.2.0",
       "_model_name": "LayoutModel",
       "_view_count": null,
       "_view_module": "@jupyter-widgets/base",
       "_view_module_version": "1.2.0",
       "_view_name": "LayoutView",
       "align_content": null,
       "align_items": null,
       "align_self": null,
       "border": null,
       "bottom": null,
       "display": null,
       "flex": null,
       "flex_flow": null,
       "grid_area": null,
       "grid_auto_columns": null,
       "grid_auto_flow": null,
       "grid_auto_rows": null,
       "grid_column": null,
       "grid_gap": null,
       "grid_row": null,
       "grid_template_areas": null,
       "grid_template_columns": null,
       "grid_template_rows": null,
       "height": null,
       "justify_content": null,
       "justify_items": null,
       "left": null,
       "margin": null,
       "max_height": null,
       "max_width": null,
       "min_height": null,
       "min_width": null,
       "object_fit": null,
       "object_position": null,
       "order": null,
       "overflow": null,
       "overflow_x": null,
       "overflow_y": null,
       "padding": null,
       "right": null,
       "top": null,
       "visibility": null,
       "width": null
      }
     },
     "673f10d58eff4de7979c2372cba6fd44": {
      "model_module": "@jupyter-widgets/base",
      "model_module_version": "1.2.0",
      "model_name": "LayoutModel",
      "state": {
       "_model_module": "@jupyter-widgets/base",
       "_model_module_version": "1.2.0",
       "_model_name": "LayoutModel",
       "_view_count": null,
       "_view_module": "@jupyter-widgets/base",
       "_view_module_version": "1.2.0",
       "_view_name": "LayoutView",
       "align_content": null,
       "align_items": null,
       "align_self": null,
       "border": null,
       "bottom": null,
       "display": null,
       "flex": null,
       "flex_flow": null,
       "grid_area": null,
       "grid_auto_columns": null,
       "grid_auto_flow": null,
       "grid_auto_rows": null,
       "grid_column": null,
       "grid_gap": null,
       "grid_row": null,
       "grid_template_areas": null,
       "grid_template_columns": null,
       "grid_template_rows": null,
       "height": null,
       "justify_content": null,
       "justify_items": null,
       "left": null,
       "margin": null,
       "max_height": null,
       "max_width": null,
       "min_height": null,
       "min_width": null,
       "object_fit": null,
       "object_position": null,
       "order": null,
       "overflow": null,
       "overflow_x": null,
       "overflow_y": null,
       "padding": null,
       "right": null,
       "top": null,
       "visibility": null,
       "width": null
      }
     },
     "756bfdeda8db466f87d11ffb4da0b1cf": {
      "model_module": "@jupyter-widgets/base",
      "model_module_version": "1.2.0",
      "model_name": "LayoutModel",
      "state": {
       "_model_module": "@jupyter-widgets/base",
       "_model_module_version": "1.2.0",
       "_model_name": "LayoutModel",
       "_view_count": null,
       "_view_module": "@jupyter-widgets/base",
       "_view_module_version": "1.2.0",
       "_view_name": "LayoutView",
       "align_content": null,
       "align_items": null,
       "align_self": null,
       "border": null,
       "bottom": null,
       "display": null,
       "flex": null,
       "flex_flow": null,
       "grid_area": null,
       "grid_auto_columns": null,
       "grid_auto_flow": null,
       "grid_auto_rows": null,
       "grid_column": null,
       "grid_gap": null,
       "grid_row": null,
       "grid_template_areas": null,
       "grid_template_columns": null,
       "grid_template_rows": null,
       "height": null,
       "justify_content": null,
       "justify_items": null,
       "left": null,
       "margin": null,
       "max_height": null,
       "max_width": null,
       "min_height": null,
       "min_width": null,
       "object_fit": null,
       "object_position": null,
       "order": null,
       "overflow": null,
       "overflow_x": null,
       "overflow_y": null,
       "padding": null,
       "right": null,
       "top": null,
       "visibility": null,
       "width": null
      }
     },
     "80d1a4f4dfc9428ba47e1e855d6a215b": {
      "model_module": "jupyter-matplotlib",
      "model_module_version": "^0.9.0",
      "model_name": "ToolbarModel",
      "state": {
       "_current_action": "",
       "_dom_classes": [],
       "_model_module": "jupyter-matplotlib",
       "_model_module_version": "^0.9.0",
       "_model_name": "ToolbarModel",
       "_view_count": null,
       "_view_module": "jupyter-matplotlib",
       "_view_module_version": "^0.9.0",
       "_view_name": "ToolbarView",
       "button_style": "",
       "collapsed": true,
       "layout": "IPY_MODEL_f636c011c2d24d328d50e8be1e28204b",
       "orientation": "vertical",
       "toolitems": [
        [
         "Home",
         "Reset original view",
         "home",
         "home"
        ],
        [
         "Back",
         "Back to previous view",
         "arrow-left",
         "back"
        ],
        [
         "Forward",
         "Forward to next view",
         "arrow-right",
         "forward"
        ],
        [
         "Pan",
         "Left button pans, Right button zooms\nx/y fixes axis, CTRL fixes aspect",
         "arrows",
         "pan"
        ],
        [
         "Zoom",
         "Zoom to rectangle\nx/y fixes axis",
         "square-o",
         "zoom"
        ],
        [
         "Download",
         "Download plot",
         "floppy-o",
         "save_figure"
        ]
       ]
      }
     },
     "843663eac5ab4f96aaee99fa8e6ec758": {
      "model_module": "jupyter-matplotlib",
      "model_module_version": "^0.9.0",
      "model_name": "MPLCanvasModel",
      "state": {
       "_cursor": "pointer",
       "_dom_classes": [],
       "_figure_label": "Figure",
       "_height": 0,
       "_image_mode": "full",
       "_message": "",
       "_model_module": "jupyter-matplotlib",
       "_model_module_version": "^0.9.0",
       "_model_name": "MPLCanvasModel",
       "_rubberband_height": 0,
       "_rubberband_width": 0,
       "_rubberband_x": 0,
       "_rubberband_y": 0,
       "_view_count": null,
       "_view_module": "jupyter-matplotlib",
       "_view_module_version": "^0.9.0",
       "_view_name": "MPLCanvasView",
       "_width": 0,
       "capture_scroll": false,
       "footer_visible": true,
       "header_visible": true,
       "layout": "IPY_MODEL_fda53a06416e40069f36d0a71ba2674a",
       "resizable": true,
       "toolbar": "IPY_MODEL_8876874190ff42728b5268e62af04dee",
       "toolbar_position": "left",
       "toolbar_visible": true
      }
     },
     "8876874190ff42728b5268e62af04dee": {
      "model_module": "jupyter-matplotlib",
      "model_module_version": "^0.9.0",
      "model_name": "ToolbarModel",
      "state": {
       "_current_action": "",
       "_dom_classes": [],
       "_model_module": "jupyter-matplotlib",
       "_model_module_version": "^0.9.0",
       "_model_name": "ToolbarModel",
       "_view_count": null,
       "_view_module": "jupyter-matplotlib",
       "_view_module_version": "^0.9.0",
       "_view_name": "ToolbarView",
       "button_style": "",
       "collapsed": true,
       "layout": "IPY_MODEL_a4b5c594445d4d458b5cf42c65cbec5f",
       "orientation": "vertical",
       "toolitems": [
        [
         "Home",
         "Reset original view",
         "home",
         "home"
        ],
        [
         "Back",
         "Back to previous view",
         "arrow-left",
         "back"
        ],
        [
         "Forward",
         "Forward to next view",
         "arrow-right",
         "forward"
        ],
        [
         "Pan",
         "Left button pans, Right button zooms\nx/y fixes axis, CTRL fixes aspect",
         "arrows",
         "pan"
        ],
        [
         "Zoom",
         "Zoom to rectangle\nx/y fixes axis",
         "square-o",
         "zoom"
        ],
        [
         "Download",
         "Download plot",
         "floppy-o",
         "save_figure"
        ]
       ]
      }
     },
     "8b0f151b41f448ca851261e8179fd127": {
      "model_module": "@jupyter-widgets/base",
      "model_module_version": "1.2.0",
      "model_name": "LayoutModel",
      "state": {
       "_model_module": "@jupyter-widgets/base",
       "_model_module_version": "1.2.0",
       "_model_name": "LayoutModel",
       "_view_count": null,
       "_view_module": "@jupyter-widgets/base",
       "_view_module_version": "1.2.0",
       "_view_name": "LayoutView",
       "align_content": null,
       "align_items": null,
       "align_self": null,
       "border": null,
       "bottom": null,
       "display": null,
       "flex": null,
       "flex_flow": null,
       "grid_area": null,
       "grid_auto_columns": null,
       "grid_auto_flow": null,
       "grid_auto_rows": null,
       "grid_column": null,
       "grid_gap": null,
       "grid_row": null,
       "grid_template_areas": null,
       "grid_template_columns": null,
       "grid_template_rows": null,
       "height": null,
       "justify_content": null,
       "justify_items": null,
       "left": null,
       "margin": null,
       "max_height": null,
       "max_width": null,
       "min_height": null,
       "min_width": null,
       "object_fit": null,
       "object_position": null,
       "order": null,
       "overflow": null,
       "overflow_x": null,
       "overflow_y": null,
       "padding": null,
       "right": null,
       "top": null,
       "visibility": null,
       "width": null
      }
     },
     "8f66c767f22f4b3bafa479ee0f068b30": {
      "model_module": "jupyter-matplotlib",
      "model_module_version": "^0.9.0",
      "model_name": "ToolbarModel",
      "state": {
       "_current_action": "",
       "_dom_classes": [],
       "_model_module": "jupyter-matplotlib",
       "_model_module_version": "^0.9.0",
       "_model_name": "ToolbarModel",
       "_view_count": null,
       "_view_module": "jupyter-matplotlib",
       "_view_module_version": "^0.9.0",
       "_view_name": "ToolbarView",
       "button_style": "",
       "collapsed": true,
       "layout": "IPY_MODEL_e3563e20957c49c2899ca603207bd661",
       "orientation": "vertical",
       "toolitems": [
        [
         "Home",
         "Reset original view",
         "home",
         "home"
        ],
        [
         "Back",
         "Back to previous view",
         "arrow-left",
         "back"
        ],
        [
         "Forward",
         "Forward to next view",
         "arrow-right",
         "forward"
        ],
        [
         "Pan",
         "Left button pans, Right button zooms\nx/y fixes axis, CTRL fixes aspect",
         "arrows",
         "pan"
        ],
        [
         "Zoom",
         "Zoom to rectangle\nx/y fixes axis",
         "square-o",
         "zoom"
        ],
        [
         "Download",
         "Download plot",
         "floppy-o",
         "save_figure"
        ]
       ]
      }
     },
     "9221c1f5a6e14c9ca28a4224d4d28013": {
      "model_module": "@jupyter-widgets/base",
      "model_module_version": "1.2.0",
      "model_name": "LayoutModel",
      "state": {
       "_model_module": "@jupyter-widgets/base",
       "_model_module_version": "1.2.0",
       "_model_name": "LayoutModel",
       "_view_count": null,
       "_view_module": "@jupyter-widgets/base",
       "_view_module_version": "1.2.0",
       "_view_name": "LayoutView",
       "align_content": null,
       "align_items": null,
       "align_self": null,
       "border": null,
       "bottom": null,
       "display": null,
       "flex": null,
       "flex_flow": null,
       "grid_area": null,
       "grid_auto_columns": null,
       "grid_auto_flow": null,
       "grid_auto_rows": null,
       "grid_column": null,
       "grid_gap": null,
       "grid_row": null,
       "grid_template_areas": null,
       "grid_template_columns": null,
       "grid_template_rows": null,
       "height": null,
       "justify_content": null,
       "justify_items": null,
       "left": null,
       "margin": null,
       "max_height": null,
       "max_width": null,
       "min_height": null,
       "min_width": null,
       "object_fit": null,
       "object_position": null,
       "order": null,
       "overflow": null,
       "overflow_x": null,
       "overflow_y": null,
       "padding": null,
       "right": null,
       "top": null,
       "visibility": null,
       "width": null
      }
     },
     "a4b5c594445d4d458b5cf42c65cbec5f": {
      "model_module": "@jupyter-widgets/base",
      "model_module_version": "1.2.0",
      "model_name": "LayoutModel",
      "state": {
       "_model_module": "@jupyter-widgets/base",
       "_model_module_version": "1.2.0",
       "_model_name": "LayoutModel",
       "_view_count": null,
       "_view_module": "@jupyter-widgets/base",
       "_view_module_version": "1.2.0",
       "_view_name": "LayoutView",
       "align_content": null,
       "align_items": null,
       "align_self": null,
       "border": null,
       "bottom": null,
       "display": null,
       "flex": null,
       "flex_flow": null,
       "grid_area": null,
       "grid_auto_columns": null,
       "grid_auto_flow": null,
       "grid_auto_rows": null,
       "grid_column": null,
       "grid_gap": null,
       "grid_row": null,
       "grid_template_areas": null,
       "grid_template_columns": null,
       "grid_template_rows": null,
       "height": null,
       "justify_content": null,
       "justify_items": null,
       "left": null,
       "margin": null,
       "max_height": null,
       "max_width": null,
       "min_height": null,
       "min_width": null,
       "object_fit": null,
       "object_position": null,
       "order": null,
       "overflow": null,
       "overflow_x": null,
       "overflow_y": null,
       "padding": null,
       "right": null,
       "top": null,
       "visibility": null,
       "width": null
      }
     },
     "b5783e1c574c43e5a5df1f2fbc36b6d2": {
      "model_module": "@jupyter-widgets/base",
      "model_module_version": "1.2.0",
      "model_name": "LayoutModel",
      "state": {
       "_model_module": "@jupyter-widgets/base",
       "_model_module_version": "1.2.0",
       "_model_name": "LayoutModel",
       "_view_count": null,
       "_view_module": "@jupyter-widgets/base",
       "_view_module_version": "1.2.0",
       "_view_name": "LayoutView",
       "align_content": null,
       "align_items": null,
       "align_self": null,
       "border": null,
       "bottom": null,
       "display": null,
       "flex": null,
       "flex_flow": null,
       "grid_area": null,
       "grid_auto_columns": null,
       "grid_auto_flow": null,
       "grid_auto_rows": null,
       "grid_column": null,
       "grid_gap": null,
       "grid_row": null,
       "grid_template_areas": null,
       "grid_template_columns": null,
       "grid_template_rows": null,
       "height": null,
       "justify_content": null,
       "justify_items": null,
       "left": null,
       "margin": null,
       "max_height": null,
       "max_width": null,
       "min_height": null,
       "min_width": null,
       "object_fit": null,
       "object_position": null,
       "order": null,
       "overflow": null,
       "overflow_x": null,
       "overflow_y": null,
       "padding": null,
       "right": null,
       "top": null,
       "visibility": null,
       "width": null
      }
     },
     "ba0ce5b0ef7b4573a9e131348cb999af": {
      "model_module": "jupyter-matplotlib",
      "model_module_version": "^0.9.0",
      "model_name": "ToolbarModel",
      "state": {
       "_current_action": "",
       "_dom_classes": [],
       "_model_module": "jupyter-matplotlib",
       "_model_module_version": "^0.9.0",
       "_model_name": "ToolbarModel",
       "_view_count": null,
       "_view_module": "jupyter-matplotlib",
       "_view_module_version": "^0.9.0",
       "_view_name": "ToolbarView",
       "button_style": "",
       "collapsed": true,
       "layout": "IPY_MODEL_2d69923ffa144934a5b2477b600f7af0",
       "orientation": "vertical",
       "toolitems": [
        [
         "Home",
         "Reset original view",
         "home",
         "home"
        ],
        [
         "Back",
         "Back to previous view",
         "arrow-left",
         "back"
        ],
        [
         "Forward",
         "Forward to next view",
         "arrow-right",
         "forward"
        ],
        [
         "Pan",
         "Left button pans, Right button zooms\nx/y fixes axis, CTRL fixes aspect",
         "arrows",
         "pan"
        ],
        [
         "Zoom",
         "Zoom to rectangle\nx/y fixes axis",
         "square-o",
         "zoom"
        ],
        [
         "Download",
         "Download plot",
         "floppy-o",
         "save_figure"
        ]
       ]
      }
     },
     "c5285a63ae174045815d08e99b8ef63e": {
      "model_module": "jupyter-matplotlib",
      "model_module_version": "^0.9.0",
      "model_name": "ToolbarModel",
      "state": {
       "_current_action": "",
       "_dom_classes": [],
       "_model_module": "jupyter-matplotlib",
       "_model_module_version": "^0.9.0",
       "_model_name": "ToolbarModel",
       "_view_count": null,
       "_view_module": "jupyter-matplotlib",
       "_view_module_version": "^0.9.0",
       "_view_name": "ToolbarView",
       "button_style": "",
       "collapsed": true,
       "layout": "IPY_MODEL_8b0f151b41f448ca851261e8179fd127",
       "orientation": "vertical",
       "toolitems": [
        [
         "Home",
         "Reset original view",
         "home",
         "home"
        ],
        [
         "Back",
         "Back to previous view",
         "arrow-left",
         "back"
        ],
        [
         "Forward",
         "Forward to next view",
         "arrow-right",
         "forward"
        ],
        [
         "Pan",
         "Left button pans, Right button zooms\nx/y fixes axis, CTRL fixes aspect",
         "arrows",
         "pan"
        ],
        [
         "Zoom",
         "Zoom to rectangle\nx/y fixes axis",
         "square-o",
         "zoom"
        ],
        [
         "Download",
         "Download plot",
         "floppy-o",
         "save_figure"
        ]
       ]
      }
     },
     "c5d836712be14f028f85de30b8a15780": {
      "model_module": "jupyter-matplotlib",
      "model_module_version": "^0.9.0",
      "model_name": "ToolbarModel",
      "state": {
       "_current_action": "",
       "_dom_classes": [],
       "_model_module": "jupyter-matplotlib",
       "_model_module_version": "^0.9.0",
       "_model_name": "ToolbarModel",
       "_view_count": null,
       "_view_module": "jupyter-matplotlib",
       "_view_module_version": "^0.9.0",
       "_view_name": "ToolbarView",
       "button_style": "",
       "collapsed": true,
       "layout": "IPY_MODEL_ca39e93809764bc9a3c1cea84b18a7a5",
       "orientation": "vertical",
       "toolitems": [
        [
         "Home",
         "Reset original view",
         "home",
         "home"
        ],
        [
         "Back",
         "Back to previous view",
         "arrow-left",
         "back"
        ],
        [
         "Forward",
         "Forward to next view",
         "arrow-right",
         "forward"
        ],
        [
         "Pan",
         "Left button pans, Right button zooms\nx/y fixes axis, CTRL fixes aspect",
         "arrows",
         "pan"
        ],
        [
         "Zoom",
         "Zoom to rectangle\nx/y fixes axis",
         "square-o",
         "zoom"
        ],
        [
         "Download",
         "Download plot",
         "floppy-o",
         "save_figure"
        ]
       ]
      }
     },
     "ca39e93809764bc9a3c1cea84b18a7a5": {
      "model_module": "@jupyter-widgets/base",
      "model_module_version": "1.2.0",
      "model_name": "LayoutModel",
      "state": {
       "_model_module": "@jupyter-widgets/base",
       "_model_module_version": "1.2.0",
       "_model_name": "LayoutModel",
       "_view_count": null,
       "_view_module": "@jupyter-widgets/base",
       "_view_module_version": "1.2.0",
       "_view_name": "LayoutView",
       "align_content": null,
       "align_items": null,
       "align_self": null,
       "border": null,
       "bottom": null,
       "display": null,
       "flex": null,
       "flex_flow": null,
       "grid_area": null,
       "grid_auto_columns": null,
       "grid_auto_flow": null,
       "grid_auto_rows": null,
       "grid_column": null,
       "grid_gap": null,
       "grid_row": null,
       "grid_template_areas": null,
       "grid_template_columns": null,
       "grid_template_rows": null,
       "height": null,
       "justify_content": null,
       "justify_items": null,
       "left": null,
       "margin": null,
       "max_height": null,
       "max_width": null,
       "min_height": null,
       "min_width": null,
       "object_fit": null,
       "object_position": null,
       "order": null,
       "overflow": null,
       "overflow_x": null,
       "overflow_y": null,
       "padding": null,
       "right": null,
       "top": null,
       "visibility": null,
       "width": null
      }
     },
     "cd17c308fe504cbeac3fe7209564f7c7": {
      "model_module": "jupyter-matplotlib",
      "model_module_version": "^0.9.0",
      "model_name": "MPLCanvasModel",
      "state": {
       "_cursor": "pointer",
       "_dom_classes": [],
       "_figure_label": "Figure",
       "_height": 0,
       "_image_mode": "full",
       "_message": "",
       "_model_module": "jupyter-matplotlib",
       "_model_module_version": "^0.9.0",
       "_model_name": "MPLCanvasModel",
       "_rubberband_height": 0,
       "_rubberband_width": 0,
       "_rubberband_x": 0,
       "_rubberband_y": 0,
       "_view_count": null,
       "_view_module": "jupyter-matplotlib",
       "_view_module_version": "^0.9.0",
       "_view_name": "MPLCanvasView",
       "_width": 0,
       "capture_scroll": false,
       "footer_visible": true,
       "header_visible": true,
       "layout": "IPY_MODEL_0f12168a9ff744aa989af5c6978a095c",
       "resizable": true,
       "toolbar": "IPY_MODEL_ba0ce5b0ef7b4573a9e131348cb999af",
       "toolbar_position": "left",
       "toolbar_visible": true
      }
     },
     "ce1057006b864fc79eb7791f7cbe7996": {
      "model_module": "@jupyter-widgets/base",
      "model_module_version": "1.2.0",
      "model_name": "LayoutModel",
      "state": {
       "_model_module": "@jupyter-widgets/base",
       "_model_module_version": "1.2.0",
       "_model_name": "LayoutModel",
       "_view_count": null,
       "_view_module": "@jupyter-widgets/base",
       "_view_module_version": "1.2.0",
       "_view_name": "LayoutView",
       "align_content": null,
       "align_items": null,
       "align_self": null,
       "border": null,
       "bottom": null,
       "display": null,
       "flex": null,
       "flex_flow": null,
       "grid_area": null,
       "grid_auto_columns": null,
       "grid_auto_flow": null,
       "grid_auto_rows": null,
       "grid_column": null,
       "grid_gap": null,
       "grid_row": null,
       "grid_template_areas": null,
       "grid_template_columns": null,
       "grid_template_rows": null,
       "height": null,
       "justify_content": null,
       "justify_items": null,
       "left": null,
       "margin": null,
       "max_height": null,
       "max_width": null,
       "min_height": null,
       "min_width": null,
       "object_fit": null,
       "object_position": null,
       "order": null,
       "overflow": null,
       "overflow_x": null,
       "overflow_y": null,
       "padding": null,
       "right": null,
       "top": null,
       "visibility": null,
       "width": null
      }
     },
     "d69573a4120949febc00a0aceec6e396": {
      "model_module": "jupyter-matplotlib",
      "model_module_version": "^0.9.0",
      "model_name": "MPLCanvasModel",
      "state": {
       "_cursor": "pointer",
       "_dom_classes": [],
       "_figure_label": "Figure",
       "_height": 0,
       "_image_mode": "full",
       "_message": "",
       "_model_module": "jupyter-matplotlib",
       "_model_module_version": "^0.9.0",
       "_model_name": "MPLCanvasModel",
       "_rubberband_height": 0,
       "_rubberband_width": 0,
       "_rubberband_x": 0,
       "_rubberband_y": 0,
       "_view_count": null,
       "_view_module": "jupyter-matplotlib",
       "_view_module_version": "^0.9.0",
       "_view_name": "MPLCanvasView",
       "_width": 0,
       "capture_scroll": false,
       "footer_visible": true,
       "header_visible": true,
       "layout": "IPY_MODEL_5c0d9d0ae1634356a29ab2468cc99556",
       "resizable": true,
       "toolbar": "IPY_MODEL_80d1a4f4dfc9428ba47e1e855d6a215b",
       "toolbar_position": "left",
       "toolbar_visible": true
      }
     },
     "e3563e20957c49c2899ca603207bd661": {
      "model_module": "@jupyter-widgets/base",
      "model_module_version": "1.2.0",
      "model_name": "LayoutModel",
      "state": {
       "_model_module": "@jupyter-widgets/base",
       "_model_module_version": "1.2.0",
       "_model_name": "LayoutModel",
       "_view_count": null,
       "_view_module": "@jupyter-widgets/base",
       "_view_module_version": "1.2.0",
       "_view_name": "LayoutView",
       "align_content": null,
       "align_items": null,
       "align_self": null,
       "border": null,
       "bottom": null,
       "display": null,
       "flex": null,
       "flex_flow": null,
       "grid_area": null,
       "grid_auto_columns": null,
       "grid_auto_flow": null,
       "grid_auto_rows": null,
       "grid_column": null,
       "grid_gap": null,
       "grid_row": null,
       "grid_template_areas": null,
       "grid_template_columns": null,
       "grid_template_rows": null,
       "height": null,
       "justify_content": null,
       "justify_items": null,
       "left": null,
       "margin": null,
       "max_height": null,
       "max_width": null,
       "min_height": null,
       "min_width": null,
       "object_fit": null,
       "object_position": null,
       "order": null,
       "overflow": null,
       "overflow_x": null,
       "overflow_y": null,
       "padding": null,
       "right": null,
       "top": null,
       "visibility": null,
       "width": null
      }
     },
     "f636c011c2d24d328d50e8be1e28204b": {
      "model_module": "@jupyter-widgets/base",
      "model_module_version": "1.2.0",
      "model_name": "LayoutModel",
      "state": {
       "_model_module": "@jupyter-widgets/base",
       "_model_module_version": "1.2.0",
       "_model_name": "LayoutModel",
       "_view_count": null,
       "_view_module": "@jupyter-widgets/base",
       "_view_module_version": "1.2.0",
       "_view_name": "LayoutView",
       "align_content": null,
       "align_items": null,
       "align_self": null,
       "border": null,
       "bottom": null,
       "display": null,
       "flex": null,
       "flex_flow": null,
       "grid_area": null,
       "grid_auto_columns": null,
       "grid_auto_flow": null,
       "grid_auto_rows": null,
       "grid_column": null,
       "grid_gap": null,
       "grid_row": null,
       "grid_template_areas": null,
       "grid_template_columns": null,
       "grid_template_rows": null,
       "height": null,
       "justify_content": null,
       "justify_items": null,
       "left": null,
       "margin": null,
       "max_height": null,
       "max_width": null,
       "min_height": null,
       "min_width": null,
       "object_fit": null,
       "object_position": null,
       "order": null,
       "overflow": null,
       "overflow_x": null,
       "overflow_y": null,
       "padding": null,
       "right": null,
       "top": null,
       "visibility": null,
       "width": null
      }
     },
     "f6cc4c652864492595e986fec1f5f785": {
      "model_module": "jupyter-matplotlib",
      "model_module_version": "^0.9.0",
      "model_name": "MPLCanvasModel",
      "state": {
       "_cursor": "pointer",
       "_dom_classes": [],
       "_figure_label": "Figure",
       "_height": 0,
       "_image_mode": "full",
       "_message": "",
       "_model_module": "jupyter-matplotlib",
       "_model_module_version": "^0.9.0",
       "_model_name": "MPLCanvasModel",
       "_rubberband_height": 0,
       "_rubberband_width": 0,
       "_rubberband_x": 0,
       "_rubberband_y": 0,
       "_view_count": null,
       "_view_module": "jupyter-matplotlib",
       "_view_module_version": "^0.9.0",
       "_view_name": "MPLCanvasView",
       "_width": 0,
       "capture_scroll": false,
       "footer_visible": true,
       "header_visible": true,
       "layout": "IPY_MODEL_673f10d58eff4de7979c2372cba6fd44",
       "resizable": true,
       "toolbar": "IPY_MODEL_c5285a63ae174045815d08e99b8ef63e",
       "toolbar_position": "left",
       "toolbar_visible": true
      }
     },
     "f95acb147f5c434f826183f9db28730b": {
      "model_module": "@jupyter-widgets/base",
      "model_module_version": "1.2.0",
      "model_name": "LayoutModel",
      "state": {
       "_model_module": "@jupyter-widgets/base",
       "_model_module_version": "1.2.0",
       "_model_name": "LayoutModel",
       "_view_count": null,
       "_view_module": "@jupyter-widgets/base",
       "_view_module_version": "1.2.0",
       "_view_name": "LayoutView",
       "align_content": null,
       "align_items": null,
       "align_self": null,
       "border": null,
       "bottom": null,
       "display": null,
       "flex": null,
       "flex_flow": null,
       "grid_area": null,
       "grid_auto_columns": null,
       "grid_auto_flow": null,
       "grid_auto_rows": null,
       "grid_column": null,
       "grid_gap": null,
       "grid_row": null,
       "grid_template_areas": null,
       "grid_template_columns": null,
       "grid_template_rows": null,
       "height": null,
       "justify_content": null,
       "justify_items": null,
       "left": null,
       "margin": null,
       "max_height": null,
       "max_width": null,
       "min_height": null,
       "min_width": null,
       "object_fit": null,
       "object_position": null,
       "order": null,
       "overflow": null,
       "overflow_x": null,
       "overflow_y": null,
       "padding": null,
       "right": null,
       "top": null,
       "visibility": null,
       "width": null
      }
     },
     "fda53a06416e40069f36d0a71ba2674a": {
      "model_module": "@jupyter-widgets/base",
      "model_module_version": "1.2.0",
      "model_name": "LayoutModel",
      "state": {
       "_model_module": "@jupyter-widgets/base",
       "_model_module_version": "1.2.0",
       "_model_name": "LayoutModel",
       "_view_count": null,
       "_view_module": "@jupyter-widgets/base",
       "_view_module_version": "1.2.0",
       "_view_name": "LayoutView",
       "align_content": null,
       "align_items": null,
       "align_self": null,
       "border": null,
       "bottom": null,
       "display": null,
       "flex": null,
       "flex_flow": null,
       "grid_area": null,
       "grid_auto_columns": null,
       "grid_auto_flow": null,
       "grid_auto_rows": null,
       "grid_column": null,
       "grid_gap": null,
       "grid_row": null,
       "grid_template_areas": null,
       "grid_template_columns": null,
       "grid_template_rows": null,
       "height": null,
       "justify_content": null,
       "justify_items": null,
       "left": null,
       "margin": null,
       "max_height": null,
       "max_width": null,
       "min_height": null,
       "min_width": null,
       "object_fit": null,
       "object_position": null,
       "order": null,
       "overflow": null,
       "overflow_x": null,
       "overflow_y": null,
       "padding": null,
       "right": null,
       "top": null,
       "visibility": null,
       "width": null
      }
     }
    },
    "version_major": 2,
    "version_minor": 0
   }
  }
 },
 "nbformat": 4,
 "nbformat_minor": 5
}
