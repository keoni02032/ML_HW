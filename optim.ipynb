{
 "cells": [
  {
   "cell_type": "code",
   "execution_count": 1,
   "id": "b8ed1151",
   "metadata": {
    "execution": {
     "iopub.execute_input": "2022-11-07T16:43:32.834874Z",
     "iopub.status.busy": "2022-11-07T16:43:32.834390Z",
     "iopub.status.idle": "2022-11-07T16:44:05.502070Z",
     "shell.execute_reply": "2022-11-07T16:44:05.500993Z"
    },
    "papermill": {
     "duration": 32.680945,
     "end_time": "2022-11-07T16:44:05.504869",
     "exception": false,
     "start_time": "2022-11-07T16:43:32.823924",
     "status": "completed"
    },
    "tags": []
   },
   "outputs": [
    {
     "name": "stdout",
     "output_type": "stream",
     "text": [
      "Requirement already satisfied: ipympl in /opt/conda/lib/python3.7/site-packages (0.7.0)\r\n",
      "Requirement already satisfied: ipykernel>=4.7 in /opt/conda/lib/python3.7/site-packages (from ipympl) (6.15.0)\r\n",
      "Requirement already satisfied: matplotlib>=2.0.0 in /opt/conda/lib/python3.7/site-packages (from ipympl) (3.5.3)\r\n",
      "Requirement already satisfied: ipywidgets>=7.6.0 in /opt/conda/lib/python3.7/site-packages (from ipympl) (7.7.1)\r\n",
      "Requirement already satisfied: nest-asyncio in /opt/conda/lib/python3.7/site-packages (from ipykernel>=4.7->ipympl) (1.5.5)\r\n",
      "Requirement already satisfied: traitlets>=5.1.0 in /opt/conda/lib/python3.7/site-packages (from ipykernel>=4.7->ipympl) (5.3.0)\r\n",
      "Requirement already satisfied: jupyter-client>=6.1.12 in /opt/conda/lib/python3.7/site-packages (from ipykernel>=4.7->ipympl) (7.3.4)\r\n",
      "Requirement already satisfied: ipython>=7.23.1 in /opt/conda/lib/python3.7/site-packages (from ipykernel>=4.7->ipympl) (7.33.0)\r\n",
      "Requirement already satisfied: psutil in /opt/conda/lib/python3.7/site-packages (from ipykernel>=4.7->ipympl) (5.9.1)\r\n",
      "Requirement already satisfied: matplotlib-inline>=0.1 in /opt/conda/lib/python3.7/site-packages (from ipykernel>=4.7->ipympl) (0.1.3)\r\n",
      "Requirement already satisfied: debugpy>=1.0 in /opt/conda/lib/python3.7/site-packages (from ipykernel>=4.7->ipympl) (1.6.0)\r\n",
      "Requirement already satisfied: pyzmq>=17 in /opt/conda/lib/python3.7/site-packages (from ipykernel>=4.7->ipympl) (23.2.0)\r\n",
      "Requirement already satisfied: tornado>=6.1 in /opt/conda/lib/python3.7/site-packages (from ipykernel>=4.7->ipympl) (6.1)\r\n",
      "Requirement already satisfied: packaging in /opt/conda/lib/python3.7/site-packages (from ipykernel>=4.7->ipympl) (21.3)\r\n",
      "Requirement already satisfied: widgetsnbextension~=3.6.0 in /opt/conda/lib/python3.7/site-packages (from ipywidgets>=7.6.0->ipympl) (3.6.1)\r\n",
      "Requirement already satisfied: ipython-genutils~=0.2.0 in /opt/conda/lib/python3.7/site-packages (from ipywidgets>=7.6.0->ipympl) (0.2.0)\r\n",
      "Requirement already satisfied: jupyterlab-widgets>=1.0.0 in /opt/conda/lib/python3.7/site-packages (from ipywidgets>=7.6.0->ipympl) (1.1.1)\r\n",
      "Requirement already satisfied: numpy>=1.17 in /opt/conda/lib/python3.7/site-packages (from matplotlib>=2.0.0->ipympl) (1.21.6)\r\n",
      "Requirement already satisfied: cycler>=0.10 in /opt/conda/lib/python3.7/site-packages (from matplotlib>=2.0.0->ipympl) (0.11.0)\r\n",
      "Requirement already satisfied: kiwisolver>=1.0.1 in /opt/conda/lib/python3.7/site-packages (from matplotlib>=2.0.0->ipympl) (1.4.3)\r\n",
      "Requirement already satisfied: pyparsing>=2.2.1 in /opt/conda/lib/python3.7/site-packages (from matplotlib>=2.0.0->ipympl) (3.0.9)\r\n",
      "Requirement already satisfied: pillow>=6.2.0 in /opt/conda/lib/python3.7/site-packages (from matplotlib>=2.0.0->ipympl) (9.1.1)\r\n",
      "Requirement already satisfied: python-dateutil>=2.7 in /opt/conda/lib/python3.7/site-packages (from matplotlib>=2.0.0->ipympl) (2.8.2)\r\n",
      "Requirement already satisfied: fonttools>=4.22.0 in /opt/conda/lib/python3.7/site-packages (from matplotlib>=2.0.0->ipympl) (4.33.3)\r\n",
      "Requirement already satisfied: backcall in /opt/conda/lib/python3.7/site-packages (from ipython>=7.23.1->ipykernel>=4.7->ipympl) (0.2.0)\r\n",
      "Requirement already satisfied: pexpect>4.3 in /opt/conda/lib/python3.7/site-packages (from ipython>=7.23.1->ipykernel>=4.7->ipympl) (4.8.0)\r\n",
      "Requirement already satisfied: prompt-toolkit!=3.0.0,!=3.0.1,<3.1.0,>=2.0.0 in /opt/conda/lib/python3.7/site-packages (from ipython>=7.23.1->ipykernel>=4.7->ipympl) (3.0.30)\r\n",
      "Requirement already satisfied: setuptools>=18.5 in /opt/conda/lib/python3.7/site-packages (from ipython>=7.23.1->ipykernel>=4.7->ipympl) (59.8.0)\r\n",
      "Requirement already satisfied: pickleshare in /opt/conda/lib/python3.7/site-packages (from ipython>=7.23.1->ipykernel>=4.7->ipympl) (0.7.5)\r\n",
      "Requirement already satisfied: decorator in /opt/conda/lib/python3.7/site-packages (from ipython>=7.23.1->ipykernel>=4.7->ipympl) (5.1.1)\r\n",
      "Requirement already satisfied: pygments in /opt/conda/lib/python3.7/site-packages (from ipython>=7.23.1->ipykernel>=4.7->ipympl) (2.12.0)\r\n",
      "Requirement already satisfied: jedi>=0.16 in /opt/conda/lib/python3.7/site-packages (from ipython>=7.23.1->ipykernel>=4.7->ipympl) (0.18.1)\r\n",
      "Requirement already satisfied: entrypoints in /opt/conda/lib/python3.7/site-packages (from jupyter-client>=6.1.12->ipykernel>=4.7->ipympl) (0.4)\r\n",
      "Requirement already satisfied: jupyter-core>=4.9.2 in /opt/conda/lib/python3.7/site-packages (from jupyter-client>=6.1.12->ipykernel>=4.7->ipympl) (4.10.0)\r\n",
      "Requirement already satisfied: typing-extensions in /opt/conda/lib/python3.7/site-packages (from kiwisolver>=1.0.1->matplotlib>=2.0.0->ipympl) (4.3.0)\r\n",
      "Requirement already satisfied: six>=1.5 in /opt/conda/lib/python3.7/site-packages (from python-dateutil>=2.7->matplotlib>=2.0.0->ipympl) (1.15.0)\r\n",
      "Requirement already satisfied: notebook>=4.4.1 in /opt/conda/lib/python3.7/site-packages (from widgetsnbextension~=3.6.0->ipywidgets>=7.6.0->ipympl) (6.4.12)\r\n",
      "Requirement already satisfied: parso<0.9.0,>=0.8.0 in /opt/conda/lib/python3.7/site-packages (from jedi>=0.16->ipython>=7.23.1->ipykernel>=4.7->ipympl) (0.8.3)\r\n",
      "Requirement already satisfied: jinja2 in /opt/conda/lib/python3.7/site-packages (from notebook>=4.4.1->widgetsnbextension~=3.6.0->ipywidgets>=7.6.0->ipympl) (3.1.2)\r\n",
      "Requirement already satisfied: terminado>=0.8.3 in /opt/conda/lib/python3.7/site-packages (from notebook>=4.4.1->widgetsnbextension~=3.6.0->ipywidgets>=7.6.0->ipympl) (0.15.0)\r\n",
      "Requirement already satisfied: prometheus-client in /opt/conda/lib/python3.7/site-packages (from notebook>=4.4.1->widgetsnbextension~=3.6.0->ipywidgets>=7.6.0->ipympl) (0.14.1)\r\n",
      "Requirement already satisfied: argon2-cffi in /opt/conda/lib/python3.7/site-packages (from notebook>=4.4.1->widgetsnbextension~=3.6.0->ipywidgets>=7.6.0->ipympl) (21.3.0)\r\n",
      "Requirement already satisfied: Send2Trash>=1.8.0 in /opt/conda/lib/python3.7/site-packages (from notebook>=4.4.1->widgetsnbextension~=3.6.0->ipywidgets>=7.6.0->ipympl) (1.8.0)\r\n",
      "Requirement already satisfied: nbconvert>=5 in /opt/conda/lib/python3.7/site-packages (from notebook>=4.4.1->widgetsnbextension~=3.6.0->ipywidgets>=7.6.0->ipympl) (6.4.5)\r\n",
      "Requirement already satisfied: nbformat in /opt/conda/lib/python3.7/site-packages (from notebook>=4.4.1->widgetsnbextension~=3.6.0->ipywidgets>=7.6.0->ipympl) (5.4.0)\r\n",
      "Requirement already satisfied: ptyprocess>=0.5 in /opt/conda/lib/python3.7/site-packages (from pexpect>4.3->ipython>=7.23.1->ipykernel>=4.7->ipympl) (0.7.0)\r\n",
      "Requirement already satisfied: wcwidth in /opt/conda/lib/python3.7/site-packages (from prompt-toolkit!=3.0.0,!=3.0.1,<3.1.0,>=2.0.0->ipython>=7.23.1->ipykernel>=4.7->ipympl) (0.2.5)\r\n",
      "Requirement already satisfied: testpath in /opt/conda/lib/python3.7/site-packages (from nbconvert>=5->notebook>=4.4.1->widgetsnbextension~=3.6.0->ipywidgets>=7.6.0->ipympl) (0.6.0)\r\n",
      "Requirement already satisfied: bleach in /opt/conda/lib/python3.7/site-packages (from nbconvert>=5->notebook>=4.4.1->widgetsnbextension~=3.6.0->ipywidgets>=7.6.0->ipympl) (5.0.1)\r\n",
      "Requirement already satisfied: pandocfilters>=1.4.1 in /opt/conda/lib/python3.7/site-packages (from nbconvert>=5->notebook>=4.4.1->widgetsnbextension~=3.6.0->ipywidgets>=7.6.0->ipympl) (1.5.0)\r\n",
      "Requirement already satisfied: beautifulsoup4 in /opt/conda/lib/python3.7/site-packages (from nbconvert>=5->notebook>=4.4.1->widgetsnbextension~=3.6.0->ipywidgets>=7.6.0->ipympl) (4.11.1)\r\n",
      "Requirement already satisfied: nbclient<0.6.0,>=0.5.0 in /opt/conda/lib/python3.7/site-packages (from nbconvert>=5->notebook>=4.4.1->widgetsnbextension~=3.6.0->ipywidgets>=7.6.0->ipympl) (0.5.13)\r\n",
      "Requirement already satisfied: MarkupSafe>=2.0 in /opt/conda/lib/python3.7/site-packages (from nbconvert>=5->notebook>=4.4.1->widgetsnbextension~=3.6.0->ipywidgets>=7.6.0->ipympl) (2.1.1)\r\n",
      "Requirement already satisfied: defusedxml in /opt/conda/lib/python3.7/site-packages (from nbconvert>=5->notebook>=4.4.1->widgetsnbextension~=3.6.0->ipywidgets>=7.6.0->ipympl) (0.7.1)\r\n",
      "Requirement already satisfied: jupyterlab-pygments in /opt/conda/lib/python3.7/site-packages (from nbconvert>=5->notebook>=4.4.1->widgetsnbextension~=3.6.0->ipywidgets>=7.6.0->ipympl) (0.2.2)\r\n",
      "Requirement already satisfied: mistune<2,>=0.8.1 in /opt/conda/lib/python3.7/site-packages (from nbconvert>=5->notebook>=4.4.1->widgetsnbextension~=3.6.0->ipywidgets>=7.6.0->ipympl) (0.8.4)\r\n",
      "Requirement already satisfied: jsonschema>=2.6 in /opt/conda/lib/python3.7/site-packages (from nbformat->notebook>=4.4.1->widgetsnbextension~=3.6.0->ipywidgets>=7.6.0->ipympl) (4.6.1)\r\n",
      "Requirement already satisfied: fastjsonschema in /opt/conda/lib/python3.7/site-packages (from nbformat->notebook>=4.4.1->widgetsnbextension~=3.6.0->ipywidgets>=7.6.0->ipympl) (2.15.3)\r\n",
      "Requirement already satisfied: argon2-cffi-bindings in /opt/conda/lib/python3.7/site-packages (from argon2-cffi->notebook>=4.4.1->widgetsnbextension~=3.6.0->ipywidgets>=7.6.0->ipympl) (21.2.0)\r\n",
      "Requirement already satisfied: attrs>=17.4.0 in /opt/conda/lib/python3.7/site-packages (from jsonschema>=2.6->nbformat->notebook>=4.4.1->widgetsnbextension~=3.6.0->ipywidgets>=7.6.0->ipympl) (21.4.0)\r\n",
      "Requirement already satisfied: pyrsistent!=0.17.0,!=0.17.1,!=0.17.2,>=0.14.0 in /opt/conda/lib/python3.7/site-packages (from jsonschema>=2.6->nbformat->notebook>=4.4.1->widgetsnbextension~=3.6.0->ipywidgets>=7.6.0->ipympl) (0.18.1)\r\n",
      "Requirement already satisfied: importlib-metadata in /opt/conda/lib/python3.7/site-packages (from jsonschema>=2.6->nbformat->notebook>=4.4.1->widgetsnbextension~=3.6.0->ipywidgets>=7.6.0->ipympl) (4.12.0)\r\n",
      "Requirement already satisfied: importlib-resources>=1.4.0 in /opt/conda/lib/python3.7/site-packages (from jsonschema>=2.6->nbformat->notebook>=4.4.1->widgetsnbextension~=3.6.0->ipywidgets>=7.6.0->ipympl) (5.8.0)\r\n",
      "Requirement already satisfied: cffi>=1.0.1 in /opt/conda/lib/python3.7/site-packages (from argon2-cffi-bindings->argon2-cffi->notebook>=4.4.1->widgetsnbextension~=3.6.0->ipywidgets>=7.6.0->ipympl) (1.15.0)\r\n",
      "Requirement already satisfied: soupsieve>1.2 in /opt/conda/lib/python3.7/site-packages (from beautifulsoup4->nbconvert>=5->notebook>=4.4.1->widgetsnbextension~=3.6.0->ipywidgets>=7.6.0->ipympl) (2.3.1)\r\n",
      "Requirement already satisfied: webencodings in /opt/conda/lib/python3.7/site-packages (from bleach->nbconvert>=5->notebook>=4.4.1->widgetsnbextension~=3.6.0->ipywidgets>=7.6.0->ipympl) (0.5.1)\r\n",
      "Requirement already satisfied: pycparser in /opt/conda/lib/python3.7/site-packages (from cffi>=1.0.1->argon2-cffi-bindings->argon2-cffi->notebook>=4.4.1->widgetsnbextension~=3.6.0->ipywidgets>=7.6.0->ipympl) (2.21)\r\n",
      "Requirement already satisfied: zipp>=3.1.0 in /opt/conda/lib/python3.7/site-packages (from importlib-resources>=1.4.0->jsonschema>=2.6->nbformat->notebook>=4.4.1->widgetsnbextension~=3.6.0->ipywidgets>=7.6.0->ipympl) (3.8.0)\r\n",
      "\u001b[33mWARNING: Running pip as the 'root' user can result in broken permissions and conflicting behaviour with the system package manager. It is recommended to use a virtual environment instead: https://pip.pypa.io/warnings/venv\u001b[0m\u001b[33m\r\n",
      "\u001b[0m\u001b[33mWARNING: There was an error checking the latest version of pip.\u001b[0m\u001b[33m\r\n",
      "\u001b[0m"
     ]
    }
   ],
   "source": [
    "!pip install ipympl \n",
    "import numpy as np\n",
    "from matplotlib import pyplot as plt\n",
    "from typing import Tuple, Mapping\n",
    "%matplotlib ipympl\n",
    "from mpl_toolkits.mplot3d import Axes3D"
   ]
  },
  {
   "cell_type": "markdown",
   "id": "25d98166",
   "metadata": {
    "papermill": {
     "duration": 0.008241,
     "end_time": "2022-11-07T16:44:05.521824",
     "exception": false,
     "start_time": "2022-11-07T16:44:05.513583",
     "status": "completed"
    },
    "tags": []
   },
   "source": [
    "### Функция Бута: $f(x, y)=(x + 2y - 7)^2 + (2x + y - 5)^2$\n",
    "\n",
    "### Глобальный минимум: $f(1, 3) = 0$\n",
    "\n",
    "### Метод поиска: $-10 \\leq x, y \\leq 10$"
   ]
  },
  {
   "cell_type": "code",
   "execution_count": 2,
   "id": "f9a5b4a4",
   "metadata": {
    "execution": {
     "iopub.execute_input": "2022-11-07T16:44:05.540740Z",
     "iopub.status.busy": "2022-11-07T16:44:05.540331Z",
     "iopub.status.idle": "2022-11-07T16:44:05.546637Z",
     "shell.execute_reply": "2022-11-07T16:44:05.545793Z"
    },
    "papermill": {
     "duration": 0.018436,
     "end_time": "2022-11-07T16:44:05.548571",
     "exception": false,
     "start_time": "2022-11-07T16:44:05.530135",
     "status": "completed"
    },
    "tags": []
   },
   "outputs": [],
   "source": [
    "def func_but(x, y):\n",
    "    return (x + 2 * y - 7) * (x + 2 * y - 7) + (2 * x + y - 5) * (2 * x + y - 5) # исходная функция \n",
    "\n",
    "def dx_but(x, y):\n",
    "    return 10 * x + 8 * y - 34 # производная по х\n",
    "\n",
    "def dy_but(x, y):\n",
    "    return 10 * y + 8 * x - 38 # производня по у"
   ]
  },
  {
   "cell_type": "markdown",
   "id": "04295017",
   "metadata": {
    "papermill": {
     "duration": 0.008188,
     "end_time": "2022-11-07T16:44:05.565151",
     "exception": false,
     "start_time": "2022-11-07T16:44:05.556963",
     "status": "completed"
    },
    "tags": []
   },
   "source": [
    "### Функция МакКормика: $f(x, y)=sin(x + y) + (x - y)^2 - 1.5x + 2.5y + 1$\n",
    "\n",
    "### Глобальный минимум: $f(-0.54719, -1.54719) = -1.9133$\n",
    "\n",
    "### Метод поиска: \n",
    "\n",
    "### $-1.5 \\leq x \\leq 4$\n",
    "\n",
    "### $-3 \\leq y \\leq 4$"
   ]
  },
  {
   "cell_type": "code",
   "execution_count": 3,
   "id": "d5bf1870",
   "metadata": {
    "execution": {
     "iopub.execute_input": "2022-11-07T16:44:05.584210Z",
     "iopub.status.busy": "2022-11-07T16:44:05.582925Z",
     "iopub.status.idle": "2022-11-07T16:44:05.589572Z",
     "shell.execute_reply": "2022-11-07T16:44:05.588805Z"
    },
    "papermill": {
     "duration": 0.018077,
     "end_time": "2022-11-07T16:44:05.591586",
     "exception": false,
     "start_time": "2022-11-07T16:44:05.573509",
     "status": "completed"
    },
    "tags": []
   },
   "outputs": [],
   "source": [
    "def func_korm(x, y):\n",
    "    return np.sin(x + y) + (x - y) * (x - y) - 1.5 * x + 2.5 * y + 1 # исходная функция \n",
    "\n",
    "def dx_korm(x, y):\n",
    "    return np.cos(x + y) + 2 * x - 2 * y - 1.5 # производная по х\n",
    "\n",
    "def dy_korm(x, y):\n",
    "    return np.cos(y + x) + 2 * y - 2 * x + 2.5 # производня по у"
   ]
  },
  {
   "cell_type": "markdown",
   "id": "c92348a6",
   "metadata": {
    "papermill": {
     "duration": 0.008054,
     "end_time": "2022-11-07T16:44:05.608140",
     "exception": false,
     "start_time": "2022-11-07T16:44:05.600086",
     "status": "completed"
    },
    "tags": []
   },
   "source": [
    "### Функция Химмельблау: $f(x, y)=(x^2 + y - 11)^2 + (x + y^2 - 7)^2$\n",
    "\n",
    "### Глобальный минимум: $\\begin{equation*}\n",
    "Min = \n",
    " \\begin{cases}\n",
    "   f(3.0, 2.0) = 0.0\\\\\n",
    "   f(-2.805118, 3.131312) = 0.0\\\\\n",
    "   f(-3.77931, -3.283186) = 0.0\\\\\n",
    "   f(3.584428, -1.848126) = 0.0\n",
    " \\end{cases}\n",
    "\\end{equation*}$\n",
    "\n",
    "### Метод поиска: $-5 \\leq x, y \\leq 5$"
   ]
  },
  {
   "cell_type": "code",
   "execution_count": 4,
   "id": "cfc53735",
   "metadata": {
    "execution": {
     "iopub.execute_input": "2022-11-07T16:44:05.627390Z",
     "iopub.status.busy": "2022-11-07T16:44:05.626969Z",
     "iopub.status.idle": "2022-11-07T16:44:05.634540Z",
     "shell.execute_reply": "2022-11-07T16:44:05.633533Z"
    },
    "papermill": {
     "duration": 0.020504,
     "end_time": "2022-11-07T16:44:05.636864",
     "exception": false,
     "start_time": "2022-11-07T16:44:05.616360",
     "status": "completed"
    },
    "tags": []
   },
   "outputs": [],
   "source": [
    "def func_him(x, y):\n",
    "    return (x * x  + y - 11) * (x * x  + y - 11) + (x + y * y - 7) * (x + y * y - 7) # исходная функция \n",
    "\n",
    "def dx_him(x, y):\n",
    "    return 4 * x * x * x + x * (4 * y - 42) + 2 * y * y - 14 # производная по х\n",
    "\n",
    "def dy_him(x, y):\n",
    "    return 4 * y * y * y + y * (4 * x - 26) + 2 * x * x - 22 # производня по у"
   ]
  },
  {
   "cell_type": "markdown",
   "id": "91725fc8",
   "metadata": {
    "papermill": {
     "duration": 0.008264,
     "end_time": "2022-11-07T16:44:05.653881",
     "exception": false,
     "start_time": "2022-11-07T16:44:05.645617",
     "status": "completed"
    },
    "tags": []
   },
   "source": [
    "### Шедулер ака Pytorch StepLR"
   ]
  },
  {
   "cell_type": "code",
   "execution_count": 5,
   "id": "52efae7e",
   "metadata": {
    "execution": {
     "iopub.execute_input": "2022-11-07T16:44:05.672362Z",
     "iopub.status.busy": "2022-11-07T16:44:05.671986Z",
     "iopub.status.idle": "2022-11-07T16:44:05.679839Z",
     "shell.execute_reply": "2022-11-07T16:44:05.678703Z"
    },
    "papermill": {
     "duration": 0.019534,
     "end_time": "2022-11-07T16:44:05.682046",
     "exception": false,
     "start_time": "2022-11-07T16:44:05.662512",
     "status": "completed"
    },
    "tags": []
   },
   "outputs": [],
   "source": [
    "class lr_scheduler():\n",
    "    def __init__(self, step_size:int=5000, gamma:float=0.1, lr:float=0.1):\n",
    "        '''\n",
    "        step_size -- количество итераций необходимое для уменьшения скорости обучения\n",
    "        gamma -- коэффициент на который домнажается скорость обучеия каждые step_size шагов\n",
    "        lr -- скорость обучения\n",
    "        '''\n",
    "        self.iter  = 0 # переменная для подсчета шагов\n",
    "        self.step_size = step_size\n",
    "        self.gamma = gamma\n",
    "        self.lr = lr\n",
    "\n",
    "    def step(self):\n",
    "        self.iter += 1\n",
    "        if self.iter == self.step_size: # когда число итераций становится равно заданному порогу -> уменьшаем скорость обучения\n",
    "            self.lr = self.lr * self.gamma\n",
    "            self.iter = 0\n",
    "        return self.lr"
   ]
  },
  {
   "cell_type": "markdown",
   "id": "e3d14e7a",
   "metadata": {
    "papermill": {
     "duration": 0.008245,
     "end_time": "2022-11-07T16:44:05.698845",
     "exception": false,
     "start_time": "2022-11-07T16:44:05.690600",
     "status": "completed"
    },
    "tags": []
   },
   "source": [
    "### Функция построения графиков работы алгоритмов"
   ]
  },
  {
   "cell_type": "code",
   "execution_count": 6,
   "id": "074c8358",
   "metadata": {
    "execution": {
     "iopub.execute_input": "2022-11-07T16:44:05.717301Z",
     "iopub.status.busy": "2022-11-07T16:44:05.716892Z",
     "iopub.status.idle": "2022-11-07T16:44:05.725706Z",
     "shell.execute_reply": "2022-11-07T16:44:05.724517Z"
    },
    "papermill": {
     "duration": 0.020659,
     "end_time": "2022-11-07T16:44:05.727916",
     "exception": false,
     "start_time": "2022-11-07T16:44:05.707257",
     "status": "completed"
    },
    "tags": []
   },
   "outputs": [],
   "source": [
    "def plot_graphics(f:Mapping, x_min, x_max, y_min, y_max, log):\n",
    "    plt.ioff()\n",
    "    a = np.arange(x_min, x_max, 0.1)\n",
    "    b = np.arange(y_min, y_max,0.1)\n",
    "    xgrid, ygrid = np.meshgrid(a, b)\n",
    "\n",
    "    zgrid = f(xgrid,ygrid)\n",
    "    fig = plt.figure(figsize=(7, 4))\n",
    "    ax_3d = Axes3D(fig, auto_add_to_figure=True)\n",
    "    ax_3d.plot_surface(xgrid, ygrid, zgrid, cmap='plasma', alpha=0.5)\n",
    "    ax_3d.set_xlabel('x')\n",
    "    ax_3d.set_ylabel('y')\n",
    "    ax_3d.set_zlabel('f')\n",
    "\n",
    "    for i in range(len(log)):\n",
    "        ax_3d.scatter(log[i][0], log[i][1], log[i][2], c='red')\n",
    "        \n",
    "    plt.show()"
   ]
  },
  {
   "cell_type": "markdown",
   "id": "96b1c420",
   "metadata": {
    "papermill": {
     "duration": 0.00818,
     "end_time": "2022-11-07T16:44:05.744808",
     "exception": false,
     "start_time": "2022-11-07T16:44:05.736628",
     "status": "completed"
    },
    "tags": []
   },
   "source": [
    "### Реализация алгоритма градиентного спуска"
   ]
  },
  {
   "cell_type": "code",
   "execution_count": 7,
   "id": "b70036e8",
   "metadata": {
    "execution": {
     "iopub.execute_input": "2022-11-07T16:44:05.764173Z",
     "iopub.status.busy": "2022-11-07T16:44:05.763186Z",
     "iopub.status.idle": "2022-11-07T16:44:05.771789Z",
     "shell.execute_reply": "2022-11-07T16:44:05.770877Z"
    },
    "papermill": {
     "duration": 0.020963,
     "end_time": "2022-11-07T16:44:05.774372",
     "exception": false,
     "start_time": "2022-11-07T16:44:05.753409",
     "status": "completed"
    },
    "tags": []
   },
   "outputs": [],
   "source": [
    "def GD(f:Mapping, dx:Mapping, dy:Mapping, x0:np.ndarray, y0:np.ndarray, lr_start:float=0.001, iter=100, thr:float=None) -> np.ndarray:\n",
    "    '''\n",
    "        f -- исходная функция\n",
    "        dx -- производня по х от исходной функции\n",
    "        dy -- производня по у от исходной функции\n",
    "        x0 -- стартовая точка по координате х\n",
    "        y0 -- стартовая точка по координате у\n",
    "        lr_start -- изначальное значение скорости обучения\n",
    "        iter -- число итераций выполнения алгоритма\n",
    "        thr -- точность вычислений \n",
    "    '''\n",
    "    log = list()\n",
    "    x_old = x0.copy()\n",
    "    y_old = y0.copy()\n",
    "    \n",
    "    scheduler = lr_scheduler(lr=lr_start)\n",
    "    for i in range(iter):\n",
    "        if np.linalg.norm(dx(x_old, y_old)) > thr and np.linalg.norm(dy(x_old, y_old)) > thr:\n",
    "            gradX = dx(x_old, y_old)\n",
    "            gradY = dy(x_old, y_old)\n",
    "            x_old = x_old - scheduler.lr * gradX\n",
    "            y_old = y_old - scheduler.lr * gradY\n",
    "            log.append([x_old, y_old, f(x_old, y_old)])\n",
    "            scheduler.step()\n",
    "    return x_old, y_old, log"
   ]
  },
  {
   "cell_type": "markdown",
   "id": "8bf76808",
   "metadata": {
    "papermill": {
     "duration": 0.008268,
     "end_time": "2022-11-07T16:44:05.791417",
     "exception": false,
     "start_time": "2022-11-07T16:44:05.783149",
     "status": "completed"
    },
    "tags": []
   },
   "source": [
    "### Реализация алгоритма стохастического градиентного спуска"
   ]
  },
  {
   "cell_type": "code",
   "execution_count": 8,
   "id": "b6c80ff9",
   "metadata": {
    "execution": {
     "iopub.execute_input": "2022-11-07T16:44:05.810384Z",
     "iopub.status.busy": "2022-11-07T16:44:05.809959Z",
     "iopub.status.idle": "2022-11-07T16:44:05.820582Z",
     "shell.execute_reply": "2022-11-07T16:44:05.819441Z"
    },
    "papermill": {
     "duration": 0.022839,
     "end_time": "2022-11-07T16:44:05.822976",
     "exception": false,
     "start_time": "2022-11-07T16:44:05.800137",
     "status": "completed"
    },
    "tags": []
   },
   "outputs": [],
   "source": [
    "def SGD(f:Mapping, dx:Mapping, dy:Mapping, x0:np.ndarray, y0:np.ndarray, lr_start:float=0.1, iter=100, thr:float=None, momentum:float=0.9)  -> np.ndarray:\n",
    "    '''\n",
    "        f -- исходная функция\n",
    "        dx -- производня по х от исходной функции\n",
    "        dy -- производня по у от исходной функции\n",
    "        x0 -- стартовая точка по координате х\n",
    "        y0 -- стартовая точка по координате у\n",
    "        lr_start -- изначальное значение скорости обучения\n",
    "        iter -- число итераций выполнения алгоритма\n",
    "        thr -- точность вычислений \n",
    "    '''\n",
    "    log = list()\n",
    "    x_old = x0.copy()\n",
    "    y_old = y0.copy()\n",
    "    scheduler = lr_scheduler(lr=lr_start)\n",
    "    gx = 0\n",
    "    gy = 0\n",
    "    for i in range(iter):\n",
    "        if np.linalg.norm(dx(x_old, y_old)) > thr and np.linalg.norm(dy(x_old, y_old)) > thr:\n",
    "            gradX = dx(x_old, y_old)\n",
    "            gradY = dy(x_old, y_old)\n",
    "            if i == 1:\n",
    "                gx = gradX\n",
    "                gy = gradY\n",
    "            else:\n",
    "                gx = gradX + momentum * gx\n",
    "                gy = gradY + momentum * gy\n",
    "            x_old = x_old - scheduler.lr * gx\n",
    "            y_old = y_old - scheduler.lr * gy\n",
    "            log.append([x_old, y_old, f(x_old, y_old)])\n",
    "            scheduler.step()\n",
    "    return x_old, y_old, log"
   ]
  },
  {
   "cell_type": "markdown",
   "id": "e1d5971b",
   "metadata": {
    "papermill": {
     "duration": 0.008267,
     "end_time": "2022-11-07T16:44:05.839802",
     "exception": false,
     "start_time": "2022-11-07T16:44:05.831535",
     "status": "completed"
    },
    "tags": []
   },
   "source": [
    "### Реалищация алгоритма ADAGRAD"
   ]
  },
  {
   "cell_type": "code",
   "execution_count": 9,
   "id": "ef28edca",
   "metadata": {
    "execution": {
     "iopub.execute_input": "2022-11-07T16:44:05.858456Z",
     "iopub.status.busy": "2022-11-07T16:44:05.858055Z",
     "iopub.status.idle": "2022-11-07T16:44:05.867830Z",
     "shell.execute_reply": "2022-11-07T16:44:05.866994Z"
    },
    "papermill": {
     "duration": 0.021553,
     "end_time": "2022-11-07T16:44:05.869910",
     "exception": false,
     "start_time": "2022-11-07T16:44:05.848357",
     "status": "completed"
    },
    "tags": []
   },
   "outputs": [],
   "source": [
    "def ADAGRAD(f:Mapping, dx:Mapping, dy:Mapping, x0:np.ndarray, y0:np.ndarray, lr_start:float=0.1, iter=100, thr:float=None, momentum:float=0.9)  -> np.ndarray:\n",
    "    '''\n",
    "        f -- исходная функция\n",
    "        dx -- производня по х от исходной функции\n",
    "        dy -- производня по у от исходной функции\n",
    "        x0 -- стартовая точка по координате х\n",
    "        y0 -- стартовая точка по координате у\n",
    "        lr_start -- изначальное значение скорости обучения\n",
    "        iter -- число итераций выполнения алгоритма\n",
    "        thr -- точность вычислений \n",
    "    '''\n",
    "    log = list()\n",
    "    x_old = x0.copy()\n",
    "    y_old = y0.copy()\n",
    "    scheduler = lr_scheduler(step_size=10000 ,lr=lr_start)\n",
    "    s_sum_x = 0\n",
    "    s_sum_y = 0\n",
    "    for i in range(iter):\n",
    "        if np.linalg.norm(dx(x_old, y_old)) > thr and np.linalg.norm(dy(x_old, y_old)) > thr:\n",
    "            gradX = dx(x_old, y_old)\n",
    "            gradY = dy(x_old, y_old)\n",
    "            s_sum_x = s_sum_x + gradX ** 2\n",
    "            s_sum_y = s_sum_y + gradY ** 2\n",
    "            x_old = x_old - scheduler.lr * gradX / (s_sum_x ** 0.5)\n",
    "            y_old = y_old - scheduler.lr * gradY / (s_sum_y ** 0.5)\n",
    "            log.append([x_old, y_old, f(x_old, y_old)])\n",
    "            scheduler.step()\n",
    "    return x_old, y_old, log"
   ]
  },
  {
   "cell_type": "markdown",
   "id": "03a9e728",
   "metadata": {
    "papermill": {
     "duration": 0.008111,
     "end_time": "2022-11-07T16:44:05.886630",
     "exception": false,
     "start_time": "2022-11-07T16:44:05.878519",
     "status": "completed"
    },
    "tags": []
   },
   "source": [
    "# Тестирование функции Бута\n",
    "\n",
    "### Алгоритм GD\n",
    "\n",
    "#### Установленный глобальный минимум: $f(1, 3) = 0$"
   ]
  },
  {
   "cell_type": "code",
   "execution_count": 10,
   "id": "6fee88b4",
   "metadata": {
    "execution": {
     "iopub.execute_input": "2022-11-07T16:44:05.905399Z",
     "iopub.status.busy": "2022-11-07T16:44:05.904821Z",
     "iopub.status.idle": "2022-11-07T16:44:06.281947Z",
     "shell.execute_reply": "2022-11-07T16:44:06.280822Z"
    },
    "papermill": {
     "duration": 0.389359,
     "end_time": "2022-11-07T16:44:06.284343",
     "exception": false,
     "start_time": "2022-11-07T16:44:05.894984",
     "status": "completed"
    },
    "tags": []
   },
   "outputs": [
    {
     "name": "stderr",
     "output_type": "stream",
     "text": [
      "/opt/conda/lib/python3.7/site-packages/ipykernel_launcher.py:9: MatplotlibDeprecationWarning: Axes3D(fig) adding itself to the figure is deprecated since 3.4. Pass the keyword argument auto_add_to_figure=False and use fig.add_axes(ax) to suppress this warning. The default value of auto_add_to_figure will change to False in mpl3.5 and True values will no longer work in 3.6.  This is consistent with other Axes classes.\n",
      "  if __name__ == \"__main__\":\n"
     ]
    },
    {
     "data": {
      "application/vnd.jupyter.widget-view+json": {
       "model_id": "aaabfc50b69b4701aa06c7b8ee40e492",
       "version_major": 2,
       "version_minor": 0
      },
      "text/plain": [
       "Canvas(toolbar=Toolbar(toolitems=[('Home', 'Reset original view', 'home', 'home'), ('Back', 'Back to previous …"
      ]
     },
     "metadata": {},
     "output_type": "display_data"
    },
    {
     "name": "stdout",
     "output_type": "stream",
     "text": [
      "Начальная точка: [-1], [-1]\n",
      "Точка найденного минимума: [1.20290531], [1.51586288]\n",
      "Значение функции в найденной точке: [8.81005334]\n"
     ]
    }
   ],
   "source": [
    "x, y, log = GD(f=func_but, dx=dx_but, dy=dy_but, x0=np.array([-1]), y0=np.array([-1]), iter=100, thr=10)\n",
    "plot_graphics(func_but, -10, 10, -10, 10, log)\n",
    "print(f\"Начальная точка: [{-1}], [{-1}]\")\n",
    "print(f'Точка найденного минимума: {x}, {y}')\n",
    "print(f'Значение функции в найденной точке: {func_but(x, y)}')"
   ]
  },
  {
   "cell_type": "markdown",
   "id": "46ea4d03",
   "metadata": {
    "papermill": {
     "duration": 0.008645,
     "end_time": "2022-11-07T16:44:06.301866",
     "exception": false,
     "start_time": "2022-11-07T16:44:06.293221",
     "status": "completed"
    },
    "tags": []
   },
   "source": [
    "### Алгоритм SGD"
   ]
  },
  {
   "cell_type": "code",
   "execution_count": 11,
   "id": "57f1c884",
   "metadata": {
    "execution": {
     "iopub.execute_input": "2022-11-07T16:44:06.321651Z",
     "iopub.status.busy": "2022-11-07T16:44:06.320955Z",
     "iopub.status.idle": "2022-11-07T16:44:06.660344Z",
     "shell.execute_reply": "2022-11-07T16:44:06.659003Z"
    },
    "papermill": {
     "duration": 0.352074,
     "end_time": "2022-11-07T16:44:06.662908",
     "exception": false,
     "start_time": "2022-11-07T16:44:06.310834",
     "status": "completed"
    },
    "tags": []
   },
   "outputs": [
    {
     "name": "stderr",
     "output_type": "stream",
     "text": [
      "/opt/conda/lib/python3.7/site-packages/ipykernel_launcher.py:9: MatplotlibDeprecationWarning: Axes3D(fig) adding itself to the figure is deprecated since 3.4. Pass the keyword argument auto_add_to_figure=False and use fig.add_axes(ax) to suppress this warning. The default value of auto_add_to_figure will change to False in mpl3.5 and True values will no longer work in 3.6.  This is consistent with other Axes classes.\n",
      "  if __name__ == \"__main__\":\n"
     ]
    },
    {
     "data": {
      "application/vnd.jupyter.widget-view+json": {
       "model_id": "4495e8c12a524be69824749bcdbd592d",
       "version_major": 2,
       "version_minor": 0
      },
      "text/plain": [
       "Canvas(toolbar=Toolbar(toolitems=[('Home', 'Reset original view', 'home', 'home'), ('Back', 'Back to previous …"
      ]
     },
     "metadata": {},
     "output_type": "display_data"
    },
    {
     "name": "stdout",
     "output_type": "stream",
     "text": [
      "Начальная точка: [-1], [-1]\n",
      "Точка найденного минимума: [0.27105442], [2.70976898]\n",
      "Значение функции в найденной точке: [4.77047946]\n"
     ]
    }
   ],
   "source": [
    "x, y, log = SGD(f=func_but, dx=dx_but, dy=dy_but, x0=np.array([-1]), y0=np.array([-1]), iter=100, thr=10)\n",
    "plot_graphics(func_but, -10, 10, -10, 10, log)\n",
    "print(f\"Начальная точка: [{-1}], [{-1}]\")\n",
    "print(f'Точка найденного минимума: {x}, {y}')\n",
    "print(f'Значение функции в найденной точке: {func_but(x, y)}')"
   ]
  },
  {
   "cell_type": "markdown",
   "id": "45cdc12f",
   "metadata": {
    "papermill": {
     "duration": 0.009183,
     "end_time": "2022-11-07T16:44:06.681436",
     "exception": false,
     "start_time": "2022-11-07T16:44:06.672253",
     "status": "completed"
    },
    "tags": []
   },
   "source": [
    "### Алгоритм ADAGRAD"
   ]
  },
  {
   "cell_type": "code",
   "execution_count": 12,
   "id": "915f5393",
   "metadata": {
    "execution": {
     "iopub.execute_input": "2022-11-07T16:44:06.701667Z",
     "iopub.status.busy": "2022-11-07T16:44:06.701235Z",
     "iopub.status.idle": "2022-11-07T16:44:07.089606Z",
     "shell.execute_reply": "2022-11-07T16:44:07.088499Z"
    },
    "papermill": {
     "duration": 0.401477,
     "end_time": "2022-11-07T16:44:07.092109",
     "exception": false,
     "start_time": "2022-11-07T16:44:06.690632",
     "status": "completed"
    },
    "tags": []
   },
   "outputs": [
    {
     "name": "stderr",
     "output_type": "stream",
     "text": [
      "/opt/conda/lib/python3.7/site-packages/ipykernel_launcher.py:9: MatplotlibDeprecationWarning: Axes3D(fig) adding itself to the figure is deprecated since 3.4. Pass the keyword argument auto_add_to_figure=False and use fig.add_axes(ax) to suppress this warning. The default value of auto_add_to_figure will change to False in mpl3.5 and True values will no longer work in 3.6.  This is consistent with other Axes classes.\n",
      "  if __name__ == \"__main__\":\n"
     ]
    },
    {
     "data": {
      "application/vnd.jupyter.widget-view+json": {
       "model_id": "c6a3013486c84659b4a458fa3199d756",
       "version_major": 2,
       "version_minor": 0
      },
      "text/plain": [
       "Canvas(toolbar=Toolbar(toolitems=[('Home', 'Reset original view', 'home', 'home'), ('Back', 'Back to previous …"
      ]
     },
     "metadata": {},
     "output_type": "display_data"
    },
    {
     "name": "stdout",
     "output_type": "stream",
     "text": [
      "Начальная точка: [-1], [-1]\n",
      "Точка найденного минимума: [0.59177501], [0.61719018]\n",
      "Значение функции в найденной точке: [37.00393155]\n"
     ]
    }
   ],
   "source": [
    "x, y, log = ADAGRAD(f=func_but, dx=dx_but, dy=dy_but, x0=np.array([-1]), y0=np.array([-1]), iter=100, thr=10)\n",
    "plot_graphics(func_but, -10, 10, -10, 10, log)\n",
    "print(f\"Начальная точка: [{-1}], [{-1}]\")\n",
    "print(f'Точка найденного минимума: {x}, {y}')\n",
    "print(f'Значение функции в найденной точке: {func_but(x, y)}')"
   ]
  },
  {
   "cell_type": "markdown",
   "id": "a81bfe56",
   "metadata": {
    "papermill": {
     "duration": 0.008996,
     "end_time": "2022-11-07T16:44:07.110531",
     "exception": false,
     "start_time": "2022-11-07T16:44:07.101535",
     "status": "completed"
    },
    "tags": []
   },
   "source": [
    "# Тестирование функции МакКормика\n",
    "\n",
    "### Алгоритм GD"
   ]
  },
  {
   "cell_type": "code",
   "execution_count": 13,
   "id": "05e1ebe2",
   "metadata": {
    "execution": {
     "iopub.execute_input": "2022-11-07T16:44:07.130949Z",
     "iopub.status.busy": "2022-11-07T16:44:07.130563Z",
     "iopub.status.idle": "2022-11-07T16:44:09.566969Z",
     "shell.execute_reply": "2022-11-07T16:44:09.565952Z"
    },
    "papermill": {
     "duration": 2.449265,
     "end_time": "2022-11-07T16:44:09.569122",
     "exception": false,
     "start_time": "2022-11-07T16:44:07.119857",
     "status": "completed"
    },
    "tags": []
   },
   "outputs": [
    {
     "name": "stderr",
     "output_type": "stream",
     "text": [
      "/opt/conda/lib/python3.7/site-packages/ipykernel_launcher.py:9: MatplotlibDeprecationWarning: Axes3D(fig) adding itself to the figure is deprecated since 3.4. Pass the keyword argument auto_add_to_figure=False and use fig.add_axes(ax) to suppress this warning. The default value of auto_add_to_figure will change to False in mpl3.5 and True values will no longer work in 3.6.  This is consistent with other Axes classes.\n",
      "  if __name__ == \"__main__\":\n"
     ]
    },
    {
     "data": {
      "application/vnd.jupyter.widget-view+json": {
       "model_id": "7a3e5ee3046944c18b918f1dcdef9bf2",
       "version_major": 2,
       "version_minor": 0
      },
      "text/plain": [
       "Canvas(toolbar=Toolbar(toolitems=[('Home', 'Reset original view', 'home', 'home'), ('Back', 'Back to previous …"
      ]
     },
     "metadata": {},
     "output_type": "display_data"
    },
    {
     "name": "stdout",
     "output_type": "stream",
     "text": [
      "Начальная точка: [-1.5], [4]\n",
      "Точка найденного минимума: [2.13072954], [1.24883005]\n",
      "Значение функции в найденной точке: [1.46800018]\n"
     ]
    }
   ],
   "source": [
    "x, y, log = GD(f=func_korm, dx=dx_korm, dy=dy_korm, x0=np.array([-1.5]), y0=np.array([4]), iter=1000, thr=1e-10)\n",
    "plot_graphics(func_korm, -1.5, 4, -3, 4, log)\n",
    "print(f\"Начальная точка: [{-1.5}], [{4}]\")\n",
    "print(f'Точка найденного минимума: {x}, {y}')\n",
    "print(f'Значение функции в найденной точке: {func_korm(x, y)}')"
   ]
  },
  {
   "cell_type": "markdown",
   "id": "76241e20",
   "metadata": {
    "papermill": {
     "duration": 0.009327,
     "end_time": "2022-11-07T16:44:09.588118",
     "exception": false,
     "start_time": "2022-11-07T16:44:09.578791",
     "status": "completed"
    },
    "tags": []
   },
   "source": [
    "### Алгоритм SGD"
   ]
  },
  {
   "cell_type": "code",
   "execution_count": 14,
   "id": "0954a9a8",
   "metadata": {
    "execution": {
     "iopub.execute_input": "2022-11-07T16:44:09.610305Z",
     "iopub.status.busy": "2022-11-07T16:44:09.609214Z",
     "iopub.status.idle": "2022-11-07T16:44:10.633736Z",
     "shell.execute_reply": "2022-11-07T16:44:10.632709Z"
    },
    "papermill": {
     "duration": 1.039132,
     "end_time": "2022-11-07T16:44:10.637080",
     "exception": false,
     "start_time": "2022-11-07T16:44:09.597948",
     "status": "completed"
    },
    "tags": []
   },
   "outputs": [
    {
     "name": "stderr",
     "output_type": "stream",
     "text": [
      "/opt/conda/lib/python3.7/site-packages/ipykernel_launcher.py:9: MatplotlibDeprecationWarning: Axes3D(fig) adding itself to the figure is deprecated since 3.4. Pass the keyword argument auto_add_to_figure=False and use fig.add_axes(ax) to suppress this warning. The default value of auto_add_to_figure will change to False in mpl3.5 and True values will no longer work in 3.6.  This is consistent with other Axes classes.\n",
      "  if __name__ == \"__main__\":\n"
     ]
    },
    {
     "data": {
      "application/vnd.jupyter.widget-view+json": {
       "model_id": "957ff445f3234e4abf65ab4cca206cc0",
       "version_major": 2,
       "version_minor": 0
      },
      "text/plain": [
       "Canvas(toolbar=Toolbar(toolitems=[('Home', 'Reset original view', 'home', 'home'), ('Back', 'Back to previous …"
      ]
     },
     "metadata": {},
     "output_type": "display_data"
    },
    {
     "name": "stdout",
     "output_type": "stream",
     "text": [
      "Начальная точка: [-1.5], [4]\n",
      "Точка найденного минимума: [2.5943951], [1.5943951]\n",
      "Значение функции в найденной точке: [1.2283697]\n"
     ]
    }
   ],
   "source": [
    "x, y, log = SGD(f=func_korm, dx=dx_korm, dy=dy_korm, x0=np.array([-1.5]), y0=np.array([4]), lr_start=0.1, iter=10000, thr=1e-10)\n",
    "plot_graphics(func_korm, -1.5, 4, -3, 4, log)\n",
    "print(f\"Начальная точка: [{-1.5}], [{4}]\")\n",
    "print(f'Точка найденного минимума: {x}, {y}')\n",
    "print(f'Значение функции в найденной точке: {func_korm(x, y)}')"
   ]
  },
  {
   "cell_type": "markdown",
   "id": "6d23cfc5",
   "metadata": {
    "papermill": {
     "duration": 0.00995,
     "end_time": "2022-11-07T16:44:10.657226",
     "exception": false,
     "start_time": "2022-11-07T16:44:10.647276",
     "status": "completed"
    },
    "tags": []
   },
   "source": [
    "### Алгоритм ADAGRAD"
   ]
  },
  {
   "cell_type": "code",
   "execution_count": 15,
   "id": "8db0492c",
   "metadata": {
    "execution": {
     "iopub.execute_input": "2022-11-07T16:44:10.679148Z",
     "iopub.status.busy": "2022-11-07T16:44:10.678756Z",
     "iopub.status.idle": "2022-11-07T16:44:13.089072Z",
     "shell.execute_reply": "2022-11-07T16:44:13.087944Z"
    },
    "papermill": {
     "duration": 2.42425,
     "end_time": "2022-11-07T16:44:13.091672",
     "exception": false,
     "start_time": "2022-11-07T16:44:10.667422",
     "status": "completed"
    },
    "tags": []
   },
   "outputs": [
    {
     "name": "stderr",
     "output_type": "stream",
     "text": [
      "/opt/conda/lib/python3.7/site-packages/ipykernel_launcher.py:9: MatplotlibDeprecationWarning: Axes3D(fig) adding itself to the figure is deprecated since 3.4. Pass the keyword argument auto_add_to_figure=False and use fig.add_axes(ax) to suppress this warning. The default value of auto_add_to_figure will change to False in mpl3.5 and True values will no longer work in 3.6.  This is consistent with other Axes classes.\n",
      "  if __name__ == \"__main__\":\n"
     ]
    },
    {
     "data": {
      "application/vnd.jupyter.widget-view+json": {
       "model_id": "bc30bdd33a3a40089e2251a3e0909ce2",
       "version_major": 2,
       "version_minor": 0
      },
      "text/plain": [
       "Canvas(toolbar=Toolbar(toolitems=[('Home', 'Reset original view', 'home', 'home'), ('Back', 'Back to previous …"
      ]
     },
     "metadata": {},
     "output_type": "display_data"
    },
    {
     "name": "stdout",
     "output_type": "stream",
     "text": [
      "Начальная точка: [-1.5], [4]\n",
      "Точка найденного минимума: [1.94204673], [1.07915417]\n",
      "Значение функции в найденной точке: [1.64950004]\n"
     ]
    }
   ],
   "source": [
    "x, y, log = ADAGRAD(f=func_korm, dx=dx_korm, dy=dy_korm, x0=np.array([-1.5]), y0=np.array([4]), iter=1000, thr=1e-10)\n",
    "plot_graphics(func_korm, -1.5, 4, -3, 4, log)\n",
    "print(f\"Начальная точка: [{-1.5}], [{4}]\")\n",
    "print(f'Точка найденного минимума: {x}, {y}')\n",
    "print(f'Значение функции в найденной точке: {func_korm(x, y)}')"
   ]
  },
  {
   "cell_type": "markdown",
   "id": "f142a59f",
   "metadata": {
    "papermill": {
     "duration": 0.009796,
     "end_time": "2022-11-07T16:44:13.111671",
     "exception": false,
     "start_time": "2022-11-07T16:44:13.101875",
     "status": "completed"
    },
    "tags": []
   },
   "source": [
    "# Тестирование функции Химмельблау\n",
    "\n",
    "### Алгоритм GD"
   ]
  },
  {
   "cell_type": "code",
   "execution_count": 16,
   "id": "26b13a31",
   "metadata": {
    "execution": {
     "iopub.execute_input": "2022-11-07T16:44:13.133660Z",
     "iopub.status.busy": "2022-11-07T16:44:13.132957Z",
     "iopub.status.idle": "2022-11-07T16:44:13.997990Z",
     "shell.execute_reply": "2022-11-07T16:44:13.996897Z"
    },
    "papermill": {
     "duration": 0.878356,
     "end_time": "2022-11-07T16:44:14.000134",
     "exception": false,
     "start_time": "2022-11-07T16:44:13.121778",
     "status": "completed"
    },
    "tags": []
   },
   "outputs": [
    {
     "name": "stderr",
     "output_type": "stream",
     "text": [
      "/opt/conda/lib/python3.7/site-packages/ipykernel_launcher.py:9: MatplotlibDeprecationWarning: Axes3D(fig) adding itself to the figure is deprecated since 3.4. Pass the keyword argument auto_add_to_figure=False and use fig.add_axes(ax) to suppress this warning. The default value of auto_add_to_figure will change to False in mpl3.5 and True values will no longer work in 3.6.  This is consistent with other Axes classes.\n",
      "  if __name__ == \"__main__\":\n"
     ]
    },
    {
     "data": {
      "application/vnd.jupyter.widget-view+json": {
       "model_id": "8f89016593044b3b9868894284226f0c",
       "version_major": 2,
       "version_minor": 0
      },
      "text/plain": [
       "Canvas(toolbar=Toolbar(toolitems=[('Home', 'Reset original view', 'home', 'home'), ('Back', 'Back to previous …"
      ]
     },
     "metadata": {},
     "output_type": "display_data"
    },
    {
     "name": "stdout",
     "output_type": "stream",
     "text": [
      "Начальная точка: [-5], [5]\n",
      "Точка найденного минимума: [-2.98078782], [3.24652946]\n",
      "Значение функции в найденной точке: [1.59324253]\n"
     ]
    }
   ],
   "source": [
    "x, y, log = GD(f=func_him, dx=dx_him, dy=dy_him, x0=np.array([-5]), y0=np.array([5]), iter=20000, thr=10)\n",
    "plot_graphics(func_him, -5, 5, -5, 5, log)\n",
    "print(f\"Начальная точка: [{-5}], [{5}]\")\n",
    "print(f'Точка найденного минимума: {x}, {y}')\n",
    "print(f'Значение функции в найденной точке: {func_him(x, y)}')"
   ]
  },
  {
   "cell_type": "markdown",
   "id": "9b89496f",
   "metadata": {
    "papermill": {
     "duration": 0.010098,
     "end_time": "2022-11-07T16:44:14.020788",
     "exception": false,
     "start_time": "2022-11-07T16:44:14.010690",
     "status": "completed"
    },
    "tags": []
   },
   "source": [
    "### Алгоритм ADAGRAD"
   ]
  },
  {
   "cell_type": "code",
   "execution_count": 17,
   "id": "dde06d25",
   "metadata": {
    "execution": {
     "iopub.execute_input": "2022-11-07T16:44:14.043008Z",
     "iopub.status.busy": "2022-11-07T16:44:14.042592Z",
     "iopub.status.idle": "2022-11-07T16:44:15.464330Z",
     "shell.execute_reply": "2022-11-07T16:44:15.463249Z"
    },
    "papermill": {
     "duration": 1.435755,
     "end_time": "2022-11-07T16:44:15.466828",
     "exception": false,
     "start_time": "2022-11-07T16:44:14.031073",
     "status": "completed"
    },
    "tags": []
   },
   "outputs": [
    {
     "name": "stderr",
     "output_type": "stream",
     "text": [
      "/opt/conda/lib/python3.7/site-packages/ipykernel_launcher.py:9: MatplotlibDeprecationWarning: Axes3D(fig) adding itself to the figure is deprecated since 3.4. Pass the keyword argument auto_add_to_figure=False and use fig.add_axes(ax) to suppress this warning. The default value of auto_add_to_figure will change to False in mpl3.5 and True values will no longer work in 3.6.  This is consistent with other Axes classes.\n",
      "  if __name__ == \"__main__\":\n"
     ]
    },
    {
     "data": {
      "application/vnd.jupyter.widget-view+json": {
       "model_id": "96432485a2564f439c05db9d7314d3c7",
       "version_major": 2,
       "version_minor": 0
      },
      "text/plain": [
       "Canvas(toolbar=Toolbar(toolitems=[('Home', 'Reset original view', 'home', 'home'), ('Back', 'Back to previous …"
      ]
     },
     "metadata": {},
     "output_type": "display_data"
    },
    {
     "name": "stdout",
     "output_type": "stream",
     "text": [
      "Начальная точка: [5], [5]\n",
      "Точка найденного минимума: [2.95204906], [2.63829355]\n",
      "Значение функции в найденной точке: [8.60801241]\n"
     ]
    }
   ],
   "source": [
    "x, y, log = ADAGRAD(f=func_him, dx=dx_him, dy=dy_him, x0=np.array([5]), y0=np.array([5]), iter=2000, thr=10)\n",
    "plot_graphics(func_him, -5, 5, -5, 5, log)\n",
    "print(f\"Начальная точка: [{5}], [{5}]\")\n",
    "print(f'Точка найденного минимума: {x}, {y}')\n",
    "print(f'Значение функции в найденной точке: {func_him(x, y)}')"
   ]
  },
  {
   "cell_type": "code",
   "execution_count": null,
   "id": "15f54e06",
   "metadata": {
    "papermill": {
     "duration": 0.010509,
     "end_time": "2022-11-07T16:44:15.488265",
     "exception": false,
     "start_time": "2022-11-07T16:44:15.477756",
     "status": "completed"
    },
    "tags": []
   },
   "outputs": [],
   "source": []
  }
 ],
 "metadata": {
  "kernelspec": {
   "display_name": "Python 3",
   "language": "python",
   "name": "python3"
  },
  "language_info": {
   "codemirror_mode": {
    "name": "ipython",
    "version": 3
   },
   "file_extension": ".py",
   "mimetype": "text/x-python",
   "name": "python",
   "nbconvert_exporter": "python",
   "pygments_lexer": "ipython3",
   "version": "3.7.12"
  },
  "papermill": {
   "default_parameters": {},
   "duration": 52.724189,
   "end_time": "2022-11-07T16:44:16.924054",
   "environment_variables": {},
   "exception": null,
   "input_path": "__notebook__.ipynb",
   "output_path": "__notebook__.ipynb",
   "parameters": {},
   "start_time": "2022-11-07T16:43:24.199865",
   "version": "2.3.4"
  },
  "widgets": {
   "application/vnd.jupyter.widget-state+json": {
    "state": {
     "14ad3f13b8434e36a62d80e8698cc7af": {
      "model_module": "@jupyter-widgets/base",
      "model_module_version": "1.2.0",
      "model_name": "LayoutModel",
      "state": {
       "_model_module": "@jupyter-widgets/base",
       "_model_module_version": "1.2.0",
       "_model_name": "LayoutModel",
       "_view_count": null,
       "_view_module": "@jupyter-widgets/base",
       "_view_module_version": "1.2.0",
       "_view_name": "LayoutView",
       "align_content": null,
       "align_items": null,
       "align_self": null,
       "border": null,
       "bottom": null,
       "display": null,
       "flex": null,
       "flex_flow": null,
       "grid_area": null,
       "grid_auto_columns": null,
       "grid_auto_flow": null,
       "grid_auto_rows": null,
       "grid_column": null,
       "grid_gap": null,
       "grid_row": null,
       "grid_template_areas": null,
       "grid_template_columns": null,
       "grid_template_rows": null,
       "height": null,
       "justify_content": null,
       "justify_items": null,
       "left": null,
       "margin": null,
       "max_height": null,
       "max_width": null,
       "min_height": null,
       "min_width": null,
       "object_fit": null,
       "object_position": null,
       "order": null,
       "overflow": null,
       "overflow_x": null,
       "overflow_y": null,
       "padding": null,
       "right": null,
       "top": null,
       "visibility": null,
       "width": null
      }
     },
     "17cc2d7e5a2d43c4bb8d98e21e5a42e7": {
      "model_module": "jupyter-matplotlib",
      "model_module_version": "^0.9.0",
      "model_name": "ToolbarModel",
      "state": {
       "_current_action": "",
       "_dom_classes": [],
       "_model_module": "jupyter-matplotlib",
       "_model_module_version": "^0.9.0",
       "_model_name": "ToolbarModel",
       "_view_count": null,
       "_view_module": "jupyter-matplotlib",
       "_view_module_version": "^0.9.0",
       "_view_name": "ToolbarView",
       "button_style": "",
       "collapsed": true,
       "layout": "IPY_MODEL_8a389e28b73d4e058ca081205c6fb4ca",
       "orientation": "vertical",
       "toolitems": [
        [
         "Home",
         "Reset original view",
         "home",
         "home"
        ],
        [
         "Back",
         "Back to previous view",
         "arrow-left",
         "back"
        ],
        [
         "Forward",
         "Forward to next view",
         "arrow-right",
         "forward"
        ],
        [
         "Pan",
         "Left button pans, Right button zooms\nx/y fixes axis, CTRL fixes aspect",
         "arrows",
         "pan"
        ],
        [
         "Zoom",
         "Zoom to rectangle\nx/y fixes axis",
         "square-o",
         "zoom"
        ],
        [
         "Download",
         "Download plot",
         "floppy-o",
         "save_figure"
        ]
       ]
      }
     },
     "1eaed40e4605483fbfa496bd2c34b5f3": {
      "model_module": "@jupyter-widgets/base",
      "model_module_version": "1.2.0",
      "model_name": "LayoutModel",
      "state": {
       "_model_module": "@jupyter-widgets/base",
       "_model_module_version": "1.2.0",
       "_model_name": "LayoutModel",
       "_view_count": null,
       "_view_module": "@jupyter-widgets/base",
       "_view_module_version": "1.2.0",
       "_view_name": "LayoutView",
       "align_content": null,
       "align_items": null,
       "align_self": null,
       "border": null,
       "bottom": null,
       "display": null,
       "flex": null,
       "flex_flow": null,
       "grid_area": null,
       "grid_auto_columns": null,
       "grid_auto_flow": null,
       "grid_auto_rows": null,
       "grid_column": null,
       "grid_gap": null,
       "grid_row": null,
       "grid_template_areas": null,
       "grid_template_columns": null,
       "grid_template_rows": null,
       "height": null,
       "justify_content": null,
       "justify_items": null,
       "left": null,
       "margin": null,
       "max_height": null,
       "max_width": null,
       "min_height": null,
       "min_width": null,
       "object_fit": null,
       "object_position": null,
       "order": null,
       "overflow": null,
       "overflow_x": null,
       "overflow_y": null,
       "padding": null,
       "right": null,
       "top": null,
       "visibility": null,
       "width": null
      }
     },
     "30e3d454f49a45b8a98c3c07f32f8e19": {
      "model_module": "jupyter-matplotlib",
      "model_module_version": "^0.9.0",
      "model_name": "ToolbarModel",
      "state": {
       "_current_action": "",
       "_dom_classes": [],
       "_model_module": "jupyter-matplotlib",
       "_model_module_version": "^0.9.0",
       "_model_name": "ToolbarModel",
       "_view_count": null,
       "_view_module": "jupyter-matplotlib",
       "_view_module_version": "^0.9.0",
       "_view_name": "ToolbarView",
       "button_style": "",
       "collapsed": true,
       "layout": "IPY_MODEL_407c004686d54b42b4789295467d78c4",
       "orientation": "vertical",
       "toolitems": [
        [
         "Home",
         "Reset original view",
         "home",
         "home"
        ],
        [
         "Back",
         "Back to previous view",
         "arrow-left",
         "back"
        ],
        [
         "Forward",
         "Forward to next view",
         "arrow-right",
         "forward"
        ],
        [
         "Pan",
         "Left button pans, Right button zooms\nx/y fixes axis, CTRL fixes aspect",
         "arrows",
         "pan"
        ],
        [
         "Zoom",
         "Zoom to rectangle\nx/y fixes axis",
         "square-o",
         "zoom"
        ],
        [
         "Download",
         "Download plot",
         "floppy-o",
         "save_figure"
        ]
       ]
      }
     },
     "3f06466498cf47a09239e852777097a9": {
      "model_module": "@jupyter-widgets/base",
      "model_module_version": "1.2.0",
      "model_name": "LayoutModel",
      "state": {
       "_model_module": "@jupyter-widgets/base",
       "_model_module_version": "1.2.0",
       "_model_name": "LayoutModel",
       "_view_count": null,
       "_view_module": "@jupyter-widgets/base",
       "_view_module_version": "1.2.0",
       "_view_name": "LayoutView",
       "align_content": null,
       "align_items": null,
       "align_self": null,
       "border": null,
       "bottom": null,
       "display": null,
       "flex": null,
       "flex_flow": null,
       "grid_area": null,
       "grid_auto_columns": null,
       "grid_auto_flow": null,
       "grid_auto_rows": null,
       "grid_column": null,
       "grid_gap": null,
       "grid_row": null,
       "grid_template_areas": null,
       "grid_template_columns": null,
       "grid_template_rows": null,
       "height": null,
       "justify_content": null,
       "justify_items": null,
       "left": null,
       "margin": null,
       "max_height": null,
       "max_width": null,
       "min_height": null,
       "min_width": null,
       "object_fit": null,
       "object_position": null,
       "order": null,
       "overflow": null,
       "overflow_x": null,
       "overflow_y": null,
       "padding": null,
       "right": null,
       "top": null,
       "visibility": null,
       "width": null
      }
     },
     "407c004686d54b42b4789295467d78c4": {
      "model_module": "@jupyter-widgets/base",
      "model_module_version": "1.2.0",
      "model_name": "LayoutModel",
      "state": {
       "_model_module": "@jupyter-widgets/base",
       "_model_module_version": "1.2.0",
       "_model_name": "LayoutModel",
       "_view_count": null,
       "_view_module": "@jupyter-widgets/base",
       "_view_module_version": "1.2.0",
       "_view_name": "LayoutView",
       "align_content": null,
       "align_items": null,
       "align_self": null,
       "border": null,
       "bottom": null,
       "display": null,
       "flex": null,
       "flex_flow": null,
       "grid_area": null,
       "grid_auto_columns": null,
       "grid_auto_flow": null,
       "grid_auto_rows": null,
       "grid_column": null,
       "grid_gap": null,
       "grid_row": null,
       "grid_template_areas": null,
       "grid_template_columns": null,
       "grid_template_rows": null,
       "height": null,
       "justify_content": null,
       "justify_items": null,
       "left": null,
       "margin": null,
       "max_height": null,
       "max_width": null,
       "min_height": null,
       "min_width": null,
       "object_fit": null,
       "object_position": null,
       "order": null,
       "overflow": null,
       "overflow_x": null,
       "overflow_y": null,
       "padding": null,
       "right": null,
       "top": null,
       "visibility": null,
       "width": null
      }
     },
     "4495e8c12a524be69824749bcdbd592d": {
      "model_module": "jupyter-matplotlib",
      "model_module_version": "^0.9.0",
      "model_name": "MPLCanvasModel",
      "state": {
       "_cursor": "pointer",
       "_dom_classes": [],
       "_figure_label": "Figure",
       "_height": 0,
       "_image_mode": "full",
       "_message": "",
       "_model_module": "jupyter-matplotlib",
       "_model_module_version": "^0.9.0",
       "_model_name": "MPLCanvasModel",
       "_rubberband_height": 0,
       "_rubberband_width": 0,
       "_rubberband_x": 0,
       "_rubberband_y": 0,
       "_view_count": null,
       "_view_module": "jupyter-matplotlib",
       "_view_module_version": "^0.9.0",
       "_view_name": "MPLCanvasView",
       "_width": 0,
       "capture_scroll": false,
       "footer_visible": true,
       "header_visible": true,
       "layout": "IPY_MODEL_e87a226a8136447388725415575f5471",
       "resizable": true,
       "toolbar": "IPY_MODEL_17cc2d7e5a2d43c4bb8d98e21e5a42e7",
       "toolbar_position": "left",
       "toolbar_visible": true
      }
     },
     "4e5b8ce2d44a4e688ad18e70558c3c46": {
      "model_module": "@jupyter-widgets/base",
      "model_module_version": "1.2.0",
      "model_name": "LayoutModel",
      "state": {
       "_model_module": "@jupyter-widgets/base",
       "_model_module_version": "1.2.0",
       "_model_name": "LayoutModel",
       "_view_count": null,
       "_view_module": "@jupyter-widgets/base",
       "_view_module_version": "1.2.0",
       "_view_name": "LayoutView",
       "align_content": null,
       "align_items": null,
       "align_self": null,
       "border": null,
       "bottom": null,
       "display": null,
       "flex": null,
       "flex_flow": null,
       "grid_area": null,
       "grid_auto_columns": null,
       "grid_auto_flow": null,
       "grid_auto_rows": null,
       "grid_column": null,
       "grid_gap": null,
       "grid_row": null,
       "grid_template_areas": null,
       "grid_template_columns": null,
       "grid_template_rows": null,
       "height": null,
       "justify_content": null,
       "justify_items": null,
       "left": null,
       "margin": null,
       "max_height": null,
       "max_width": null,
       "min_height": null,
       "min_width": null,
       "object_fit": null,
       "object_position": null,
       "order": null,
       "overflow": null,
       "overflow_x": null,
       "overflow_y": null,
       "padding": null,
       "right": null,
       "top": null,
       "visibility": null,
       "width": null
      }
     },
     "5114a135e8ce4b8bb94f55666d36160f": {
      "model_module": "jupyter-matplotlib",
      "model_module_version": "^0.9.0",
      "model_name": "ToolbarModel",
      "state": {
       "_current_action": "",
       "_dom_classes": [],
       "_model_module": "jupyter-matplotlib",
       "_model_module_version": "^0.9.0",
       "_model_name": "ToolbarModel",
       "_view_count": null,
       "_view_module": "jupyter-matplotlib",
       "_view_module_version": "^0.9.0",
       "_view_name": "ToolbarView",
       "button_style": "",
       "collapsed": true,
       "layout": "IPY_MODEL_bf6bc9bd7637478b96b17786a67c8e2d",
       "orientation": "vertical",
       "toolitems": [
        [
         "Home",
         "Reset original view",
         "home",
         "home"
        ],
        [
         "Back",
         "Back to previous view",
         "arrow-left",
         "back"
        ],
        [
         "Forward",
         "Forward to next view",
         "arrow-right",
         "forward"
        ],
        [
         "Pan",
         "Left button pans, Right button zooms\nx/y fixes axis, CTRL fixes aspect",
         "arrows",
         "pan"
        ],
        [
         "Zoom",
         "Zoom to rectangle\nx/y fixes axis",
         "square-o",
         "zoom"
        ],
        [
         "Download",
         "Download plot",
         "floppy-o",
         "save_figure"
        ]
       ]
      }
     },
     "6dc76661b597465b82d48224f4e596e3": {
      "model_module": "@jupyter-widgets/base",
      "model_module_version": "1.2.0",
      "model_name": "LayoutModel",
      "state": {
       "_model_module": "@jupyter-widgets/base",
       "_model_module_version": "1.2.0",
       "_model_name": "LayoutModel",
       "_view_count": null,
       "_view_module": "@jupyter-widgets/base",
       "_view_module_version": "1.2.0",
       "_view_name": "LayoutView",
       "align_content": null,
       "align_items": null,
       "align_self": null,
       "border": null,
       "bottom": null,
       "display": null,
       "flex": null,
       "flex_flow": null,
       "grid_area": null,
       "grid_auto_columns": null,
       "grid_auto_flow": null,
       "grid_auto_rows": null,
       "grid_column": null,
       "grid_gap": null,
       "grid_row": null,
       "grid_template_areas": null,
       "grid_template_columns": null,
       "grid_template_rows": null,
       "height": null,
       "justify_content": null,
       "justify_items": null,
       "left": null,
       "margin": null,
       "max_height": null,
       "max_width": null,
       "min_height": null,
       "min_width": null,
       "object_fit": null,
       "object_position": null,
       "order": null,
       "overflow": null,
       "overflow_x": null,
       "overflow_y": null,
       "padding": null,
       "right": null,
       "top": null,
       "visibility": null,
       "width": null
      }
     },
     "7321bd977ca04f79be998d49ad11ecea": {
      "model_module": "@jupyter-widgets/base",
      "model_module_version": "1.2.0",
      "model_name": "LayoutModel",
      "state": {
       "_model_module": "@jupyter-widgets/base",
       "_model_module_version": "1.2.0",
       "_model_name": "LayoutModel",
       "_view_count": null,
       "_view_module": "@jupyter-widgets/base",
       "_view_module_version": "1.2.0",
       "_view_name": "LayoutView",
       "align_content": null,
       "align_items": null,
       "align_self": null,
       "border": null,
       "bottom": null,
       "display": null,
       "flex": null,
       "flex_flow": null,
       "grid_area": null,
       "grid_auto_columns": null,
       "grid_auto_flow": null,
       "grid_auto_rows": null,
       "grid_column": null,
       "grid_gap": null,
       "grid_row": null,
       "grid_template_areas": null,
       "grid_template_columns": null,
       "grid_template_rows": null,
       "height": null,
       "justify_content": null,
       "justify_items": null,
       "left": null,
       "margin": null,
       "max_height": null,
       "max_width": null,
       "min_height": null,
       "min_width": null,
       "object_fit": null,
       "object_position": null,
       "order": null,
       "overflow": null,
       "overflow_x": null,
       "overflow_y": null,
       "padding": null,
       "right": null,
       "top": null,
       "visibility": null,
       "width": null
      }
     },
     "7a3e5ee3046944c18b918f1dcdef9bf2": {
      "model_module": "jupyter-matplotlib",
      "model_module_version": "^0.9.0",
      "model_name": "MPLCanvasModel",
      "state": {
       "_cursor": "pointer",
       "_dom_classes": [],
       "_figure_label": "Figure",
       "_height": 0,
       "_image_mode": "full",
       "_message": "",
       "_model_module": "jupyter-matplotlib",
       "_model_module_version": "^0.9.0",
       "_model_name": "MPLCanvasModel",
       "_rubberband_height": 0,
       "_rubberband_width": 0,
       "_rubberband_x": 0,
       "_rubberband_y": 0,
       "_view_count": null,
       "_view_module": "jupyter-matplotlib",
       "_view_module_version": "^0.9.0",
       "_view_name": "MPLCanvasView",
       "_width": 0,
       "capture_scroll": false,
       "footer_visible": true,
       "header_visible": true,
       "layout": "IPY_MODEL_8829b203f37848f68a4d27c4cee76b65",
       "resizable": true,
       "toolbar": "IPY_MODEL_e6291a0ca8644827a53f8b0c0fa103d5",
       "toolbar_position": "left",
       "toolbar_visible": true
      }
     },
     "7d862b0ab4ec419f948f6fd65789837e": {
      "model_module": "@jupyter-widgets/base",
      "model_module_version": "1.2.0",
      "model_name": "LayoutModel",
      "state": {
       "_model_module": "@jupyter-widgets/base",
       "_model_module_version": "1.2.0",
       "_model_name": "LayoutModel",
       "_view_count": null,
       "_view_module": "@jupyter-widgets/base",
       "_view_module_version": "1.2.0",
       "_view_name": "LayoutView",
       "align_content": null,
       "align_items": null,
       "align_self": null,
       "border": null,
       "bottom": null,
       "display": null,
       "flex": null,
       "flex_flow": null,
       "grid_area": null,
       "grid_auto_columns": null,
       "grid_auto_flow": null,
       "grid_auto_rows": null,
       "grid_column": null,
       "grid_gap": null,
       "grid_row": null,
       "grid_template_areas": null,
       "grid_template_columns": null,
       "grid_template_rows": null,
       "height": null,
       "justify_content": null,
       "justify_items": null,
       "left": null,
       "margin": null,
       "max_height": null,
       "max_width": null,
       "min_height": null,
       "min_width": null,
       "object_fit": null,
       "object_position": null,
       "order": null,
       "overflow": null,
       "overflow_x": null,
       "overflow_y": null,
       "padding": null,
       "right": null,
       "top": null,
       "visibility": null,
       "width": null
      }
     },
     "8829b203f37848f68a4d27c4cee76b65": {
      "model_module": "@jupyter-widgets/base",
      "model_module_version": "1.2.0",
      "model_name": "LayoutModel",
      "state": {
       "_model_module": "@jupyter-widgets/base",
       "_model_module_version": "1.2.0",
       "_model_name": "LayoutModel",
       "_view_count": null,
       "_view_module": "@jupyter-widgets/base",
       "_view_module_version": "1.2.0",
       "_view_name": "LayoutView",
       "align_content": null,
       "align_items": null,
       "align_self": null,
       "border": null,
       "bottom": null,
       "display": null,
       "flex": null,
       "flex_flow": null,
       "grid_area": null,
       "grid_auto_columns": null,
       "grid_auto_flow": null,
       "grid_auto_rows": null,
       "grid_column": null,
       "grid_gap": null,
       "grid_row": null,
       "grid_template_areas": null,
       "grid_template_columns": null,
       "grid_template_rows": null,
       "height": null,
       "justify_content": null,
       "justify_items": null,
       "left": null,
       "margin": null,
       "max_height": null,
       "max_width": null,
       "min_height": null,
       "min_width": null,
       "object_fit": null,
       "object_position": null,
       "order": null,
       "overflow": null,
       "overflow_x": null,
       "overflow_y": null,
       "padding": null,
       "right": null,
       "top": null,
       "visibility": null,
       "width": null
      }
     },
     "894ae3f45b8e42e2a12da0b5e9b09926": {
      "model_module": "jupyter-matplotlib",
      "model_module_version": "^0.9.0",
      "model_name": "ToolbarModel",
      "state": {
       "_current_action": "",
       "_dom_classes": [],
       "_model_module": "jupyter-matplotlib",
       "_model_module_version": "^0.9.0",
       "_model_name": "ToolbarModel",
       "_view_count": null,
       "_view_module": "jupyter-matplotlib",
       "_view_module_version": "^0.9.0",
       "_view_name": "ToolbarView",
       "button_style": "",
       "collapsed": true,
       "layout": "IPY_MODEL_a35cec13244f4b2987408e6e4b355991",
       "orientation": "vertical",
       "toolitems": [
        [
         "Home",
         "Reset original view",
         "home",
         "home"
        ],
        [
         "Back",
         "Back to previous view",
         "arrow-left",
         "back"
        ],
        [
         "Forward",
         "Forward to next view",
         "arrow-right",
         "forward"
        ],
        [
         "Pan",
         "Left button pans, Right button zooms\nx/y fixes axis, CTRL fixes aspect",
         "arrows",
         "pan"
        ],
        [
         "Zoom",
         "Zoom to rectangle\nx/y fixes axis",
         "square-o",
         "zoom"
        ],
        [
         "Download",
         "Download plot",
         "floppy-o",
         "save_figure"
        ]
       ]
      }
     },
     "8a389e28b73d4e058ca081205c6fb4ca": {
      "model_module": "@jupyter-widgets/base",
      "model_module_version": "1.2.0",
      "model_name": "LayoutModel",
      "state": {
       "_model_module": "@jupyter-widgets/base",
       "_model_module_version": "1.2.0",
       "_model_name": "LayoutModel",
       "_view_count": null,
       "_view_module": "@jupyter-widgets/base",
       "_view_module_version": "1.2.0",
       "_view_name": "LayoutView",
       "align_content": null,
       "align_items": null,
       "align_self": null,
       "border": null,
       "bottom": null,
       "display": null,
       "flex": null,
       "flex_flow": null,
       "grid_area": null,
       "grid_auto_columns": null,
       "grid_auto_flow": null,
       "grid_auto_rows": null,
       "grid_column": null,
       "grid_gap": null,
       "grid_row": null,
       "grid_template_areas": null,
       "grid_template_columns": null,
       "grid_template_rows": null,
       "height": null,
       "justify_content": null,
       "justify_items": null,
       "left": null,
       "margin": null,
       "max_height": null,
       "max_width": null,
       "min_height": null,
       "min_width": null,
       "object_fit": null,
       "object_position": null,
       "order": null,
       "overflow": null,
       "overflow_x": null,
       "overflow_y": null,
       "padding": null,
       "right": null,
       "top": null,
       "visibility": null,
       "width": null
      }
     },
     "8b0d358fc4fa473185aa7fef4bb750a6": {
      "model_module": "@jupyter-widgets/base",
      "model_module_version": "1.2.0",
      "model_name": "LayoutModel",
      "state": {
       "_model_module": "@jupyter-widgets/base",
       "_model_module_version": "1.2.0",
       "_model_name": "LayoutModel",
       "_view_count": null,
       "_view_module": "@jupyter-widgets/base",
       "_view_module_version": "1.2.0",
       "_view_name": "LayoutView",
       "align_content": null,
       "align_items": null,
       "align_self": null,
       "border": null,
       "bottom": null,
       "display": null,
       "flex": null,
       "flex_flow": null,
       "grid_area": null,
       "grid_auto_columns": null,
       "grid_auto_flow": null,
       "grid_auto_rows": null,
       "grid_column": null,
       "grid_gap": null,
       "grid_row": null,
       "grid_template_areas": null,
       "grid_template_columns": null,
       "grid_template_rows": null,
       "height": null,
       "justify_content": null,
       "justify_items": null,
       "left": null,
       "margin": null,
       "max_height": null,
       "max_width": null,
       "min_height": null,
       "min_width": null,
       "object_fit": null,
       "object_position": null,
       "order": null,
       "overflow": null,
       "overflow_x": null,
       "overflow_y": null,
       "padding": null,
       "right": null,
       "top": null,
       "visibility": null,
       "width": null
      }
     },
     "8f89016593044b3b9868894284226f0c": {
      "model_module": "jupyter-matplotlib",
      "model_module_version": "^0.9.0",
      "model_name": "MPLCanvasModel",
      "state": {
       "_cursor": "pointer",
       "_dom_classes": [],
       "_figure_label": "Figure",
       "_height": 0,
       "_image_mode": "full",
       "_message": "",
       "_model_module": "jupyter-matplotlib",
       "_model_module_version": "^0.9.0",
       "_model_name": "MPLCanvasModel",
       "_rubberband_height": 0,
       "_rubberband_width": 0,
       "_rubberband_x": 0,
       "_rubberband_y": 0,
       "_view_count": null,
       "_view_module": "jupyter-matplotlib",
       "_view_module_version": "^0.9.0",
       "_view_name": "MPLCanvasView",
       "_width": 0,
       "capture_scroll": false,
       "footer_visible": true,
       "header_visible": true,
       "layout": "IPY_MODEL_ac01494846c34645bf230fde737bba94",
       "resizable": true,
       "toolbar": "IPY_MODEL_94a30e5fc61d484491ed2240ff482355",
       "toolbar_position": "left",
       "toolbar_visible": true
      }
     },
     "94a30e5fc61d484491ed2240ff482355": {
      "model_module": "jupyter-matplotlib",
      "model_module_version": "^0.9.0",
      "model_name": "ToolbarModel",
      "state": {
       "_current_action": "",
       "_dom_classes": [],
       "_model_module": "jupyter-matplotlib",
       "_model_module_version": "^0.9.0",
       "_model_name": "ToolbarModel",
       "_view_count": null,
       "_view_module": "jupyter-matplotlib",
       "_view_module_version": "^0.9.0",
       "_view_name": "ToolbarView",
       "button_style": "",
       "collapsed": true,
       "layout": "IPY_MODEL_14ad3f13b8434e36a62d80e8698cc7af",
       "orientation": "vertical",
       "toolitems": [
        [
         "Home",
         "Reset original view",
         "home",
         "home"
        ],
        [
         "Back",
         "Back to previous view",
         "arrow-left",
         "back"
        ],
        [
         "Forward",
         "Forward to next view",
         "arrow-right",
         "forward"
        ],
        [
         "Pan",
         "Left button pans, Right button zooms\nx/y fixes axis, CTRL fixes aspect",
         "arrows",
         "pan"
        ],
        [
         "Zoom",
         "Zoom to rectangle\nx/y fixes axis",
         "square-o",
         "zoom"
        ],
        [
         "Download",
         "Download plot",
         "floppy-o",
         "save_figure"
        ]
       ]
      }
     },
     "957ff445f3234e4abf65ab4cca206cc0": {
      "model_module": "jupyter-matplotlib",
      "model_module_version": "^0.9.0",
      "model_name": "MPLCanvasModel",
      "state": {
       "_cursor": "pointer",
       "_dom_classes": [],
       "_figure_label": "Figure",
       "_height": 0,
       "_image_mode": "full",
       "_message": "",
       "_model_module": "jupyter-matplotlib",
       "_model_module_version": "^0.9.0",
       "_model_name": "MPLCanvasModel",
       "_rubberband_height": 0,
       "_rubberband_width": 0,
       "_rubberband_x": 0,
       "_rubberband_y": 0,
       "_view_count": null,
       "_view_module": "jupyter-matplotlib",
       "_view_module_version": "^0.9.0",
       "_view_name": "MPLCanvasView",
       "_width": 0,
       "capture_scroll": false,
       "footer_visible": true,
       "header_visible": true,
       "layout": "IPY_MODEL_dd195f556dca48ec9b2119a30341d6ed",
       "resizable": true,
       "toolbar": "IPY_MODEL_894ae3f45b8e42e2a12da0b5e9b09926",
       "toolbar_position": "left",
       "toolbar_visible": true
      }
     },
     "96432485a2564f439c05db9d7314d3c7": {
      "model_module": "jupyter-matplotlib",
      "model_module_version": "^0.9.0",
      "model_name": "MPLCanvasModel",
      "state": {
       "_cursor": "pointer",
       "_dom_classes": [],
       "_figure_label": "Figure",
       "_height": 0,
       "_image_mode": "full",
       "_message": "",
       "_model_module": "jupyter-matplotlib",
       "_model_module_version": "^0.9.0",
       "_model_name": "MPLCanvasModel",
       "_rubberband_height": 0,
       "_rubberband_width": 0,
       "_rubberband_x": 0,
       "_rubberband_y": 0,
       "_view_count": null,
       "_view_module": "jupyter-matplotlib",
       "_view_module_version": "^0.9.0",
       "_view_name": "MPLCanvasView",
       "_width": 0,
       "capture_scroll": false,
       "footer_visible": true,
       "header_visible": true,
       "layout": "IPY_MODEL_1eaed40e4605483fbfa496bd2c34b5f3",
       "resizable": true,
       "toolbar": "IPY_MODEL_30e3d454f49a45b8a98c3c07f32f8e19",
       "toolbar_position": "left",
       "toolbar_visible": true
      }
     },
     "9d9e81c25ec241f8b622f14317f1f9f0": {
      "model_module": "jupyter-matplotlib",
      "model_module_version": "^0.9.0",
      "model_name": "ToolbarModel",
      "state": {
       "_current_action": "",
       "_dom_classes": [],
       "_model_module": "jupyter-matplotlib",
       "_model_module_version": "^0.9.0",
       "_model_name": "ToolbarModel",
       "_view_count": null,
       "_view_module": "jupyter-matplotlib",
       "_view_module_version": "^0.9.0",
       "_view_name": "ToolbarView",
       "button_style": "",
       "collapsed": true,
       "layout": "IPY_MODEL_6dc76661b597465b82d48224f4e596e3",
       "orientation": "vertical",
       "toolitems": [
        [
         "Home",
         "Reset original view",
         "home",
         "home"
        ],
        [
         "Back",
         "Back to previous view",
         "arrow-left",
         "back"
        ],
        [
         "Forward",
         "Forward to next view",
         "arrow-right",
         "forward"
        ],
        [
         "Pan",
         "Left button pans, Right button zooms\nx/y fixes axis, CTRL fixes aspect",
         "arrows",
         "pan"
        ],
        [
         "Zoom",
         "Zoom to rectangle\nx/y fixes axis",
         "square-o",
         "zoom"
        ],
        [
         "Download",
         "Download plot",
         "floppy-o",
         "save_figure"
        ]
       ]
      }
     },
     "a35cec13244f4b2987408e6e4b355991": {
      "model_module": "@jupyter-widgets/base",
      "model_module_version": "1.2.0",
      "model_name": "LayoutModel",
      "state": {
       "_model_module": "@jupyter-widgets/base",
       "_model_module_version": "1.2.0",
       "_model_name": "LayoutModel",
       "_view_count": null,
       "_view_module": "@jupyter-widgets/base",
       "_view_module_version": "1.2.0",
       "_view_name": "LayoutView",
       "align_content": null,
       "align_items": null,
       "align_self": null,
       "border": null,
       "bottom": null,
       "display": null,
       "flex": null,
       "flex_flow": null,
       "grid_area": null,
       "grid_auto_columns": null,
       "grid_auto_flow": null,
       "grid_auto_rows": null,
       "grid_column": null,
       "grid_gap": null,
       "grid_row": null,
       "grid_template_areas": null,
       "grid_template_columns": null,
       "grid_template_rows": null,
       "height": null,
       "justify_content": null,
       "justify_items": null,
       "left": null,
       "margin": null,
       "max_height": null,
       "max_width": null,
       "min_height": null,
       "min_width": null,
       "object_fit": null,
       "object_position": null,
       "order": null,
       "overflow": null,
       "overflow_x": null,
       "overflow_y": null,
       "padding": null,
       "right": null,
       "top": null,
       "visibility": null,
       "width": null
      }
     },
     "aa8b3a422c2a4f3885c63dc0457670ef": {
      "model_module": "jupyter-matplotlib",
      "model_module_version": "^0.9.0",
      "model_name": "ToolbarModel",
      "state": {
       "_current_action": "",
       "_dom_classes": [],
       "_model_module": "jupyter-matplotlib",
       "_model_module_version": "^0.9.0",
       "_model_name": "ToolbarModel",
       "_view_count": null,
       "_view_module": "jupyter-matplotlib",
       "_view_module_version": "^0.9.0",
       "_view_name": "ToolbarView",
       "button_style": "",
       "collapsed": true,
       "layout": "IPY_MODEL_7d862b0ab4ec419f948f6fd65789837e",
       "orientation": "vertical",
       "toolitems": [
        [
         "Home",
         "Reset original view",
         "home",
         "home"
        ],
        [
         "Back",
         "Back to previous view",
         "arrow-left",
         "back"
        ],
        [
         "Forward",
         "Forward to next view",
         "arrow-right",
         "forward"
        ],
        [
         "Pan",
         "Left button pans, Right button zooms\nx/y fixes axis, CTRL fixes aspect",
         "arrows",
         "pan"
        ],
        [
         "Zoom",
         "Zoom to rectangle\nx/y fixes axis",
         "square-o",
         "zoom"
        ],
        [
         "Download",
         "Download plot",
         "floppy-o",
         "save_figure"
        ]
       ]
      }
     },
     "aaabfc50b69b4701aa06c7b8ee40e492": {
      "model_module": "jupyter-matplotlib",
      "model_module_version": "^0.9.0",
      "model_name": "MPLCanvasModel",
      "state": {
       "_cursor": "pointer",
       "_dom_classes": [],
       "_figure_label": "Figure",
       "_height": 0,
       "_image_mode": "full",
       "_message": "",
       "_model_module": "jupyter-matplotlib",
       "_model_module_version": "^0.9.0",
       "_model_name": "MPLCanvasModel",
       "_rubberband_height": 0,
       "_rubberband_width": 0,
       "_rubberband_x": 0,
       "_rubberband_y": 0,
       "_view_count": null,
       "_view_module": "jupyter-matplotlib",
       "_view_module_version": "^0.9.0",
       "_view_name": "MPLCanvasView",
       "_width": 0,
       "capture_scroll": false,
       "footer_visible": true,
       "header_visible": true,
       "layout": "IPY_MODEL_3f06466498cf47a09239e852777097a9",
       "resizable": true,
       "toolbar": "IPY_MODEL_9d9e81c25ec241f8b622f14317f1f9f0",
       "toolbar_position": "left",
       "toolbar_visible": true
      }
     },
     "ac01494846c34645bf230fde737bba94": {
      "model_module": "@jupyter-widgets/base",
      "model_module_version": "1.2.0",
      "model_name": "LayoutModel",
      "state": {
       "_model_module": "@jupyter-widgets/base",
       "_model_module_version": "1.2.0",
       "_model_name": "LayoutModel",
       "_view_count": null,
       "_view_module": "@jupyter-widgets/base",
       "_view_module_version": "1.2.0",
       "_view_name": "LayoutView",
       "align_content": null,
       "align_items": null,
       "align_self": null,
       "border": null,
       "bottom": null,
       "display": null,
       "flex": null,
       "flex_flow": null,
       "grid_area": null,
       "grid_auto_columns": null,
       "grid_auto_flow": null,
       "grid_auto_rows": null,
       "grid_column": null,
       "grid_gap": null,
       "grid_row": null,
       "grid_template_areas": null,
       "grid_template_columns": null,
       "grid_template_rows": null,
       "height": null,
       "justify_content": null,
       "justify_items": null,
       "left": null,
       "margin": null,
       "max_height": null,
       "max_width": null,
       "min_height": null,
       "min_width": null,
       "object_fit": null,
       "object_position": null,
       "order": null,
       "overflow": null,
       "overflow_x": null,
       "overflow_y": null,
       "padding": null,
       "right": null,
       "top": null,
       "visibility": null,
       "width": null
      }
     },
     "bc30bdd33a3a40089e2251a3e0909ce2": {
      "model_module": "jupyter-matplotlib",
      "model_module_version": "^0.9.0",
      "model_name": "MPLCanvasModel",
      "state": {
       "_cursor": "pointer",
       "_dom_classes": [],
       "_figure_label": "Figure",
       "_height": 0,
       "_image_mode": "full",
       "_message": "",
       "_model_module": "jupyter-matplotlib",
       "_model_module_version": "^0.9.0",
       "_model_name": "MPLCanvasModel",
       "_rubberband_height": 0,
       "_rubberband_width": 0,
       "_rubberband_x": 0,
       "_rubberband_y": 0,
       "_view_count": null,
       "_view_module": "jupyter-matplotlib",
       "_view_module_version": "^0.9.0",
       "_view_name": "MPLCanvasView",
       "_width": 0,
       "capture_scroll": false,
       "footer_visible": true,
       "header_visible": true,
       "layout": "IPY_MODEL_7321bd977ca04f79be998d49ad11ecea",
       "resizable": true,
       "toolbar": "IPY_MODEL_aa8b3a422c2a4f3885c63dc0457670ef",
       "toolbar_position": "left",
       "toolbar_visible": true
      }
     },
     "bf6bc9bd7637478b96b17786a67c8e2d": {
      "model_module": "@jupyter-widgets/base",
      "model_module_version": "1.2.0",
      "model_name": "LayoutModel",
      "state": {
       "_model_module": "@jupyter-widgets/base",
       "_model_module_version": "1.2.0",
       "_model_name": "LayoutModel",
       "_view_count": null,
       "_view_module": "@jupyter-widgets/base",
       "_view_module_version": "1.2.0",
       "_view_name": "LayoutView",
       "align_content": null,
       "align_items": null,
       "align_self": null,
       "border": null,
       "bottom": null,
       "display": null,
       "flex": null,
       "flex_flow": null,
       "grid_area": null,
       "grid_auto_columns": null,
       "grid_auto_flow": null,
       "grid_auto_rows": null,
       "grid_column": null,
       "grid_gap": null,
       "grid_row": null,
       "grid_template_areas": null,
       "grid_template_columns": null,
       "grid_template_rows": null,
       "height": null,
       "justify_content": null,
       "justify_items": null,
       "left": null,
       "margin": null,
       "max_height": null,
       "max_width": null,
       "min_height": null,
       "min_width": null,
       "object_fit": null,
       "object_position": null,
       "order": null,
       "overflow": null,
       "overflow_x": null,
       "overflow_y": null,
       "padding": null,
       "right": null,
       "top": null,
       "visibility": null,
       "width": null
      }
     },
     "c6a3013486c84659b4a458fa3199d756": {
      "model_module": "jupyter-matplotlib",
      "model_module_version": "^0.9.0",
      "model_name": "MPLCanvasModel",
      "state": {
       "_cursor": "pointer",
       "_dom_classes": [],
       "_figure_label": "Figure",
       "_height": 0,
       "_image_mode": "full",
       "_message": "",
       "_model_module": "jupyter-matplotlib",
       "_model_module_version": "^0.9.0",
       "_model_name": "MPLCanvasModel",
       "_rubberband_height": 0,
       "_rubberband_width": 0,
       "_rubberband_x": 0,
       "_rubberband_y": 0,
       "_view_count": null,
       "_view_module": "jupyter-matplotlib",
       "_view_module_version": "^0.9.0",
       "_view_name": "MPLCanvasView",
       "_width": 0,
       "capture_scroll": false,
       "footer_visible": true,
       "header_visible": true,
       "layout": "IPY_MODEL_4e5b8ce2d44a4e688ad18e70558c3c46",
       "resizable": true,
       "toolbar": "IPY_MODEL_5114a135e8ce4b8bb94f55666d36160f",
       "toolbar_position": "left",
       "toolbar_visible": true
      }
     },
     "dd195f556dca48ec9b2119a30341d6ed": {
      "model_module": "@jupyter-widgets/base",
      "model_module_version": "1.2.0",
      "model_name": "LayoutModel",
      "state": {
       "_model_module": "@jupyter-widgets/base",
       "_model_module_version": "1.2.0",
       "_model_name": "LayoutModel",
       "_view_count": null,
       "_view_module": "@jupyter-widgets/base",
       "_view_module_version": "1.2.0",
       "_view_name": "LayoutView",
       "align_content": null,
       "align_items": null,
       "align_self": null,
       "border": null,
       "bottom": null,
       "display": null,
       "flex": null,
       "flex_flow": null,
       "grid_area": null,
       "grid_auto_columns": null,
       "grid_auto_flow": null,
       "grid_auto_rows": null,
       "grid_column": null,
       "grid_gap": null,
       "grid_row": null,
       "grid_template_areas": null,
       "grid_template_columns": null,
       "grid_template_rows": null,
       "height": null,
       "justify_content": null,
       "justify_items": null,
       "left": null,
       "margin": null,
       "max_height": null,
       "max_width": null,
       "min_height": null,
       "min_width": null,
       "object_fit": null,
       "object_position": null,
       "order": null,
       "overflow": null,
       "overflow_x": null,
       "overflow_y": null,
       "padding": null,
       "right": null,
       "top": null,
       "visibility": null,
       "width": null
      }
     },
     "e6291a0ca8644827a53f8b0c0fa103d5": {
      "model_module": "jupyter-matplotlib",
      "model_module_version": "^0.9.0",
      "model_name": "ToolbarModel",
      "state": {
       "_current_action": "",
       "_dom_classes": [],
       "_model_module": "jupyter-matplotlib",
       "_model_module_version": "^0.9.0",
       "_model_name": "ToolbarModel",
       "_view_count": null,
       "_view_module": "jupyter-matplotlib",
       "_view_module_version": "^0.9.0",
       "_view_name": "ToolbarView",
       "button_style": "",
       "collapsed": true,
       "layout": "IPY_MODEL_8b0d358fc4fa473185aa7fef4bb750a6",
       "orientation": "vertical",
       "toolitems": [
        [
         "Home",
         "Reset original view",
         "home",
         "home"
        ],
        [
         "Back",
         "Back to previous view",
         "arrow-left",
         "back"
        ],
        [
         "Forward",
         "Forward to next view",
         "arrow-right",
         "forward"
        ],
        [
         "Pan",
         "Left button pans, Right button zooms\nx/y fixes axis, CTRL fixes aspect",
         "arrows",
         "pan"
        ],
        [
         "Zoom",
         "Zoom to rectangle\nx/y fixes axis",
         "square-o",
         "zoom"
        ],
        [
         "Download",
         "Download plot",
         "floppy-o",
         "save_figure"
        ]
       ]
      }
     },
     "e87a226a8136447388725415575f5471": {
      "model_module": "@jupyter-widgets/base",
      "model_module_version": "1.2.0",
      "model_name": "LayoutModel",
      "state": {
       "_model_module": "@jupyter-widgets/base",
       "_model_module_version": "1.2.0",
       "_model_name": "LayoutModel",
       "_view_count": null,
       "_view_module": "@jupyter-widgets/base",
       "_view_module_version": "1.2.0",
       "_view_name": "LayoutView",
       "align_content": null,
       "align_items": null,
       "align_self": null,
       "border": null,
       "bottom": null,
       "display": null,
       "flex": null,
       "flex_flow": null,
       "grid_area": null,
       "grid_auto_columns": null,
       "grid_auto_flow": null,
       "grid_auto_rows": null,
       "grid_column": null,
       "grid_gap": null,
       "grid_row": null,
       "grid_template_areas": null,
       "grid_template_columns": null,
       "grid_template_rows": null,
       "height": null,
       "justify_content": null,
       "justify_items": null,
       "left": null,
       "margin": null,
       "max_height": null,
       "max_width": null,
       "min_height": null,
       "min_width": null,
       "object_fit": null,
       "object_position": null,
       "order": null,
       "overflow": null,
       "overflow_x": null,
       "overflow_y": null,
       "padding": null,
       "right": null,
       "top": null,
       "visibility": null,
       "width": null
      }
     }
    },
    "version_major": 2,
    "version_minor": 0
   }
  }
 },
 "nbformat": 4,
 "nbformat_minor": 5
}
