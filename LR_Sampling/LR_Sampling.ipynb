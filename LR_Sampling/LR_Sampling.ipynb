{
  "nbformat": 4,
  "nbformat_minor": 0,
  "metadata": {
    "colab": {
      "provenance": []
    },
    "kernelspec": {
      "name": "python3",
      "display_name": "Python 3"
    },
    "language_info": {
      "name": "python"
    }
  },
  "cells": [
    {
      "cell_type": "code",
      "execution_count": null,
      "metadata": {
        "id": "E93cFe7Jfio8"
      },
      "outputs": [],
      "source": []
    },
    {
      "cell_type": "code",
      "source": [
        "import numpy as np\n",
        "from matplotlib import pyplot as plt\n",
        "from typing import Mapping\n",
        "import random"
      ],
      "metadata": {
        "id": "4Xhgk0F7uCTy"
      },
      "execution_count": 41,
      "outputs": []
    },
    {
      "cell_type": "markdown",
      "source": [
        "# Функция распределения"
      ],
      "metadata": {
        "id": "2HIXlCAvx0_6"
      }
    },
    {
      "cell_type": "code",
      "source": [
        "def dist_gaus(x:float) -> float:\n",
        "    return np.exp(-np.pi * x**2)"
      ],
      "metadata": {
        "id": "OUnSIU8ruVUj"
      },
      "execution_count": 42,
      "outputs": []
    },
    {
      "cell_type": "markdown",
      "source": [
        "# Функция распределения"
      ],
      "metadata": {
        "id": "Se7sO3-Mx495"
      }
    },
    {
      "cell_type": "code",
      "source": [
        "def dist_exp(x:float) -> float:\n",
        "    return 0.25 * np.exp(-0.25 * x)"
      ],
      "metadata": {
        "id": "_zw6vA_Rw87-"
      },
      "execution_count": 43,
      "outputs": []
    },
    {
      "cell_type": "markdown",
      "source": [
        "# Функция визуализации результатов"
      ],
      "metadata": {
        "id": "4_VZ8bB6x9qb"
      }
    },
    {
      "cell_type": "code",
      "source": [
        "def Show(function_distribution:Mapping, function_sampling:Mapping, min_number_points:int=100, rejection:bool=True):\n",
        "    x_cords = np.linspace(-4, 4, 1000)\n",
        "    y_cords = function_distribution(x_cords)\n",
        "    plt.plot(x_cords, y_cords)\n",
        "    if rejection == True:\n",
        "        sample_points_x, sample_points_y, count_iteration = function_sampling(function_distribution, min_number_points)\n",
        "        plt.scatter(sample_points_x, sample_points_y, c='red')\n",
        "    else:\n",
        "        sample_points, count_iteration = function_sampling(function_distribution, min_number_points)\n",
        "        plt.hist(sample_points, bins=10, density=True, color='red')\n",
        "    plt.xlabel(\"X\")\n",
        "    plt.ylabel(\"Y\")"
      ],
      "metadata": {
        "id": "Es_6hzxbyFRP"
      },
      "execution_count": 44,
      "outputs": []
    },
    {
      "cell_type": "markdown",
      "source": [
        "# Реализация алгоритма Rejection Sampling"
      ],
      "metadata": {
        "id": "Qiy85dubyFgg"
      }
    },
    {
      "cell_type": "code",
      "source": [
        "def Rejection_Sampling(function_distribution:Mapping, min_number_points:int=100):\n",
        "    positive_points_x = list()\n",
        "    positive_points_y = list()\n",
        "    count_points = 0\n",
        "    count_interations = 0\n",
        "    while count_points < min_number_points:\n",
        "        x = random.random() * 8 - 4\n",
        "        y = random.uniform(0, 1)\n",
        "        if y < function_distribution(x):\n",
        "            positive_points_x.append(x)\n",
        "            positive_points_y.append(y)\n",
        "            count_points += 1\n",
        "        count_interations += 1\n",
        "    return positive_points_x, positive_points_y, count_interations"
      ],
      "metadata": {
        "id": "yM10QQk4xAfg"
      },
      "execution_count": 51,
      "outputs": []
    },
    {
      "cell_type": "markdown",
      "source": [
        "# Реализация алгоритма Метрополиса Гастингса"
      ],
      "metadata": {
        "id": "P8kfCPHuyXq7"
      }
    },
    {
      "cell_type": "code",
      "source": [
        "def Metropolis_Of_Hastings(function_distribution:Mapping, min_number_points:int=100):\n",
        "    start_point = random.random() * 5 - 2.5\n",
        "    count_points = 0\n",
        "    count_iterations = 0\n",
        "    positive_point = list()\n",
        "    while count_points < min_number_points:\n",
        "        new_point = function_distribution(start_point) + np.random.normal(size=1)        \n",
        "        if random.random() < function_distribution(new_point) / function_distribution(start_point):\n",
        "            positive_point.append(new_point[0])\n",
        "            start_point = new_point\n",
        "            count_points += 1\n",
        "        count_iterations += 1\n",
        "    return positive_point, count_iterations"
      ],
      "metadata": {
        "id": "dZSEOSPaxFGB"
      },
      "execution_count": 52,
      "outputs": []
    },
    {
      "cell_type": "markdown",
      "source": [
        "# Результаты работы алгоритма Rejection Sampling"
      ],
      "metadata": {
        "id": "KtHK45mIyezl"
      }
    },
    {
      "cell_type": "markdown",
      "source": [
        "### Первое распределение "
      ],
      "metadata": {
        "id": "M74rwmIZXsJh"
      }
    },
    {
      "cell_type": "code",
      "source": [
        "Show(function_distribution=dist_gaus, function_sampling=Rejection_Sampling, rejection=True)"
      ],
      "metadata": {
        "colab": {
          "base_uri": "https://localhost:8080/",
          "height": 279
        },
        "id": "eJz9eMbZxqgW",
        "outputId": "6d3875f5-94d1-44a6-8bdc-27fddd175ff1"
      },
      "execution_count": 53,
      "outputs": [
        {
          "output_type": "display_data",
          "data": {
            "text/plain": [
              "<Figure size 432x288 with 1 Axes>"
            ],
            "image/png": "[encoded data removed]"
          },
          "metadata": {
            "needs_background": "light"
          }
        }
      ]
    },
    {
      "cell_type": "markdown",
      "source": [
        "### Второе распредение"
      ],
      "metadata": {
        "id": "nBLw24D3X20y"
      }
    },
    {
      "cell_type": "code",
      "source": [
        "Show(function_distribution=dist_exp, function_sampling=Rejection_Sampling, rejection=True)"
      ],
      "metadata": {
        "colab": {
          "base_uri": "https://localhost:8080/",
          "height": 279
        },
        "id": "yP2JLsphXEfv",
        "outputId": "cf0d190a-3bed-4ba9-a4e9-a61777394fe6"
      },
      "execution_count": 54,
      "outputs": [
        {
          "output_type": "display_data",
          "data": {
            "text/plain": [
              "<Figure size 432x288 with 1 Axes>"
            ],
            "image/png": "[encoded data removed]"
          },
          "metadata": {
            "needs_background": "light"
          }
        }
      ]
    },
    {
      "cell_type": "markdown",
      "source": [
        "# Результаты работы алгоритма Метрополиса Гастингса"
      ],
      "metadata": {
        "id": "gdUmWKQyyooV"
      }
    },
    {
      "cell_type": "markdown",
      "source": [
        "### Первое распределение "
      ],
      "metadata": {
        "id": "8j5p7HsMYXDb"
      }
    },
    {
      "cell_type": "code",
      "source": [
        "Show(function_distribution=dist_gaus, function_sampling=Metropolis_Of_Hastings, rejection=False)"
      ],
      "metadata": {
        "colab": {
          "base_uri": "https://localhost:8080/",
          "height": 279
        },
        "id": "ejJ3Uo92yuRq",
        "outputId": "b40fda6c-167d-40c2-80a1-196f4b7bfae7"
      },
      "execution_count": 55,
      "outputs": [
        {
          "output_type": "display_data",
          "data": {
            "text/plain": [
              "<Figure size 432x288 with 1 Axes>"
            ],
            "image/png": "[encoded data removed]"
          },
          "metadata": {
            "needs_background": "light"
          }
        }
      ]
    },
    {
      "cell_type": "markdown",
      "source": [
        "### Второе распредение"
      ],
      "metadata": {
        "id": "-OJYGOI3YZwc"
      }
    },
    {
      "cell_type": "code",
      "source": [
        "Show(function_distribution=dist_exp, function_sampling=Metropolis_Of_Hastings, rejection=False)"
      ],
      "metadata": {
        "id": "if2DcoXG3qFZ",
        "colab": {
          "base_uri": "https://localhost:8080/",
          "height": 279
        },
        "outputId": "e6947059-a39c-463f-fe93-0b7e62e61f09"
      },
      "execution_count": 58,
      "outputs": [
        {
          "output_type": "display_data",
          "data": {
            "text/plain": [
              "<Figure size 432x288 with 1 Axes>"
            ],
            "image/png": "[encoded data removed]"
          },
          "metadata": {
            "needs_background": "light"
          }
        }
      ]
    },
    {
      "cell_type": "code",
      "source": [],
      "metadata": {
        "id": "wC7MHJ5Z3rpl"
      },
      "execution_count": null,
      "outputs": []
    }
  ]
}