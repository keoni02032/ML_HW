{
  "nbformat": 4,
  "nbformat_minor": 0,
  "metadata": {
    "colab": {
      "provenance": []
    },
    "kernelspec": {
      "name": "python3",
      "display_name": "Python 3"
    },
    "language_info": {
      "name": "python"
    }
  },
  "cells": [
    {
      "cell_type": "code",
      "execution_count": null,
      "metadata": {
        "id": "rFZsxH97JobI"
      },
      "outputs": [],
      "source": [
        "import numpy as np\n",
        "from numpy.linalg import norm\n",
        "from matplotlib import pyplot as plt\n",
        "from typing import Tuple, Mapping\n",
        "import numba\n",
        "import timeit"
      ]
    },
    {
      "cell_type": "markdown",
      "source": [
        "### Функция Бута: $f(x, y)=(x + 2y - 7)^2 + (2x + y - 5)^2$\n",
        "\n",
        "### Глобальный минимум: $f(1, 3) = 0$\n",
        "\n",
        "### Метод поиска: $-10 \\leq x, y \\leq 10$"
      ],
      "metadata": {
        "id": "4SwAN71lEXia"
      }
    },
    {
      "cell_type": "code",
      "source": [
        "def func_but(x, y):\n",
        "    return (x + 2 * y - 7) * (x + 2 * y - 7) + (2 * x + y - 5) * (2 * x + y - 5) # исходная функция \n",
        "\n",
        "def dx_but(x, y):\n",
        "    return 10 * x + 8 * y - 34 # производная по х\n",
        "\n",
        "def dy_but(x, y):\n",
        "    return 10 * y + 8 * x - 38 # производня по у"
      ],
      "metadata": {
        "id": "Y_B71LjUJtzN"
      },
      "execution_count": null,
      "outputs": []
    },
    {
      "cell_type": "markdown",
      "source": [
        "### Реализация функции Бута для numba"
      ],
      "metadata": {
        "id": "dFgCv9nmFgEC"
      }
    },
    {
      "cell_type": "code",
      "source": [
        "@numba.njit(fastmath=True)\n",
        "def f(x, y):\n",
        "    return (x + 2 * y - 7) * (x + 2 * y - 7) + (2 * x + y - 5) * (2 * x + y - 5) # исходная функция \n",
        "\n",
        "@numba.njit(fastmath=True)\n",
        "def dx(x, y):\n",
        "    return 10 * x + 8 * y - 34 # производная по х\n",
        "\n",
        "@numba.njit(fastmath=True)\n",
        "def dy(x, y):\n",
        "    return 10 * y + 8 * x - 38 # производня по у"
      ],
      "metadata": {
        "id": "omJDMGs9FeBI"
      },
      "execution_count": null,
      "outputs": []
    },
    {
      "cell_type": "markdown",
      "source": [
        "### Шедулер ака Pytorch StepLR"
      ],
      "metadata": {
        "id": "Vk3qC0m4EuC7"
      }
    },
    {
      "cell_type": "code",
      "source": [
        "class lr_scheduler():\n",
        "    def __init__(self, step_size:int=5000, gamma:float=0.1, lr:float=0.1):\n",
        "        '''\n",
        "        step_size -- количество итераций необходимое для уменьшения скорости обучения\n",
        "        gamma -- коэффициент на который домнажается скорость обучеия каждые step_size шагов\n",
        "        lr -- скорость обучения\n",
        "        '''\n",
        "        self.iter  = 0 # переменная для подсчета шагов\n",
        "        self.step_size = step_size\n",
        "        self.gamma = gamma\n",
        "        self.lr = lr\n",
        "\n",
        "    def step(self):\n",
        "        self.iter += 1\n",
        "        if self.iter == self.step_size: # когда число итераций становится равно заданному порогу -> уменьшаем скорость обучения\n",
        "            self.lr = self.lr * self.gamma\n",
        "            self.iter = 0\n",
        "        return self.lr"
      ],
      "metadata": {
        "id": "gGogQsvDJwHK"
      },
      "execution_count": null,
      "outputs": []
    },
    {
      "cell_type": "markdown",
      "source": [
        "### Реализация алгоритма градиентного спуска"
      ],
      "metadata": {
        "id": "ZnPKB0RsFFwG"
      }
    },
    {
      "cell_type": "code",
      "source": [
        "def GD(f:Mapping, dx:Mapping, dy:Mapping, x0:np.ndarray, y0:np.ndarray, lr_start:float=0.001, iter=100, thr:np.ndarray=None):\n",
        "    '''\n",
        "        f -- исходная функция\n",
        "        dx -- производня по х от исходной функции\n",
        "        dy -- производня по у от исходной функции\n",
        "        x0 -- стартовая точка по координате х\n",
        "        y0 -- стартовая точка по координате у\n",
        "        lr_start -- изначальное значение скорости обучения\n",
        "        iter -- число итераций выполнения алгоритма\n",
        "        thr -- точность вычислений \n",
        "    '''\n",
        "    x_old = x0.copy()\n",
        "    y_old = y0.copy()\n",
        "    \n",
        "    scheduler = lr_scheduler(lr=lr_start)\n",
        "    for i in range(iter):\n",
        "        if np.linalg.norm(dx(x_old, y_old)) > thr[0] and np.linalg.norm(dy(x_old, y_old)) > thr[0]:\n",
        "            gradX = dx(x_old, y_old)\n",
        "            gradY = dy(x_old, y_old)\n",
        "            x_old = x_old - scheduler.lr * gradX\n",
        "            y_old = y_old - scheduler.lr * gradY\n",
        "            scheduler.step()\n",
        "    plt.show()\n",
        "    return x_old, y_old"
      ],
      "metadata": {
        "id": "czMrXaQ7J4mb"
      },
      "execution_count": null,
      "outputs": []
    },
    {
      "cell_type": "markdown",
      "source": [
        "### Реализация алгоритма градиентного спуска с использованием Numba"
      ],
      "metadata": {
        "id": "6hIyMdw9F5NC"
      }
    },
    {
      "cell_type": "code",
      "source": [
        "@numba.njit(fastmath=True)\n",
        "def GD_numba(x0:np.ndarray, y0:np.ndarray, lr_start:float=0.001, iter:np.ndarray=100, thr:np.ndarray=None, step_size:int=5000, gamma:float=0.1):\n",
        "    '''\n",
        "        x0 -- стартовая точка по координате х\n",
        "        y0 -- стартовая точка по координате у\n",
        "        lr_start -- изначальное значение скорости обучения\n",
        "        iter -- число итераций выполнения алгоритма\n",
        "        thr -- точность вычислений\n",
        "        step_size -- колличество шагов необходимоее для уменьшения скорости обучения\n",
        "        gamma -- коэффициент уменьшения скорости обучения\n",
        "    '''\n",
        "    x_old = x0.copy()\n",
        "    y_old = y0.copy()\n",
        "    t = thr.copy()\n",
        "    iteration = 0\n",
        "    while iter[0] > 0:\n",
        "        a = np.array([dx(x_old[0], y_old[0])])\n",
        "        if norm(np.array([dx(x_old[0], y_old[0])])) > thr[0] and norm(np.array([dy(x_old[0], y_old[0])])) > thr[0]:\n",
        "            gradX = dx(x_old, y_old)\n",
        "            gradY = dy(x_old, y_old)\n",
        "            x_old = x_old - lr_start * gradX\n",
        "            y_old = y_old - lr_start * gradY\n",
        "            iteration += 1\n",
        "            if iter == step_size:\n",
        "                iteration = 0\n",
        "                lr_start = lr_start * gamma\n",
        "        iter -= 1\n",
        "    return x_old, y_old"
      ],
      "metadata": {
        "id": "Hq3YyM5RKADx"
      },
      "execution_count": null,
      "outputs": []
    },
    {
      "cell_type": "markdown",
      "source": [
        "### Результаты и время работы обысного алгоритма"
      ],
      "metadata": {
        "id": "Rp_o1z2qKfFx"
      }
    },
    {
      "cell_type": "code",
      "source": [
        "x, y = GD(f=func_but, dx=dx_but, dy=dy_but, x0=np.array([-1]), y0=np.array([-1]), iter=10000, thr=np.array([1e-10]))\n",
        "print(f\"Начальная точка: [{-1}], [{-1}]\")\n",
        "print(f'Точка найденного минимума: {x}, {y}')\n",
        "print(f'Значение функции в найденной точке: {func_but(x, y)}')\n",
        "%timeit -n100 GD(f=func_but, dx=dx_but, dy=dy_but, x0=np.array([-1]), y0=np.array([-1]), iter=100, thr=np.array([10]))"
      ],
      "metadata": {
        "colab": {
          "base_uri": "https://localhost:8080/"
        },
        "id": "dX2l8DH2J-e2",
        "outputId": "252a46bb-6b41-47db-9410-a076b5a26540"
      },
      "execution_count": null,
      "outputs": [
        {
          "output_type": "stream",
          "name": "stdout",
          "text": [
            "Начальная точка: [-1], [-1]\n",
            "Точка найденного минимума: [1.00001653], [2.99998347]\n",
            "Значение функции в найденной точке: [5.4672261e-10]\n",
            "3.45 ms ± 475 µs per loop (mean ± std. dev. of 7 runs, 100 loops each)\n"
          ]
        }
      ]
    },
    {
      "cell_type": "markdown",
      "source": [
        "### Результаты и время работы алгоритма ускоренного Numba\n",
        "\n",
        "##### (отвык я от типизации, было очень трудно втянуться и зафиксить все ворнинги и ошибки)"
      ],
      "metadata": {
        "id": "AfYSlrTCKXjH"
      }
    },
    {
      "cell_type": "code",
      "source": [
        "x, y = GD_numba(x0=np.array([-1.0]), y0=np.array([-1.0]), iter=np.array([10000]), thr=np.array([1e-10]))\n",
        "print(f\"Начальная точка: [{-1}], [{-1}]\")\n",
        "print(f'Точка найденного минимума: {x}, {y}')\n",
        "print(f'Значение функции в найденной точке: {func_but(x, y)}')\n",
        "%timeit -n100 GD_numba(x0=np.array([-1.0]), y0=np.array([-1.0]), iter=np.array([300]), thr=np.array([1e-10]))"
      ],
      "metadata": {
        "colab": {
          "base_uri": "https://localhost:8080/"
        },
        "id": "YdxQIu5GKKP_",
        "outputId": "51db85fa-f556-48ba-fcd8-7b6a9e641485"
      },
      "execution_count": null,
      "outputs": [
        {
          "output_type": "stream",
          "name": "stdout",
          "text": [
            "Начальная точка: [-1], [-1]\n",
            "Точка найденного минимума: [1.0000165], [2.9999835]\n",
            "Значение функции в найденной точке: [5.44755788e-10]\n",
            "734 µs ± 51.2 µs per loop (mean ± std. dev. of 7 runs, 100 loops each)\n"
          ]
        }
      ]
    },
    {
      "cell_type": "code",
      "source": [],
      "metadata": {
        "id": "4RLKz9EsKQPt"
      },
      "execution_count": null,
      "outputs": []
    }
  ]
}