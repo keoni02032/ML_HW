{
  "nbformat": 4,
  "nbformat_minor": 0,
  "metadata": {
    "colab": {
      "provenance": []
    },
    "kernelspec": {
      "name": "python3",
      "display_name": "Python 3"
    },
    "language_info": {
      "name": "python"
    }
  },
  "cells": [
    {
      "cell_type": "code",
      "execution_count": 1,
      "metadata": {
        "id": "TJfqOwPsfZS8"
      },
      "outputs": [],
      "source": [
        "# collective communication \n",
        "# Решить по аналогии интегрирование метода монтекарла методом сэмплирования \n",
        "# алгоритм востановления плотности \n",
        "# 1)написать 3 штуки генератора данных(точуи на плоскости) рвномерное, гаусиана и два пика \n",
        "# 2)написать реализацию метода парзена-розенблата\n",
        "# 3) На тостовых даннх 2 на 1 востанавливаем плотность в виде картинок PR(h, k) вывести картинку \n",
        "# 4) для одного из трех наборов применить оптимизацию ширины окна методом liave one out (LOO)\n",
        "# 5) Для данных с двумя горбами или более горбами применить EM алгоритм из sklearn (после применения можем напечать параметры на эеран, посмотреть кол-во итераций, нарисовать графики по парамертам в гайде sklearn есть примеры)"
      ]
    },
    {
      "cell_type": "code",
      "source": [
        "import numpy as np\n",
        "from matplotlib import pyplot as plt\n",
        "%matplotlib inline\n",
        "\n",
        "data_size = 1000"
      ],
      "metadata": {
        "id": "-rppr8r8ffkB"
      },
      "execution_count": 2,
      "outputs": []
    },
    {
      "cell_type": "markdown",
      "source": [
        "# Генерация данных\n",
        "\n",
        "### Равномерное распределение"
      ],
      "metadata": {
        "id": "5xoxY1xPflyo"
      }
    },
    {
      "cell_type": "code",
      "source": [
        "clust_a = np.random.uniform(1, 4, size=data_size)\n",
        "a_hist = plt.hist(clust_a, bins=100, color='red')"
      ],
      "metadata": {
        "colab": {
          "base_uri": "https://localhost:8080/",
          "height": 265
        },
        "id": "e44oQcI0f7x2",
        "outputId": "b9202b2e-3e8a-488d-96a8-859bfb80b04f"
      },
      "execution_count": 5,
      "outputs": [
        {
          "output_type": "display_data",
          "data": {
            "text/plain": [
              "<Figure size 432x288 with 1 Axes>"
            ],
            "image/png": "[encoded data removed]"
          },
          "metadata": {
            "needs_background": "light"
          }
        }
      ]
    },
    {
      "cell_type": "markdown",
      "source": [
        "### Гаусиана"
      ],
      "metadata": {
        "id": "4NKx3iYYf9FG"
      }
    },
    {
      "cell_type": "code",
      "source": [
        "gaus_dist_clustter_a = np.random.normal(-4, 3, size=data_size)\n",
        "\n",
        "b_hist = plt.hist(gaus_dist_clustter_b, bins=100, color='green')"
      ],
      "metadata": {
        "colab": {
          "base_uri": "https://localhost:8080/",
          "height": 265
        },
        "id": "tUS7509-gARM",
        "outputId": "339a788e-3fee-4c74-fb4f-efa09aecf151"
      },
      "execution_count": 6,
      "outputs": [
        {
          "output_type": "display_data",
          "data": {
            "text/plain": [
              "<Figure size 432x288 with 1 Axes>"
            ],
            "image/png": "[encoded data removed]"
          },
          "metadata": {
            "needs_background": "light"
          }
        }
      ]
    },
    {
      "cell_type": "markdown",
      "source": [
        "### Распределение с двумя пиками"
      ],
      "metadata": {
        "id": "ivUEnr2XTdyZ"
      }
    },
    {
      "cell_type": "code",
      "source": [
        "gaus_dist_clustter_b = np.random.normal(4, 3, size=data_size)\n",
        "\n",
        "gaus_dist = np.hstack((gaus_dist_clustter_a, gaus_dist_clustter_b))\n",
        "gaus = np.array([gaus_dist_clustter_a, gaus_dist_clustter_b])\n",
        "\n",
        "a_hist = plt.hist(gaus_dist, bins=100, color='red')"
      ],
      "metadata": {
        "colab": {
          "base_uri": "https://localhost:8080/",
          "height": 265
        },
        "id": "wxhx6E9yOq0o",
        "outputId": "2111d97c-eaf9-49b9-8db3-b3a6c7656c9b"
      },
      "execution_count": 8,
      "outputs": [
        {
          "output_type": "display_data",
          "data": {
            "text/plain": [
              "<Figure size 432x288 with 1 Axes>"
            ],
            "image/png": "[encoded data removed]"
          },
          "metadata": {
            "needs_background": "light"
          }
        }
      ]
    },
    {
      "cell_type": "markdown",
      "source": [
        "# Реализация алгоритма Парзена Розенблата"
      ],
      "metadata": {
        "id": "bOB6Ke-UgIA-"
      }
    },
    {
      "cell_type": "code",
      "source": [
        "import math\n",
        "\n",
        "def probability_density(x):\n",
        "    return 1 / ((2 * math.pi) ** 0.5) * np.exp(-1/2 * (x ** 2))\n",
        "\n",
        "def EM(x, h, data):\n",
        "    return sum([probability_density((x - i) / h) for i in data]) / (len(data) * h)\n",
        "\n",
        "\n",
        "x = np.linspace(min(gaus_dist_clustter_a), max(gaus_dist_clustter_a), len(gaus_dist_clustter_a))\n",
        "\n",
        "plt.hist(gaus_dist_clustter_a, bins=100, density=True, color='red')\n",
        "plt.plot(x, EM(x, 0.5, gaus_dist_clustter_a))"
      ],
      "metadata": {
        "colab": {
          "base_uri": "https://localhost:8080/",
          "height": 283
        },
        "id": "nQVqnOl3gT_8",
        "outputId": "eba237f9-d0f6-441e-96bc-896ecdfaa0ad"
      },
      "execution_count": 9,
      "outputs": [
        {
          "output_type": "execute_result",
          "data": {
            "text/plain": [
              "[<matplotlib.lines.Line2D at 0x7fe7e5b91190>]"
            ]
          },
          "metadata": {},
          "execution_count": 9
        },
        {
          "output_type": "display_data",
          "data": {
            "text/plain": [
              "<Figure size 432x288 with 1 Axes>"
            ],
            "image/png": "[encoded data removed]"
          },
          "metadata": {
            "needs_background": "light"
          }
        }
      ]
    },
    {
      "cell_type": "markdown",
      "source": [
        "### Востанавливаем плотность на тестовых данных"
      ],
      "metadata": {
        "id": "DujhSgZjgdlf"
      }
    },
    {
      "cell_type": "code",
      "source": [
        "x = np.linspace(min(clust_a), max(clust_a), len(clust_a))\n",
        "\n",
        "plt.hist(clust_a, bins=100, density=True, color='red')\n",
        "plt.plot(x, EM(x, 0.2, clust_a))"
      ],
      "metadata": {
        "id": "dpeA5yRDgkvh",
        "colab": {
          "base_uri": "https://localhost:8080/",
          "height": 283
        },
        "outputId": "76d6d4e0-1163-4c0f-d783-1fb37b0cc4f4"
      },
      "execution_count": 13,
      "outputs": [
        {
          "output_type": "execute_result",
          "data": {
            "text/plain": [
              "[<matplotlib.lines.Line2D at 0x7fe7e5f83e50>]"
            ]
          },
          "metadata": {},
          "execution_count": 13
        },
        {
          "output_type": "display_data",
          "data": {
            "text/plain": [
              "<Figure size 432x288 with 1 Axes>"
            ],
            "image/png": "[encoded data removed]"
          },
          "metadata": {
            "needs_background": "light"
          }
        }
      ]
    },
    {
      "cell_type": "markdown",
      "source": [
        "# Оптимизация ширины окна методом LOO"
      ],
      "metadata": {
        "id": "EYuHw7bcgqAt"
      }
    },
    {
      "cell_type": "code",
      "source": [
        "def LOO(data: list, h: float) -> float:\n",
        "    return -sum([math.log(EM(data[i], h, data)) for i in range(len(data))])\n",
        "\n",
        "plt.hist(gaus_dist_clustter_a, bins=100, density=True, color='red')\n",
        "LOO(gaus_dist_clustter_a, 0.5)"
      ],
      "metadata": {
        "colab": {
          "base_uri": "https://localhost:8080/",
          "height": 283
        },
        "id": "1dSjCsulgzuu",
        "outputId": "257b4f91-8127-474b-875b-bfc7d07022ab"
      },
      "execution_count": 14,
      "outputs": [
        {
          "output_type": "execute_result",
          "data": {
            "text/plain": [
              "2497.6330860546823"
            ]
          },
          "metadata": {},
          "execution_count": 14
        },
        {
          "output_type": "display_data",
          "data": {
            "text/plain": [
              "<Figure size 432x288 with 1 Axes>"
            ],
            "image/png": "[encoded data removed]"
          },
          "metadata": {
            "needs_background": "light"
          }
        }
      ]
    },
    {
      "cell_type": "markdown",
      "source": [
        "# Применение EM алгоритма из sklearn для данных с двумя горбами"
      ],
      "metadata": {
        "id": "lZ55AlUSg6Cn"
      }
    },
    {
      "cell_type": "code",
      "source": [
        "from sklearn.mixture import GaussianMixture\n",
        "\n",
        "gaus_dist = gaus_dist.reshape(-1, 1)\n",
        "print(np.array(gaus_dist).shape)\n",
        "gm = GaussianMixture(n_components=2, random_state=0).fit(gaus_dist)\n",
        "x = np.linspace(0, 1, 1000)\n",
        "y_red = gm.predict_proba(np.array(x).reshape(-1, 1))[:,0]\n",
        "y_blue = gm.predict_proba(np.array(x).reshape(-1, 1))[:,1]\n",
        "plt.plot(x, y_red, color = 'red')\n",
        "plt.plot(x, y_blue, color = 'blue')"
      ],
      "metadata": {
        "colab": {
          "base_uri": "https://localhost:8080/",
          "height": 301
        },
        "id": "wmRaC9zxhGGo",
        "outputId": "a61bef12-0524-4c7a-f3a7-ca3c077708e7"
      },
      "execution_count": 15,
      "outputs": [
        {
          "output_type": "stream",
          "name": "stdout",
          "text": [
            "(2000, 1)\n"
          ]
        },
        {
          "output_type": "execute_result",
          "data": {
            "text/plain": [
              "[<matplotlib.lines.Line2D at 0x7fe7db7359d0>]"
            ]
          },
          "metadata": {},
          "execution_count": 15
        },
        {
          "output_type": "display_data",
          "data": {
            "text/plain": [
              "<Figure size 432x288 with 1 Axes>"
            ],
            "image/png": "[encoded data removed]"
          },
          "metadata": {
            "needs_background": "light"
          }
        }
      ]
    },
    {
      "cell_type": "code",
      "source": [],
      "metadata": {
        "id": "gTHbW8kVUWXy"
      },
      "execution_count": null,
      "outputs": []
    }
  ]
}